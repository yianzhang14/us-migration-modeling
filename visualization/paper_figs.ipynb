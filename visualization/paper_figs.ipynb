{
 "cells": [
  {
   "cell_type": "code",
   "execution_count": 1,
   "metadata": {},
   "outputs": [],
   "source": [
    "import numpy as np\n",
    "import pandas as pd\n",
    "import matplotlib.pyplot as plt\n",
    "import seaborn as sns"
   ]
  },
  {
   "cell_type": "code",
   "execution_count": 2,
   "metadata": {},
   "outputs": [],
   "source": [
    "df = pd.read_csv(\"data/us_estdata_full.csv\")"
   ]
  },
  {
   "cell_type": "code",
   "execution_count": 3,
   "metadata": {},
   "outputs": [],
   "source": [
    "# reading in external data\n",
    "puma_acs_data = pd.read_csv(\"data/ACS_2018.csv\")\n",
    "puma_lodes_data = pd.read_csv(\"data/wac_puma.csv\")\n",
    "\n",
    "puma_acs_data[\"PUMA\"] = puma_acs_data[\"PUMA\"].astype(str).str.zfill(7)\n",
    "puma_acs_data = puma_acs_data.set_index(\"PUMA\")\n",
    "\n",
    "puma_acs_data = puma_acs_data[~puma_acs_data[\"Geo_STATE\"].isin([2, 15, 72])]\n",
    "\n",
    "puma_lodes_data[\"puma\"] = puma_lodes_data[\"puma\"].astype(str).str.zfill(7)\n",
    "puma_lodes_data = puma_lodes_data.set_index(\"puma\")"
   ]
  },
  {
   "cell_type": "code",
   "execution_count": 4,
   "metadata": {},
   "outputs": [],
   "source": [
    "leave_puma = pd.read_csv(\"data/leave_puma.csv\")\n",
    "leave_puma[\"CHOSEN\"] = leave_puma[\"CHOSEN\"].astype(str).str.zfill(7)\n",
    "leave_puma = leave_puma.set_index(\"CHOSEN\")\n",
    "leave_puma[\"UNEMP_PCT\"] = leave_puma[\"UNEMP\"] / (leave_puma[\"EMP\"] + leave_puma[\"UNEMP\"])"
   ]
  },
  {
   "cell_type": "code",
   "execution_count": 5,
   "metadata": {},
   "outputs": [
    {
     "data": {
      "text/html": [
       "<div>\n",
       "<style scoped>\n",
       "    .dataframe tbody tr th:only-of-type {\n",
       "        vertical-align: middle;\n",
       "    }\n",
       "\n",
       "    .dataframe tbody tr th {\n",
       "        vertical-align: top;\n",
       "    }\n",
       "\n",
       "    .dataframe thead th {\n",
       "        text-align: right;\n",
       "    }\n",
       "</style>\n",
       "<table border=\"1\" class=\"dataframe\">\n",
       "  <thead>\n",
       "    <tr style=\"text-align: right;\">\n",
       "      <th></th>\n",
       "      <th>Geo_FIPS</th>\n",
       "      <th>Geo_GEOID</th>\n",
       "      <th>Geo_NAME</th>\n",
       "      <th>Geo_QName</th>\n",
       "      <th>Geo_STUSAB</th>\n",
       "      <th>Geo_LOGRECNO</th>\n",
       "      <th>Geo_STATE</th>\n",
       "      <th>Geo_PUMA5</th>\n",
       "      <th>Total Population</th>\n",
       "      <th>Population Density (Per Sq. Mile)</th>\n",
       "      <th>...</th>\n",
       "      <th>HINCP</th>\n",
       "      <th>SMOCP</th>\n",
       "      <th>PINCP</th>\n",
       "      <th>HH_COST</th>\n",
       "      <th>PERNP</th>\n",
       "      <th>WAGP</th>\n",
       "      <th>UNEMP</th>\n",
       "      <th>EMP</th>\n",
       "      <th>type</th>\n",
       "      <th>UNEMP_PCT</th>\n",
       "    </tr>\n",
       "  </thead>\n",
       "  <tbody>\n",
       "    <tr>\n",
       "      <th>0100100</th>\n",
       "      <td>100100</td>\n",
       "      <td>79500US0100100</td>\n",
       "      <td>Lauderdale, Colbert, Franklin &amp; Marion (Northe...</td>\n",
       "      <td>Lauderdale, Alabama</td>\n",
       "      <td>al</td>\n",
       "      <td>57</td>\n",
       "      <td>1</td>\n",
       "      <td>100</td>\n",
       "      <td>184923</td>\n",
       "      <td>223.027706</td>\n",
       "      <td>...</td>\n",
       "      <td>33550.0</td>\n",
       "      <td>753.0</td>\n",
       "      <td>21800.0</td>\n",
       "      <td>0.262523</td>\n",
       "      <td>21800.0</td>\n",
       "      <td>20500.0</td>\n",
       "      <td>3</td>\n",
       "      <td>83</td>\n",
       "      <td>leavers</td>\n",
       "      <td>0.034884</td>\n",
       "    </tr>\n",
       "    <tr>\n",
       "      <th>0100200</th>\n",
       "      <td>100200</td>\n",
       "      <td>79500US0100200</td>\n",
       "      <td>Limestone &amp; Madison (Outer) Counties--Huntsvil...</td>\n",
       "      <td>Limestone &amp; Madison (Outer) Counties--Huntsvil...</td>\n",
       "      <td>al</td>\n",
       "      <td>58</td>\n",
       "      <td>1</td>\n",
       "      <td>200</td>\n",
       "      <td>196618</td>\n",
       "      <td>237.132544</td>\n",
       "      <td>...</td>\n",
       "      <td>70000.0</td>\n",
       "      <td>1107.0</td>\n",
       "      <td>35000.0</td>\n",
       "      <td>0.162381</td>\n",
       "      <td>34000.0</td>\n",
       "      <td>34000.0</td>\n",
       "      <td>3</td>\n",
       "      <td>86</td>\n",
       "      <td>leavers</td>\n",
       "      <td>0.033708</td>\n",
       "    </tr>\n",
       "    <tr>\n",
       "      <th>0100301</th>\n",
       "      <td>100301</td>\n",
       "      <td>79500US0100301</td>\n",
       "      <td>Huntsville (North) &amp; Madison (East) Cities PUM...</td>\n",
       "      <td>Huntsville (North) &amp; Madison (East) Cities PUM...</td>\n",
       "      <td>al</td>\n",
       "      <td>59</td>\n",
       "      <td>1</td>\n",
       "      <td>301</td>\n",
       "      <td>133112</td>\n",
       "      <td>1459.688320</td>\n",
       "      <td>...</td>\n",
       "      <td>63600.0</td>\n",
       "      <td>977.0</td>\n",
       "      <td>30000.0</td>\n",
       "      <td>0.175737</td>\n",
       "      <td>30000.0</td>\n",
       "      <td>28600.0</td>\n",
       "      <td>8</td>\n",
       "      <td>77</td>\n",
       "      <td>leavers</td>\n",
       "      <td>0.094118</td>\n",
       "    </tr>\n",
       "    <tr>\n",
       "      <th>0100302</th>\n",
       "      <td>100302</td>\n",
       "      <td>79500US0100302</td>\n",
       "      <td>Huntsville City (Central &amp; South) PUMA, Alabama</td>\n",
       "      <td>Huntsville City (Central &amp; South) PUMA, Alabama</td>\n",
       "      <td>al</td>\n",
       "      <td>60</td>\n",
       "      <td>1</td>\n",
       "      <td>302</td>\n",
       "      <td>101737</td>\n",
       "      <td>1634.875764</td>\n",
       "      <td>...</td>\n",
       "      <td>55000.0</td>\n",
       "      <td>1131.0</td>\n",
       "      <td>30000.0</td>\n",
       "      <td>0.217411</td>\n",
       "      <td>29050.0</td>\n",
       "      <td>28150.0</td>\n",
       "      <td>6</td>\n",
       "      <td>92</td>\n",
       "      <td>leavers</td>\n",
       "      <td>0.061224</td>\n",
       "    </tr>\n",
       "    <tr>\n",
       "      <th>0100400</th>\n",
       "      <td>100400</td>\n",
       "      <td>79500US0100400</td>\n",
       "      <td>DeKalb &amp; Jackson Counties PUMA, Alabama</td>\n",
       "      <td>DeKalb &amp; Jackson Counties PUMA, Alabama</td>\n",
       "      <td>al</td>\n",
       "      <td>61</td>\n",
       "      <td>1</td>\n",
       "      <td>400</td>\n",
       "      <td>123121</td>\n",
       "      <td>148.490962</td>\n",
       "      <td>...</td>\n",
       "      <td>35600.0</td>\n",
       "      <td>775.0</td>\n",
       "      <td>28600.0</td>\n",
       "      <td>0.159860</td>\n",
       "      <td>27000.0</td>\n",
       "      <td>27000.0</td>\n",
       "      <td>6</td>\n",
       "      <td>43</td>\n",
       "      <td>leavers</td>\n",
       "      <td>0.122449</td>\n",
       "    </tr>\n",
       "    <tr>\n",
       "      <th>...</th>\n",
       "      <td>...</td>\n",
       "      <td>...</td>\n",
       "      <td>...</td>\n",
       "      <td>...</td>\n",
       "      <td>...</td>\n",
       "      <td>...</td>\n",
       "      <td>...</td>\n",
       "      <td>...</td>\n",
       "      <td>...</td>\n",
       "      <td>...</td>\n",
       "      <td>...</td>\n",
       "      <td>...</td>\n",
       "      <td>...</td>\n",
       "      <td>...</td>\n",
       "      <td>...</td>\n",
       "      <td>...</td>\n",
       "      <td>...</td>\n",
       "      <td>...</td>\n",
       "      <td>...</td>\n",
       "      <td>...</td>\n",
       "      <td>...</td>\n",
       "    </tr>\n",
       "    <tr>\n",
       "      <th>5600100</th>\n",
       "      <td>5600100</td>\n",
       "      <td>79500US5600100</td>\n",
       "      <td>Sheridan, Park, Teton, Lincoln &amp; Big Horn Coun...</td>\n",
       "      <td>Sheridan, Wyoming</td>\n",
       "      <td>wy</td>\n",
       "      <td>15</td>\n",
       "      <td>56</td>\n",
       "      <td>100</td>\n",
       "      <td>120358</td>\n",
       "      <td>145.158626</td>\n",
       "      <td>...</td>\n",
       "      <td>55900.0</td>\n",
       "      <td>1001.0</td>\n",
       "      <td>26000.0</td>\n",
       "      <td>0.180750</td>\n",
       "      <td>26000.0</td>\n",
       "      <td>25000.0</td>\n",
       "      <td>3</td>\n",
       "      <td>84</td>\n",
       "      <td>leavers</td>\n",
       "      <td>0.034483</td>\n",
       "    </tr>\n",
       "    <tr>\n",
       "      <th>5600200</th>\n",
       "      <td>5600200</td>\n",
       "      <td>79500US5600200</td>\n",
       "      <td>Campbell, Goshen, Platte, Johnson, Washakie, W...</td>\n",
       "      <td>Campbell, Wyoming</td>\n",
       "      <td>wy</td>\n",
       "      <td>16</td>\n",
       "      <td>56</td>\n",
       "      <td>200</td>\n",
       "      <td>96610</td>\n",
       "      <td>116.517181</td>\n",
       "      <td>...</td>\n",
       "      <td>61000.0</td>\n",
       "      <td>1130.0</td>\n",
       "      <td>35000.0</td>\n",
       "      <td>0.193548</td>\n",
       "      <td>25000.0</td>\n",
       "      <td>25000.0</td>\n",
       "      <td>2</td>\n",
       "      <td>41</td>\n",
       "      <td>leavers</td>\n",
       "      <td>0.046512</td>\n",
       "    </tr>\n",
       "    <tr>\n",
       "      <th>5600300</th>\n",
       "      <td>5600300</td>\n",
       "      <td>79500US5600300</td>\n",
       "      <td>Laramie &amp; Albany Counties PUMA, Wyoming</td>\n",
       "      <td>Laramie &amp; Albany Counties PUMA, Wyoming</td>\n",
       "      <td>wy</td>\n",
       "      <td>17</td>\n",
       "      <td>56</td>\n",
       "      <td>300</td>\n",
       "      <td>137577</td>\n",
       "      <td>165.925724</td>\n",
       "      <td>...</td>\n",
       "      <td>42620.0</td>\n",
       "      <td>1338.0</td>\n",
       "      <td>20000.0</td>\n",
       "      <td>0.277500</td>\n",
       "      <td>19000.0</td>\n",
       "      <td>18000.0</td>\n",
       "      <td>12</td>\n",
       "      <td>135</td>\n",
       "      <td>leavers</td>\n",
       "      <td>0.081633</td>\n",
       "    </tr>\n",
       "    <tr>\n",
       "      <th>5600400</th>\n",
       "      <td>5600400</td>\n",
       "      <td>79500US5600400</td>\n",
       "      <td>Natrona, Carbon &amp; Converse Counties PUMA; Wyoming</td>\n",
       "      <td>Natrona, Wyoming</td>\n",
       "      <td>wy</td>\n",
       "      <td>18</td>\n",
       "      <td>56</td>\n",
       "      <td>400</td>\n",
       "      <td>109633</td>\n",
       "      <td>132.223663</td>\n",
       "      <td>...</td>\n",
       "      <td>61500.0</td>\n",
       "      <td>1206.5</td>\n",
       "      <td>25000.0</td>\n",
       "      <td>0.183302</td>\n",
       "      <td>24200.0</td>\n",
       "      <td>24000.0</td>\n",
       "      <td>2</td>\n",
       "      <td>60</td>\n",
       "      <td>leavers</td>\n",
       "      <td>0.032258</td>\n",
       "    </tr>\n",
       "    <tr>\n",
       "      <th>5600500</th>\n",
       "      <td>5600500</td>\n",
       "      <td>79500US5600500</td>\n",
       "      <td>Sweetwater, Fremont, Uinta, Sublette &amp; Hot Spr...</td>\n",
       "      <td>Sweetwater, Wyoming</td>\n",
       "      <td>wy</td>\n",
       "      <td>19</td>\n",
       "      <td>56</td>\n",
       "      <td>500</td>\n",
       "      <td>113559</td>\n",
       "      <td>136.958643</td>\n",
       "      <td>...</td>\n",
       "      <td>52500.0</td>\n",
       "      <td>870.0</td>\n",
       "      <td>26500.0</td>\n",
       "      <td>0.217664</td>\n",
       "      <td>25500.0</td>\n",
       "      <td>25500.0</td>\n",
       "      <td>5</td>\n",
       "      <td>85</td>\n",
       "      <td>leavers</td>\n",
       "      <td>0.055556</td>\n",
       "    </tr>\n",
       "  </tbody>\n",
       "</table>\n",
       "<p>2336 rows × 204 columns</p>\n",
       "</div>"
      ],
      "text/plain": [
       "         Geo_FIPS       Geo_GEOID  \\\n",
       "0100100    100100  79500US0100100   \n",
       "0100200    100200  79500US0100200   \n",
       "0100301    100301  79500US0100301   \n",
       "0100302    100302  79500US0100302   \n",
       "0100400    100400  79500US0100400   \n",
       "...           ...             ...   \n",
       "5600100   5600100  79500US5600100   \n",
       "5600200   5600200  79500US5600200   \n",
       "5600300   5600300  79500US5600300   \n",
       "5600400   5600400  79500US5600400   \n",
       "5600500   5600500  79500US5600500   \n",
       "\n",
       "                                                  Geo_NAME  \\\n",
       "0100100  Lauderdale, Colbert, Franklin & Marion (Northe...   \n",
       "0100200  Limestone & Madison (Outer) Counties--Huntsvil...   \n",
       "0100301  Huntsville (North) & Madison (East) Cities PUM...   \n",
       "0100302    Huntsville City (Central & South) PUMA, Alabama   \n",
       "0100400            DeKalb & Jackson Counties PUMA, Alabama   \n",
       "...                                                    ...   \n",
       "5600100  Sheridan, Park, Teton, Lincoln & Big Horn Coun...   \n",
       "5600200  Campbell, Goshen, Platte, Johnson, Washakie, W...   \n",
       "5600300            Laramie & Albany Counties PUMA, Wyoming   \n",
       "5600400  Natrona, Carbon & Converse Counties PUMA; Wyoming   \n",
       "5600500  Sweetwater, Fremont, Uinta, Sublette & Hot Spr...   \n",
       "\n",
       "                                                 Geo_QName Geo_STUSAB  \\\n",
       "0100100                                Lauderdale, Alabama         al   \n",
       "0100200  Limestone & Madison (Outer) Counties--Huntsvil...         al   \n",
       "0100301  Huntsville (North) & Madison (East) Cities PUM...         al   \n",
       "0100302    Huntsville City (Central & South) PUMA, Alabama         al   \n",
       "0100400            DeKalb & Jackson Counties PUMA, Alabama         al   \n",
       "...                                                    ...        ...   \n",
       "5600100                                  Sheridan, Wyoming         wy   \n",
       "5600200                                  Campbell, Wyoming         wy   \n",
       "5600300            Laramie & Albany Counties PUMA, Wyoming         wy   \n",
       "5600400                                   Natrona, Wyoming         wy   \n",
       "5600500                                Sweetwater, Wyoming         wy   \n",
       "\n",
       "         Geo_LOGRECNO  Geo_STATE  Geo_PUMA5  Total Population  \\\n",
       "0100100            57          1        100            184923   \n",
       "0100200            58          1        200            196618   \n",
       "0100301            59          1        301            133112   \n",
       "0100302            60          1        302            101737   \n",
       "0100400            61          1        400            123121   \n",
       "...               ...        ...        ...               ...   \n",
       "5600100            15         56        100            120358   \n",
       "5600200            16         56        200             96610   \n",
       "5600300            17         56        300            137577   \n",
       "5600400            18         56        400            109633   \n",
       "5600500            19         56        500            113559   \n",
       "\n",
       "         Population Density (Per Sq. Mile)  ...    HINCP   SMOCP    PINCP  \\\n",
       "0100100                         223.027706  ...  33550.0   753.0  21800.0   \n",
       "0100200                         237.132544  ...  70000.0  1107.0  35000.0   \n",
       "0100301                        1459.688320  ...  63600.0   977.0  30000.0   \n",
       "0100302                        1634.875764  ...  55000.0  1131.0  30000.0   \n",
       "0100400                         148.490962  ...  35600.0   775.0  28600.0   \n",
       "...                                    ...  ...      ...     ...      ...   \n",
       "5600100                         145.158626  ...  55900.0  1001.0  26000.0   \n",
       "5600200                         116.517181  ...  61000.0  1130.0  35000.0   \n",
       "5600300                         165.925724  ...  42620.0  1338.0  20000.0   \n",
       "5600400                         132.223663  ...  61500.0  1206.5  25000.0   \n",
       "5600500                         136.958643  ...  52500.0   870.0  26500.0   \n",
       "\n",
       "          HH_COST    PERNP     WAGP  UNEMP  EMP     type  UNEMP_PCT  \n",
       "0100100  0.262523  21800.0  20500.0      3   83  leavers   0.034884  \n",
       "0100200  0.162381  34000.0  34000.0      3   86  leavers   0.033708  \n",
       "0100301  0.175737  30000.0  28600.0      8   77  leavers   0.094118  \n",
       "0100302  0.217411  29050.0  28150.0      6   92  leavers   0.061224  \n",
       "0100400  0.159860  27000.0  27000.0      6   43  leavers   0.122449  \n",
       "...           ...      ...      ...    ...  ...      ...        ...  \n",
       "5600100  0.180750  26000.0  25000.0      3   84  leavers   0.034483  \n",
       "5600200  0.193548  25000.0  25000.0      2   41  leavers   0.046512  \n",
       "5600300  0.277500  19000.0  18000.0     12  135  leavers   0.081633  \n",
       "5600400  0.183302  24200.0  24000.0      2   60  leavers   0.032258  \n",
       "5600500  0.217664  25500.0  25500.0      5   85  leavers   0.055556  \n",
       "\n",
       "[2336 rows x 204 columns]"
      ]
     },
     "execution_count": 5,
     "metadata": {},
     "output_type": "execute_result"
    }
   ],
   "source": [
    "pumas = pd.concat([puma_acs_data, puma_lodes_data, leave_puma], axis=1).dropna(subset=[\"Geo_FIPS\"])\n",
    "pumas"
   ]
  },
  {
   "cell_type": "code",
   "execution_count": 6,
   "metadata": {},
   "outputs": [
    {
     "data": {
      "text/plain": [
       "1    2202915\n",
       "0     327984\n",
       "Name: STAY, dtype: int64"
      ]
     },
     "execution_count": 6,
     "metadata": {},
     "output_type": "execute_result"
    }
   ],
   "source": [
    "df[\"STAY\"].value_counts()"
   ]
  },
  {
   "cell_type": "code",
   "execution_count": 7,
   "metadata": {},
   "outputs": [],
   "source": [
    "df[\"STAY_str\"] = np.where(df[\"STAY\"] == 0, \"Leavers\", \"Stayers\")"
   ]
  },
  {
   "cell_type": "code",
   "execution_count": 8,
   "metadata": {},
   "outputs": [],
   "source": [
    "df[\"filler\"] = \"\""
   ]
  },
  {
   "cell_type": "code",
   "execution_count": 9,
   "metadata": {},
   "outputs": [
    {
     "data": {
      "image/png": "[encoded data removed]",
      "text/plain": [
       "<Figure size 432x288 with 1 Axes>"
      ]
     },
     "metadata": {
      "needs_background": "light"
     },
     "output_type": "display_data"
    }
   ],
   "source": [
    "age = sns.violinplot(y=\"AGEP\", x=\"STAY_str\", data=df)"
   ]
  },
  {
   "cell_type": "code",
   "execution_count": 10,
   "metadata": {},
   "outputs": [],
   "source": [
    "plt.rcParams.update({'font.size': 20})"
   ]
  },
  {
   "cell_type": "code",
   "execution_count": 11,
   "metadata": {},
   "outputs": [],
   "source": [
    "df[\"VAC_PCT\"] = df[\"HU_VAC_ORIG\"] / df[\"HU_TOT_ORIG\"]"
   ]
  },
  {
   "cell_type": "code",
   "execution_count": 12,
   "metadata": {},
   "outputs": [],
   "source": [
    "df[\"PCT_OWN_JOB\"] = df[\"OWN_JOB_ORIG\"] / df[\"TOT_JOBS_ORIG\"]"
   ]
  },
  {
   "cell_type": "code",
   "execution_count": 13,
   "metadata": {},
   "outputs": [],
   "source": [
    "sns.set_theme(context='notebook', font_scale=2)"
   ]
  },
  {
   "cell_type": "code",
   "execution_count": 14,
   "metadata": {},
   "outputs": [
    {
     "data": {
      "text/plain": [
       "<matplotlib.legend.Legend at 0x16ac7fa0fd0>"
      ]
     },
     "execution_count": 14,
     "metadata": {},
     "output_type": "execute_result"
    },
    {
     "data": {
      "image/png": "[encoded data removed]",
      "text/plain": [
       "<Figure size 1800x1800 with 8 Axes>"
      ]
     },
     "metadata": {},
     "output_type": "display_data"
    }
   ],
   "source": [
    "# age, cbsa category, educational attainment, gross rent, owner cost, median household value, child, recent child, marriage with 1/2 working partners, recently married, recently divorced/widowed, single parent family, % job, military\n",
    "# age, rent, owner cost, median household value, % job\n",
    "# unemployment rate, vacancy rate, individual income/household income, density\n",
    "fig, axs = plt.subplots(4, 2, sharey=True)\n",
    "fig.set_figheight(25)\n",
    "fig.set_figwidth(25)\n",
    "fig.subplots_adjust(bottom=0.05, hspace=0.25)\n",
    "sns.violinplot(x=\"AGEP\", y=\"filler\", hue=\"STAY_str\", data=df, ax=axs[0, 0])\n",
    "axs[0, 0].set_xlabel(\"Age\")\n",
    "sns.violinplot(x=\"GRNTP_ORIG_ADJ\", y=\"filler\", hue=\"STAY_str\", data=df[df[\"GRNTP_ORIG_ADJ\"] < 2000], ax=axs[0, 1])\n",
    "axs[0, 1].set_xlabel(\"Median gross monthly rent in MIGPUMA\")\n",
    "sns.violinplot(x=\"SMOCP_ORIG_ADJ\", y=\"filler\", hue=\"STAY_str\", data=df, ax=axs[1, 0])\n",
    "axs[1, 0].set_xlabel(\"Median monthly owner cost in MIGPUMA\")\n",
    "sns.violinplot(x=\"PCT_OWN_JOB\", y=\"filler\", hue=\"STAY_str\", data=df[(df[\"PCT_OWN_JOB\"] < 0.15) & (df[\"PCT_OWN_JOB\"] > 0)], ax=axs[1, 1])\n",
    "axs[1, 1].set_xlabel(\"Proportion of jobs in MIGPUMA of the same industry as the individaul\")\n",
    "sns.violinplot(x=\"UNEMP_PCT_ORIG_ADJ\", y=\"filler\", hue=\"STAY_str\", data=df[(df[\"UNEMP_PCT_ORIG_ADJ\"] < 0.081)], ax=axs[2, 0])\n",
    "axs[2, 0].set_xlabel(\"Unemployment rate in MIGPUMA\")\n",
    "sns.violinplot(x=\"VAC_PCT\", y=\"filler\", hue=\"STAY_str\", data=df[df[\"VAC_PCT\"] < 0.25], ax=axs[2, 1])\n",
    "axs[2, 1].set_xlabel(\"Vacancy rate in MIGPUMA\")\n",
    "sns.violinplot(x=\"HINCP_ORIG_ADJ\", y=\"filler\", hue=\"STAY_str\", data=df[df[\"HINCP_ORIG_ADJ\"] < 120000], ax=axs[3, 0])\n",
    "axs[3, 0].set_xlabel(\"Median household income in MIGPUMA\")\n",
    "sns.violinplot(x=\"HH_MED_VAL_ORIG\", y=\"filler\", hue=\"STAY_str\", data=df[df[\"HH_MED_VAL_ORIG\"] < 1000000], ax=axs[3, 1])\n",
    "axs[3, 1].set_xlabel(\"Median household value in MIGPUMA\")\n",
    "for ax in axs.reshape(-1):\n",
    "    ax.set_ylabel(\"\")\n",
    "    ax.get_legend().remove()\n",
    "handles, labels = axs[0, 0].get_legend_handles_labels()\n",
    "fig.legend(handles, labels, loc='lower center', ncol=2, borderaxespad=0.)\n"
   ]
  },
  {
   "cell_type": "code",
   "execution_count": 15,
   "metadata": {},
   "outputs": [],
   "source": [
    "df[\"MIGSP_ORIG\"] = df[\"ORIGIN\"].astype(str).str.zfill(7).str[0:2].astype(int)"
   ]
  },
  {
   "cell_type": "code",
   "execution_count": 16,
   "metadata": {},
   "outputs": [],
   "source": [
    "df_leave = df[df[\"STAY\"] == 0]\n",
    "df_stay = df[df[\"STAY\"] == 1]"
   ]
  },
  {
   "cell_type": "code",
   "execution_count": 17,
   "metadata": {},
   "outputs": [
    {
     "name": "stderr",
     "output_type": "stream",
     "text": [
      "C:\\Users\\Transportlab\\AppData\\Local\\Temp\\ipykernel_10504\\969391338.py:1: SettingWithCopyWarning: \n",
      "A value is trying to be set on a copy of a slice from a DataFrame.\n",
      "Try using .loc[row_indexer,col_indexer] = value instead\n",
      "\n",
      "See the caveats in the documentation: https://pandas.pydata.org/pandas-docs/stable/user_guide/indexing.html#returning-a-view-versus-a-copy\n",
      "  df_stay[\"PCT_OWN_JOB\"] = np.where(df_stay[\"PCT_OWN_JOB\"] == 0, np.nan, df_stay[\"PCT_OWN_JOB\"])\n",
      "C:\\Users\\Transportlab\\AppData\\Local\\Temp\\ipykernel_10504\\969391338.py:2: SettingWithCopyWarning: \n",
      "A value is trying to be set on a copy of a slice from a DataFrame.\n",
      "Try using .loc[row_indexer,col_indexer] = value instead\n",
      "\n",
      "See the caveats in the documentation: https://pandas.pydata.org/pandas-docs/stable/user_guide/indexing.html#returning-a-view-versus-a-copy\n",
      "  df_leave[\"PCT_OWN_JOB\"] = np.where(df_leave[\"PCT_OWN_JOB\"] == 0, np.nan, df_leave[\"PCT_OWN_JOB\"])\n"
     ]
    }
   ],
   "source": [
    "df_stay[\"PCT_OWN_JOB\"] = np.where(df_stay[\"PCT_OWN_JOB\"] == 0, np.nan, df_stay[\"PCT_OWN_JOB\"])\n",
    "df_leave[\"PCT_OWN_JOB\"] = np.where(df_leave[\"PCT_OWN_JOB\"] == 0, np.nan, df_leave[\"PCT_OWN_JOB\"])"
   ]
  },
  {
   "cell_type": "code",
   "execution_count": 118,
   "metadata": {},
   "outputs": [
    {
     "name": "stdout",
     "output_type": "stream",
     "text": [
      "217631.4466614716\n",
      "229901.96247292028\n"
     ]
    }
   ],
   "source": [
    "field = \"HH_MED_VAL_ORIG\"\n",
    "print(df_stay[field].median())\n",
    "print(df_leave[field].median())"
   ]
  },
  {
   "cell_type": "code",
   "execution_count": 19,
   "metadata": {},
   "outputs": [
    {
     "data": {
      "text/plain": [
       "0          19\n",
       "1          18\n",
       "4          25\n",
       "9          18\n",
       "12         57\n",
       "           ..\n",
       "2530840    20\n",
       "2530841    19\n",
       "2530860    45\n",
       "2530861    57\n",
       "2530873    24\n",
       "Name: AGEP, Length: 327984, dtype: int64"
      ]
     },
     "execution_count": 19,
     "metadata": {},
     "output_type": "execute_result"
    }
   ],
   "source": [
    "df_leave[\"AGEP\"]"
   ]
  },
  {
   "cell_type": "code",
   "execution_count": 20,
   "metadata": {},
   "outputs": [
    {
     "data": {
      "text/plain": [
       "217631.4466614716"
      ]
     },
     "execution_count": 20,
     "metadata": {},
     "output_type": "execute_result"
    }
   ],
   "source": [
    "df_stay[\"HH_MED_VAL_ORIG\"].median()"
   ]
  },
  {
   "cell_type": "code",
   "execution_count": 21,
   "metadata": {},
   "outputs": [
    {
     "data": {
      "text/plain": [
       "0           91687\n",
       "1           44030\n",
       "2          166367\n",
       "3           43827\n",
       "4          177381\n",
       "            ...  \n",
       "2530894     53153\n",
       "2530895     53153\n",
       "2530896     54624\n",
       "2530897     54624\n",
       "2530898     52023\n",
       "Name: TOT_JOBS_ORIG, Length: 2530899, dtype: int64"
      ]
     },
     "execution_count": 21,
     "metadata": {},
     "output_type": "execute_result"
    }
   ],
   "source": [
    "df[\"TOT_JOBS_ORIG\"]"
   ]
  },
  {
   "cell_type": "code",
   "execution_count": 22,
   "metadata": {},
   "outputs": [],
   "source": [
    "df[\"WORK2_MAR\"] = np.where(df[\"FES\"] == 1, 1, 0)\n",
    "df[\"WORK1_MAR\"] = np.where((df[\"FES\"] <= 4) & (df[\"FES\"] >= 2), 1, 0)\n",
    "df[\"OTHER_FAMILY\"] = np.where((df[\"HHT\"] == 2) | (df[\"HHT\"] == 3), 1, 0)"
   ]
  },
  {
   "cell_type": "code",
   "execution_count": 23,
   "metadata": {},
   "outputs": [],
   "source": [
    "df[\"HH_TYPE\"] = np.where(df[\"WORK2_MAR\"] == 1, 0, -1)\n",
    "df[\"HH_TYPE\"] = np.where(df[\"WORK1_MAR\"] == 1, 1, df[\"HH_TYPE\"])\n",
    "df[\"HH_TYPE\"] = np.where(df[\"OTHER_FAMILY\"] == 1, 2, df[\"HH_TYPE\"])"
   ]
  },
  {
   "cell_type": "code",
   "execution_count": 24,
   "metadata": {},
   "outputs": [
    {
     "data": {
      "image/png": "[encoded data removed]",
      "text/plain": [
       "<Figure size 432x288 with 5 Axes>"
      ]
     },
     "metadata": {},
     "output_type": "display_data"
    }
   ],
   "source": [
    "# educational attainment, child, recent child, marriage (1/2 working partners, other family), recent child/recent married/rec\n",
    "fig, axs = plt.subplots(5, 1, sharey=True)"
   ]
  },
  {
   "cell_type": "code",
   "execution_count": 25,
   "metadata": {},
   "outputs": [],
   "source": [
    "df[\"EDU_LESS_HIGH\"] = np.where(df[\"SCHL\"] <= 15, 1, 0)\n",
    "df[\"EDU_HIGH\"] = np.where((df[\"SCHL\"] <= 20) & (df[\"SCHL\"] >= 16), 1, 0) \n",
    "df[\"EDU_COLLEGE\"] = np.where(df[\"SCHL\"] >= 21, 1, 0)\n",
    "df[\"EDU_NOCOLLEGE\"] = np.where(df[\"EDU_COLLEGE\"] == 0, 1, 0)"
   ]
  },
  {
   "cell_type": "code",
   "execution_count": 26,
   "metadata": {},
   "outputs": [],
   "source": [
    "df[\"SCHL_str\"] = np.where(df[\"EDU_LESS_HIGH\"] == 1, \"No high school diploma\", \"\")\n",
    "df[\"SCHL_str\"] = np.where(df[\"EDU_HIGH\"] == 1, \"High school diploma\\nbut no bachelor's\", df[\"SCHL_str\"])\n",
    "df[\"SCHL_str\"] = np.where(df[\"EDU_COLLEGE\"] == 1, \"Bachelor's degree\", df[\"SCHL_str\"])"
   ]
  },
  {
   "cell_type": "code",
   "execution_count": 27,
   "metadata": {},
   "outputs": [],
   "source": [
    "df[\"MILITARY\"] = np.where(df[\"MIL\"] == 1, 1, 0)"
   ]
  },
  {
   "cell_type": "code",
   "execution_count": 28,
   "metadata": {},
   "outputs": [
    {
     "data": {
      "text/plain": [
       "0          1\n",
       "1          1\n",
       "2          0\n",
       "3          0\n",
       "4          0\n",
       "          ..\n",
       "2530894    0\n",
       "2530895    0\n",
       "2530896    0\n",
       "2530897    0\n",
       "2530898    0\n",
       "Name: IN_COLLEGE, Length: 2530899, dtype: int32"
      ]
     },
     "execution_count": 28,
     "metadata": {},
     "output_type": "execute_result"
    }
   ],
   "source": [
    "df[\"IN_COLLEGE\"] = np.where((df[\"SCHG\"] == 15) | (df[\"SCHG\"] == 16), 1, 0)\n",
    "df[\"IN_COLLEGE\"]"
   ]
  },
  {
   "cell_type": "code",
   "execution_count": 29,
   "metadata": {},
   "outputs": [],
   "source": [
    "df[\"MICRO_adj_ORIG\"] = np.where((df[\"TYPE_ORIG\"] == 3) | (df[\"TYPE_ORIG\"] == 2), 1, 0)\n",
    "df[\"METRO\"] = np.where(df[\"TYPE_ORIG\"] == 1, 1, 0)\n",
    "df[\"T34\"] = np.where(df[\"TYPE_ORIG\"] == 0, 1, 0)"
   ]
  },
  {
   "cell_type": "code",
   "execution_count": 30,
   "metadata": {},
   "outputs": [
    {
     "data": {
      "text/plain": [
       "0    1113082\n",
       "1     912317\n",
       "2     505500\n",
       "Name: TYPE_ORIG, dtype: int64"
      ]
     },
     "execution_count": 30,
     "metadata": {},
     "output_type": "execute_result"
    }
   ],
   "source": [
    "df[\"TYPE_ORIG\"] = np.where(df[\"TYPE_ORIG\"] == 3, 2, df[\"TYPE_ORIG\"])\n",
    "df[\"TYPE_ORIG\"].value_counts()"
   ]
  },
  {
   "cell_type": "code",
   "execution_count": 31,
   "metadata": {},
   "outputs": [
    {
     "data": {
      "text/plain": [
       "0    2184092\n",
       "1     346807\n",
       "Name: FOREIGN, dtype: int64"
      ]
     },
     "execution_count": 31,
     "metadata": {},
     "output_type": "execute_result"
    }
   ],
   "source": [
    "df[\"FOREIGN\"] = np.where(df[\"NATIVITY\"] == 2, 1, 0)\n",
    "df[\"FOREIGN\"].value_counts()"
   ]
  },
  {
   "cell_type": "code",
   "execution_count": 32,
   "metadata": {},
   "outputs": [
    {
     "data": {
      "text/plain": [
       "0    2495055\n",
       "1      35844\n",
       "Name: REC_NO_MAR, dtype: int64"
      ]
     },
     "execution_count": 32,
     "metadata": {},
     "output_type": "execute_result"
    }
   ],
   "source": [
    "df[\"REC_NO_MAR\"] = np.where((df[\"MARHD\"] == 1) | (df[\"MARHW\"] == 1), 1, 0)\n",
    "df[\"REC_NO_MAR\"].value_counts()"
   ]
  },
  {
   "cell_type": "code",
   "execution_count": 33,
   "metadata": {},
   "outputs": [
    {
     "data": {
      "text/plain": [
       "0.0    1817842\n",
       "1.0      42044\n",
       "Name: MARHM_new, dtype: int64"
      ]
     },
     "execution_count": 33,
     "metadata": {},
     "output_type": "execute_result"
    }
   ],
   "source": [
    "df[\"MARHM_new\"] = np.where(df[\"MARHM\"] == 2, 0, df[\"MARHM\"])\n",
    "df[\"MARHM_new\"].value_counts()"
   ]
  },
  {
   "cell_type": "code",
   "execution_count": 62,
   "metadata": {},
   "outputs": [],
   "source": [
    "df_temp = df.fillna(0)"
   ]
  },
  {
   "cell_type": "code",
   "execution_count": 63,
   "metadata": {},
   "outputs": [
    {
     "data": {
      "text/plain": [
       "0.0    2488855\n",
       "1.0      42044\n",
       "Name: MARHM_new, dtype: int64"
      ]
     },
     "execution_count": 63,
     "metadata": {},
     "output_type": "execute_result"
    }
   ],
   "source": [
    "df_temp[\"MARHM_new\"].value_counts()"
   ]
  },
  {
   "cell_type": "code",
   "execution_count": 64,
   "metadata": {},
   "outputs": [
    {
     "data": {
      "text/plain": [
       "0.0    2452584\n",
       "1.0      78315\n",
       "Name: REC_CHILD, dtype: int64"
      ]
     },
     "execution_count": 64,
     "metadata": {},
     "output_type": "execute_result"
    }
   ],
   "source": [
    "df_temp[\"REC_CHILD\"].value_counts()"
   ]
  },
  {
   "cell_type": "code",
   "execution_count": 65,
   "metadata": {},
   "outputs": [
    {
     "data": {
      "text/plain": [
       "0    1113082\n",
       "1     912317\n",
       "2     505500\n",
       "Name: TYPE_ORIG, dtype: int64"
      ]
     },
     "execution_count": 65,
     "metadata": {},
     "output_type": "execute_result"
    }
   ],
   "source": [
    "df_temp[\"TYPE_ORIG\"].value_counts()"
   ]
  },
  {
   "cell_type": "code",
   "execution_count": 66,
   "metadata": {},
   "outputs": [
    {
     "data": {
      "image/png": "[encoded data removed]",
      "text/plain": [
       "<Figure size 1080x504 with 1 Axes>"
      ]
     },
     "metadata": {},
     "output_type": "display_data"
    }
   ],
   "source": [
    "fig, ax = plt.subplots(figsize=(15, 7))\n",
    "ct = pd.crosstab(df_temp[\"TYPE_ORIG\"], df_temp[\"STAY\"], normalize=\"index\")\n",
    "    \n",
    "ct.plot(kind='barh', stacked=True, rot=0, mark_right=True, ax=ax)\n",
    "for n, x in enumerate([*ct.index.values]):\n",
    "    for proportion in ct.loc[x]:          \n",
    "        plt.text(y=n - 0.04,\n",
    "                 x=proportion / 3,\n",
    "                 s=f'{np.round(proportion * 100, 1)}%', \n",
    "                 color=\"black\",\n",
    "                 fontsize=12,\n",
    "                 fontweight=\"bold\")"
   ]
  },
  {
   "cell_type": "code",
   "execution_count": 67,
   "metadata": {},
   "outputs": [
    {
     "data": {
      "text/plain": [
       "1    2202915\n",
       "0     327984\n",
       "Name: STAY, dtype: int64"
      ]
     },
     "execution_count": 67,
     "metadata": {},
     "output_type": "execute_result"
    }
   ],
   "source": [
    "df[\"STAY\"].value_counts()"
   ]
  },
  {
   "cell_type": "code",
   "execution_count": 68,
   "metadata": {},
   "outputs": [
    {
     "data": {
      "text/plain": [
       "2530899"
      ]
     },
     "execution_count": 68,
     "metadata": {},
     "output_type": "execute_result"
    }
   ],
   "source": [
    "(327984 + 2202915)"
   ]
  },
  {
   "cell_type": "code",
   "execution_count": 69,
   "metadata": {},
   "outputs": [],
   "source": [
    "chosen_pumas = df_leave[\"CHOSEN\"].astype(str).str.zfill(7).values"
   ]
  },
  {
   "cell_type": "code",
   "execution_count": 70,
   "metadata": {},
   "outputs": [
    {
     "data": {
      "text/plain": [
       "array(['0101600', '0101900', '0102701', ..., '5600200', '5600200',\n",
       "       '5600400'], dtype=object)"
      ]
     },
     "execution_count": 70,
     "metadata": {},
     "output_type": "execute_result"
    }
   ],
   "source": [
    "chosen_pumas"
   ]
  },
  {
   "cell_type": "code",
   "execution_count": 71,
   "metadata": {},
   "outputs": [],
   "source": [
    "df_leave = df[df[\"STAY\"] == 0]"
   ]
  },
  {
   "cell_type": "code",
   "execution_count": 72,
   "metadata": {},
   "outputs": [],
   "source": [
    "pumas[\"COLLEGE\"] = pumas[\"Population 3 Years and Over Enrolled in School Public School College\"] + pumas[\"Population 3 Years and Over Enrolled in School Private School College\"]"
   ]
  },
  {
   "cell_type": "code",
   "execution_count": 73,
   "metadata": {},
   "outputs": [
    {
     "data": {
      "text/plain": [
       "0    324355\n",
       "1      3629\n",
       "Name: MILITARY, dtype: int64"
      ]
     },
     "execution_count": 73,
     "metadata": {},
     "output_type": "execute_result"
    }
   ],
   "source": [
    "df_leave[\"MILITARY\"].value_counts()"
   ]
  },
  {
   "cell_type": "code",
   "execution_count": 74,
   "metadata": {},
   "outputs": [
    {
     "name": "stderr",
     "output_type": "stream",
     "text": [
      "C:\\Users\\Transportlab\\AppData\\Local\\Temp\\ipykernel_10504\\2246970192.py:1: SettingWithCopyWarning: \n",
      "A value is trying to be set on a copy of a slice from a DataFrame.\n",
      "Try using .loc[row_indexer,col_indexer] = value instead\n",
      "\n",
      "See the caveats in the documentation: https://pandas.pydata.org/pandas-docs/stable/user_guide/indexing.html#returning-a-view-versus-a-copy\n",
      "  df_leave[\"UNEMPLOYED\"] = np.where((df_leave[\"ESR\"] == 3) | (df_leave[\"ESR\"] == 6), 1, 0)\n",
      "C:\\Users\\Transportlab\\AppData\\Local\\Temp\\ipykernel_10504\\2246970192.py:2: SettingWithCopyWarning: \n",
      "A value is trying to be set on a copy of a slice from a DataFrame.\n",
      "Try using .loc[row_indexer,col_indexer] = value instead\n",
      "\n",
      "See the caveats in the documentation: https://pandas.pydata.org/pandas-docs/stable/user_guide/indexing.html#returning-a-view-versus-a-copy\n",
      "  df_leave[\"IN_LF\"] = np.where(df_leave[\"ESR\"] == 6, 0, 1)\n"
     ]
    }
   ],
   "source": [
    "df_leave[\"UNEMPLOYED\"] = np.where((df_leave[\"ESR\"] == 3) | (df_leave[\"ESR\"] == 6), 1, 0)\n",
    "df_leave[\"IN_LF\"] = np.where(df_leave[\"ESR\"] == 6, 0, 1)"
   ]
  },
  {
   "cell_type": "code",
   "execution_count": 75,
   "metadata": {},
   "outputs": [
    {
     "name": "stdout",
     "output_type": "stream",
     "text": [
      "0.224127659574468\n",
      "0.2220792545061345\n"
     ]
    }
   ],
   "source": [
    "chosen_pumas = df_leave[\"CHOSEN\"].astype(str).str.zfill(7).values\n",
    "field = \"HH_COST\"\n",
    "print(pumas.loc[chosen_pumas][field].median())\n",
    "print(pumas[field].median())"
   ]
  },
  {
   "cell_type": "code",
   "execution_count": 76,
   "metadata": {},
   "outputs": [
    {
     "name": "stderr",
     "output_type": "stream",
     "text": [
      "C:\\Users\\Transportlab\\AppData\\Local\\Temp\\ipykernel_10504\\2748485579.py:1: SettingWithCopyWarning: \n",
      "A value is trying to be set on a copy of a slice from a DataFrame.\n",
      "Try using .loc[row_indexer,col_indexer] = value instead\n",
      "\n",
      "See the caveats in the documentation: https://pandas.pydata.org/pandas-docs/stable/user_guide/indexing.html#returning-a-view-versus-a-copy\n",
      "  df_leave[\"AGE_18_34\"] = np.where(df_leave[\"AGEP\"] <= 34, 1, 0)\n",
      "C:\\Users\\Transportlab\\AppData\\Local\\Temp\\ipykernel_10504\\2748485579.py:2: SettingWithCopyWarning: \n",
      "A value is trying to be set on a copy of a slice from a DataFrame.\n",
      "Try using .loc[row_indexer,col_indexer] = value instead\n",
      "\n",
      "See the caveats in the documentation: https://pandas.pydata.org/pandas-docs/stable/user_guide/indexing.html#returning-a-view-versus-a-copy\n",
      "  df_leave[\"AGE_35_64\"] = np.where((df_leave[\"AGEP\"] >= 35) & (df_leave[\"AGEP\"] <= 64), 1, 0)\n",
      "C:\\Users\\Transportlab\\AppData\\Local\\Temp\\ipykernel_10504\\2748485579.py:3: SettingWithCopyWarning: \n",
      "A value is trying to be set on a copy of a slice from a DataFrame.\n",
      "Try using .loc[row_indexer,col_indexer] = value instead\n",
      "\n",
      "See the caveats in the documentation: https://pandas.pydata.org/pandas-docs/stable/user_guide/indexing.html#returning-a-view-versus-a-copy\n",
      "  df_leave[\"AGE_OVER_65\"] = np.where((df_leave[\"AGEP\"] >= 65), 1, 0)\n",
      "C:\\Users\\Transportlab\\AppData\\Local\\Temp\\ipykernel_10504\\2748485579.py:4: SettingWithCopyWarning: \n",
      "A value is trying to be set on a copy of a slice from a DataFrame.\n",
      "Try using .loc[row_indexer,col_indexer] = value instead\n",
      "\n",
      "See the caveats in the documentation: https://pandas.pydata.org/pandas-docs/stable/user_guide/indexing.html#returning-a-view-versus-a-copy\n",
      "  df_leave[\"FOREIGN\"] = np.where(df_leave[\"NATIVITY\"] == 2, 1, 0)\n"
     ]
    }
   ],
   "source": [
    "df_leave[\"AGE_18_34\"] = np.where(df_leave[\"AGEP\"] <= 34, 1, 0)\n",
    "df_leave[\"AGE_35_64\"] = np.where((df_leave[\"AGEP\"] >= 35) & (df_leave[\"AGEP\"] <= 64), 1, 0)\n",
    "df_leave[\"AGE_OVER_65\"] = np.where((df_leave[\"AGEP\"] >= 65), 1, 0)\n",
    "df_leave[\"FOREIGN\"] = np.where(df_leave[\"NATIVITY\"] == 2, 1, 0)"
   ]
  },
  {
   "cell_type": "code",
   "execution_count": 77,
   "metadata": {},
   "outputs": [
    {
     "data": {
      "text/plain": [
       "0100100    36249\n",
       "0100200    27357\n",
       "0100301    19616\n",
       "0100302    17794\n",
       "0100400    22343\n",
       "           ...  \n",
       "5600100    22557\n",
       "5600200    17597\n",
       "5600300    20390\n",
       "5600400    16280\n",
       "5600500    19733\n",
       "Name: Total Population 65 and Over, Length: 2336, dtype: int64"
      ]
     },
     "execution_count": 77,
     "metadata": {},
     "output_type": "execute_result"
    }
   ],
   "source": [
    "pumas[\"Total Population 65 and Over\"]"
   ]
  },
  {
   "cell_type": "code",
   "execution_count": 78,
   "metadata": {},
   "outputs": [
    {
     "name": "stderr",
     "output_type": "stream",
     "text": [
      "C:\\Users\\Transportlab\\AppData\\Local\\Temp\\ipykernel_10504\\3018992918.py:1: FutureWarning: The 'lookup' method is deprecated and will be removed in a future version. You can use DataFrame.melt and DataFrame.loc as a substitute.\n",
      "  np.where(df[\"NAICS\"].isna(), 0, puma_lodes_data.lookup(chosen_pumas, df[\"NAICS\"].fillna(\"EDU\")))\n"
     ]
    },
    {
     "ename": "ValueError",
     "evalue": "Row labels must have same size as column labels",
     "output_type": "error",
     "traceback": [
      "\u001b[1;31m---------------------------------------------------------------------------\u001b[0m",
      "\u001b[1;31mValueError\u001b[0m                                Traceback (most recent call last)",
      "\u001b[1;32md:\\migration\\migration\\us-migration-modeling\\paper_figs.ipynb Cell 50\u001b[0m in \u001b[0;36m<cell line: 1>\u001b[1;34m()\u001b[0m\n\u001b[1;32m----> <a href='vscode-notebook-cell:/d%3A/migration/migration/us-migration-modeling/paper_figs.ipynb#ch0000049?line=0'>1</a>\u001b[0m np\u001b[39m.\u001b[39mwhere(df[\u001b[39m\"\u001b[39m\u001b[39mNAICS\u001b[39m\u001b[39m\"\u001b[39m]\u001b[39m.\u001b[39misna(), \u001b[39m0\u001b[39m, puma_lodes_data\u001b[39m.\u001b[39;49mlookup(chosen_pumas, df[\u001b[39m\"\u001b[39;49m\u001b[39mNAICS\u001b[39;49m\u001b[39m\"\u001b[39;49m]\u001b[39m.\u001b[39;49mfillna(\u001b[39m\"\u001b[39;49m\u001b[39mEDU\u001b[39;49m\u001b[39m\"\u001b[39;49m)))\n",
      "File \u001b[1;32md:\\miniconda3\\envs\\py38\\lib\\site-packages\\pandas\\core\\frame.py:4577\u001b[0m, in \u001b[0;36mDataFrame.lookup\u001b[1;34m(self, row_labels, col_labels)\u001b[0m\n\u001b[0;32m   4575\u001b[0m n \u001b[39m=\u001b[39m \u001b[39mlen\u001b[39m(row_labels)\n\u001b[0;32m   4576\u001b[0m \u001b[39mif\u001b[39;00m n \u001b[39m!=\u001b[39m \u001b[39mlen\u001b[39m(col_labels):\n\u001b[1;32m-> 4577\u001b[0m     \u001b[39mraise\u001b[39;00m \u001b[39mValueError\u001b[39;00m(\u001b[39m\"\u001b[39m\u001b[39mRow labels must have same size as column labels\u001b[39m\u001b[39m\"\u001b[39m)\n\u001b[0;32m   4578\u001b[0m \u001b[39mif\u001b[39;00m \u001b[39mnot\u001b[39;00m (\u001b[39mself\u001b[39m\u001b[39m.\u001b[39mindex\u001b[39m.\u001b[39mis_unique \u001b[39mand\u001b[39;00m \u001b[39mself\u001b[39m\u001b[39m.\u001b[39mcolumns\u001b[39m.\u001b[39mis_unique):\n\u001b[0;32m   4579\u001b[0m     \u001b[39m# GH#33041\u001b[39;00m\n\u001b[0;32m   4580\u001b[0m     \u001b[39mraise\u001b[39;00m \u001b[39mValueError\u001b[39;00m(\u001b[39m\"\u001b[39m\u001b[39mDataFrame.lookup requires unique index and columns\u001b[39m\u001b[39m\"\u001b[39m)\n",
      "\u001b[1;31mValueError\u001b[0m: Row labels must have same size as column labels"
     ]
    }
   ],
   "source": [
    "np.where(df[\"NAICS\"].isna(), 0, puma_lodes_data.lookup(chosen_pumas, df[\"NAICS\"].fillna(\"EDU\")))"
   ]
  },
  {
   "cell_type": "code",
   "execution_count": 79,
   "metadata": {},
   "outputs": [
    {
     "name": "stdout",
     "output_type": "stream",
     "text": [
      "0.17318611103326514\n",
      "0.16009521522811415\n"
     ]
    }
   ],
   "source": [
    "chosen_pumas = df_leave[df_leave[\"AGE_OVER_65\"] == 1][\"CHOSEN\"].astype(str).str.zfill(7).values\n",
    "field = \"Total Population 65 and Over\"\n",
    "print((pumas.loc[chosen_pumas][field] / pumas.loc[chosen_pumas][\"Total Population\"]).median())\n",
    "print((pumas[field] / pumas[\"Total Population\"]).median())"
   ]
  },
  {
   "cell_type": "code",
   "execution_count": 80,
   "metadata": {},
   "outputs": [
    {
     "data": {
      "text/plain": [
       "0"
      ]
     },
     "execution_count": 80,
     "metadata": {},
     "output_type": "execute_result"
    }
   ],
   "source": [
    "(df_leave[\"AGE_18_34\"] + df_leave[\"AGE_35_64\"]).min()"
   ]
  },
  {
   "cell_type": "code",
   "execution_count": 81,
   "metadata": {},
   "outputs": [
    {
     "name": "stdout",
     "output_type": "stream",
     "text": [
      "0.01424834655381409\n",
      "0.013348619663186947\n"
     ]
    }
   ],
   "source": [
    "chosen_pumas = df_leave[df_leave[\"AGE_OVER_65\"] == 1][\"CHOSEN\"].astype(str).str.zfill(7).values\n",
    "field = \"ENT\"\n",
    "print((pumas.loc[chosen_pumas][field] / pumas.loc[chosen_pumas][\"TOT_JOBS\"]).median())\n",
    "print((pumas[field] / pumas[\"TOT_JOBS\"]).median())"
   ]
  },
  {
   "cell_type": "code",
   "execution_count": 82,
   "metadata": {},
   "outputs": [
    {
     "name": "stdout",
     "output_type": "stream",
     "text": [
      "0.15546113631564465\n",
      "0.16009521522811415\n"
     ]
    }
   ],
   "source": [
    "chosen_pumas = df_leave[df_leave[\"IN_LF\"] == 1][\"CHOSEN\"].astype(str).str.zfill(7).values\n",
    "field = \"Total Population 65 and Over\"\n",
    "print((pumas.loc[chosen_pumas][field] / pumas.loc[chosen_pumas][\"Total Population\"]).median())\n",
    "print((pumas[field] / pumas[\"Total Population\"]).median())"
   ]
  },
  {
   "cell_type": "code",
   "execution_count": 83,
   "metadata": {},
   "outputs": [],
   "source": [
    "distances = pd.read_csv(\"data/puma_distance_matrix.csv\")\n",
    "distances = distances.set_index(\"Unnamed: 0\")\n",
    "distances.columns = distances.columns.astype(int)"
   ]
  },
  {
   "cell_type": "code",
   "execution_count": 84,
   "metadata": {},
   "outputs": [
    {
     "name": "stderr",
     "output_type": "stream",
     "text": [
      "C:\\Users\\Transportlab\\AppData\\Local\\Temp\\ipykernel_10504\\1498684524.py:1: FutureWarning: The 'lookup' method is deprecated and will be removed in a future version. You can use DataFrame.melt and DataFrame.loc as a substitute.\n",
      "  pd.DataFrame(distances.lookup(df_leave[\"ORIGIN\"].values, df_leave[\"CHOSEN\"].values)).describe()\n"
     ]
    },
    {
     "data": {
      "text/html": [
       "<div>\n",
       "<style scoped>\n",
       "    .dataframe tbody tr th:only-of-type {\n",
       "        vertical-align: middle;\n",
       "    }\n",
       "\n",
       "    .dataframe tbody tr th {\n",
       "        vertical-align: top;\n",
       "    }\n",
       "\n",
       "    .dataframe thead th {\n",
       "        text-align: right;\n",
       "    }\n",
       "</style>\n",
       "<table border=\"1\" class=\"dataframe\">\n",
       "  <thead>\n",
       "    <tr style=\"text-align: right;\">\n",
       "      <th></th>\n",
       "      <th>0</th>\n",
       "    </tr>\n",
       "  </thead>\n",
       "  <tbody>\n",
       "    <tr>\n",
       "      <th>count</th>\n",
       "      <td>3.279840e+05</td>\n",
       "    </tr>\n",
       "    <tr>\n",
       "      <th>mean</th>\n",
       "      <td>3.256280e+05</td>\n",
       "    </tr>\n",
       "    <tr>\n",
       "      <th>std</th>\n",
       "      <td>7.917604e+05</td>\n",
       "    </tr>\n",
       "    <tr>\n",
       "      <th>min</th>\n",
       "      <td>0.000000e+00</td>\n",
       "    </tr>\n",
       "    <tr>\n",
       "      <th>25%</th>\n",
       "      <td>0.000000e+00</td>\n",
       "    </tr>\n",
       "    <tr>\n",
       "      <th>50%</th>\n",
       "      <td>0.000000e+00</td>\n",
       "    </tr>\n",
       "    <tr>\n",
       "      <th>75%</th>\n",
       "      <td>1.966092e+05</td>\n",
       "    </tr>\n",
       "    <tr>\n",
       "      <th>max</th>\n",
       "      <td>5.542180e+06</td>\n",
       "    </tr>\n",
       "  </tbody>\n",
       "</table>\n",
       "</div>"
      ],
      "text/plain": [
       "                  0\n",
       "count  3.279840e+05\n",
       "mean   3.256280e+05\n",
       "std    7.917604e+05\n",
       "min    0.000000e+00\n",
       "25%    0.000000e+00\n",
       "50%    0.000000e+00\n",
       "75%    1.966092e+05\n",
       "max    5.542180e+06"
      ]
     },
     "execution_count": 84,
     "metadata": {},
     "output_type": "execute_result"
    }
   ],
   "source": [
    "pd.DataFrame(distances.lookup(df_leave[\"ORIGIN\"].values, df_leave[\"CHOSEN\"].values)).describe()"
   ]
  },
  {
   "cell_type": "code",
   "execution_count": 85,
   "metadata": {},
   "outputs": [
    {
     "data": {
      "text/plain": [
       "1948070.3538435195"
      ]
     },
     "execution_count": 85,
     "metadata": {},
     "output_type": "execute_result"
    }
   ],
   "source": [
    "np.nanmean(distances)"
   ]
  },
  {
   "cell_type": "code",
   "execution_count": 86,
   "metadata": {},
   "outputs": [
    {
     "data": {
      "text/plain": [
       "0          0\n",
       "1          1\n",
       "4          0\n",
       "9          0\n",
       "12         0\n",
       "          ..\n",
       "2530840    0\n",
       "2530841    0\n",
       "2530860    0\n",
       "2530861    0\n",
       "2530873    1\n",
       "Name: T34, Length: 327984, dtype: int32"
      ]
     },
     "execution_count": 86,
     "metadata": {},
     "output_type": "execute_result"
    }
   ],
   "source": [
    "df_leave[\"T34\"]"
   ]
  },
  {
   "cell_type": "code",
   "execution_count": 87,
   "metadata": {},
   "outputs": [
    {
     "data": {
      "text/plain": [
       "0           101600\n",
       "1           101900\n",
       "4           102701\n",
       "9           101600\n",
       "12          101303\n",
       "            ...   \n",
       "2530840    5600300\n",
       "2530841    5600300\n",
       "2530860    5600200\n",
       "2530861    5600200\n",
       "2530873    5600400\n",
       "Name: CHOSEN, Length: 327984, dtype: int64"
      ]
     },
     "execution_count": 87,
     "metadata": {},
     "output_type": "execute_result"
    }
   ],
   "source": [
    "df_leave[\"CHOSEN\"]"
   ]
  },
  {
   "cell_type": "code",
   "execution_count": 88,
   "metadata": {},
   "outputs": [
    {
     "data": {
      "text/html": [
       "<div>\n",
       "<style scoped>\n",
       "    .dataframe tbody tr th:only-of-type {\n",
       "        vertical-align: middle;\n",
       "    }\n",
       "\n",
       "    .dataframe tbody tr th {\n",
       "        vertical-align: top;\n",
       "    }\n",
       "\n",
       "    .dataframe thead th {\n",
       "        text-align: right;\n",
       "    }\n",
       "</style>\n",
       "<table border=\"1\" class=\"dataframe\">\n",
       "  <thead>\n",
       "    <tr style=\"text-align: right;\">\n",
       "      <th></th>\n",
       "      <th>Unnamed: 0</th>\n",
       "      <th>GISJOIN</th>\n",
       "      <th>GEOID</th>\n",
       "      <th>STATEFIP</th>\n",
       "      <th>State</th>\n",
       "      <th>PUMA</th>\n",
       "      <th>Name</th>\n",
       "      <th>center</th>\n",
       "      <th>type</th>\n",
       "      <th>CBSA_name</th>\n",
       "      <th>Name_num</th>\n",
       "    </tr>\n",
       "    <tr>\n",
       "      <th>GISMATCH</th>\n",
       "      <th></th>\n",
       "      <th></th>\n",
       "      <th></th>\n",
       "      <th></th>\n",
       "      <th></th>\n",
       "      <th></th>\n",
       "      <th></th>\n",
       "      <th></th>\n",
       "      <th></th>\n",
       "      <th></th>\n",
       "      <th></th>\n",
       "    </tr>\n",
       "  </thead>\n",
       "  <tbody>\n",
       "    <tr>\n",
       "      <th>600105</th>\n",
       "      <td>0</td>\n",
       "      <td>G06000105</td>\n",
       "      <td>600105</td>\n",
       "      <td>6</td>\n",
       "      <td>California</td>\n",
       "      <td>105</td>\n",
       "      <td>Alameda County (West)--San Leandro, Alameda &amp; ...</td>\n",
       "      <td>POINT (-2258808.793332302 339396.4722123478)</td>\n",
       "      <td>T34</td>\n",
       "      <td>San Francisco-Oakland-Hayward, CA Metro Area</td>\n",
       "      <td>0</td>\n",
       "    </tr>\n",
       "    <tr>\n",
       "      <th>600102</th>\n",
       "      <td>1</td>\n",
       "      <td>G06000102</td>\n",
       "      <td>600102</td>\n",
       "      <td>6</td>\n",
       "      <td>California</td>\n",
       "      <td>102</td>\n",
       "      <td>Alameda County (Northwest)--Oakland (Northwest...</td>\n",
       "      <td>POINT (-2262119.20387295 349529.9544024405)</td>\n",
       "      <td>T34</td>\n",
       "      <td>San Francisco-Oakland-Hayward, CA Metro Area</td>\n",
       "      <td>0</td>\n",
       "    </tr>\n",
       "    <tr>\n",
       "      <th>608502</th>\n",
       "      <td>2</td>\n",
       "      <td>G06008502</td>\n",
       "      <td>608502</td>\n",
       "      <td>6</td>\n",
       "      <td>California</td>\n",
       "      <td>8502</td>\n",
       "      <td>Santa Clara County (Northwest)--Sunnyvale &amp; Sa...</td>\n",
       "      <td>POINT (-2251625.280558518 299700.2119385958)</td>\n",
       "      <td>Metro</td>\n",
       "      <td>San Jose-Sunnyvale-Santa Clara, CA Metro Area</td>\n",
       "      <td>1</td>\n",
       "    </tr>\n",
       "    <tr>\n",
       "      <th>600108</th>\n",
       "      <td>3</td>\n",
       "      <td>G06000108</td>\n",
       "      <td>600108</td>\n",
       "      <td>6</td>\n",
       "      <td>California</td>\n",
       "      <td>108</td>\n",
       "      <td>Alameda County (Southwest)--Union City, Newark...</td>\n",
       "      <td>POINT (-2249381.571782368 314454.5304018197)</td>\n",
       "      <td>T34</td>\n",
       "      <td>San Francisco-Oakland-Hayward, CA Metro Area</td>\n",
       "      <td>0</td>\n",
       "    </tr>\n",
       "    <tr>\n",
       "      <th>600107</th>\n",
       "      <td>4</td>\n",
       "      <td>G06000107</td>\n",
       "      <td>600107</td>\n",
       "      <td>6</td>\n",
       "      <td>California</td>\n",
       "      <td>107</td>\n",
       "      <td>Alameda County (Central)--Hayward City PUMA</td>\n",
       "      <td>POINT (-2249209.156361292 325491.2460234718)</td>\n",
       "      <td>T34</td>\n",
       "      <td>San Francisco-Oakland-Hayward, CA Metro Area</td>\n",
       "      <td>0</td>\n",
       "    </tr>\n",
       "    <tr>\n",
       "      <th>...</th>\n",
       "      <td>...</td>\n",
       "      <td>...</td>\n",
       "      <td>...</td>\n",
       "      <td>...</td>\n",
       "      <td>...</td>\n",
       "      <td>...</td>\n",
       "      <td>...</td>\n",
       "      <td>...</td>\n",
       "      <td>...</td>\n",
       "      <td>...</td>\n",
       "      <td>...</td>\n",
       "    </tr>\n",
       "    <tr>\n",
       "      <th>4700500</th>\n",
       "      <td>2373</td>\n",
       "      <td>G47000500</td>\n",
       "      <td>4700500</td>\n",
       "      <td>47</td>\n",
       "      <td>Tennessee</td>\n",
       "      <td>500</td>\n",
       "      <td>Sumner County--Hendersonville City PUMA</td>\n",
       "      <td>POINT (845555.1346444382 -73006.03095774697)</td>\n",
       "      <td>Metro</td>\n",
       "      <td>Nashville-Davidson--Murfreesboro--Franklin, TN...</td>\n",
       "      <td>283</td>\n",
       "    </tr>\n",
       "    <tr>\n",
       "      <th>4702501</th>\n",
       "      <td>2374</td>\n",
       "      <td>G47002501</td>\n",
       "      <td>4702501</td>\n",
       "      <td>47</td>\n",
       "      <td>Tennessee</td>\n",
       "      <td>2501</td>\n",
       "      <td>Nashville-Davidson (East) PUMA</td>\n",
       "      <td>POINT (834713.9667902931 -111417.8817361052)</td>\n",
       "      <td>Metro</td>\n",
       "      <td>Nashville-Davidson--Murfreesboro--Franklin, TN...</td>\n",
       "      <td>283</td>\n",
       "    </tr>\n",
       "    <tr>\n",
       "      <th>5310400</th>\n",
       "      <td>2375</td>\n",
       "      <td>G53010400</td>\n",
       "      <td>5310400</td>\n",
       "      <td>53</td>\n",
       "      <td>Washington</td>\n",
       "      <td>10400</td>\n",
       "      <td>Stevens, Okanogan, Pend Oreille &amp; Ferry Counti...</td>\n",
       "      <td>POINT (-1684664.90787742 1429380.26889712)</td>\n",
       "      <td>NaN</td>\n",
       "      <td>NaN</td>\n",
       "      <td>-1</td>\n",
       "    </tr>\n",
       "    <tr>\n",
       "      <th>5310300</th>\n",
       "      <td>2376</td>\n",
       "      <td>G53010300</td>\n",
       "      <td>5310300</td>\n",
       "      <td>53</td>\n",
       "      <td>Washington</td>\n",
       "      <td>10300</td>\n",
       "      <td>Chelan &amp; Douglas Counties PUMA</td>\n",
       "      <td>POINT (-1811096.507300111 1383753.51149053)</td>\n",
       "      <td>Metro</td>\n",
       "      <td>Wenatchee, WA Metro Area</td>\n",
       "      <td>536</td>\n",
       "    </tr>\n",
       "    <tr>\n",
       "      <th>5310100</th>\n",
       "      <td>2377</td>\n",
       "      <td>G53010100</td>\n",
       "      <td>5310100</td>\n",
       "      <td>53</td>\n",
       "      <td>Washington</td>\n",
       "      <td>10100</td>\n",
       "      <td>Whatcom County--Bellingham City PUMA</td>\n",
       "      <td>POINT (-1887228.219788957 1519303.569433435)</td>\n",
       "      <td>Metro</td>\n",
       "      <td>Bellingham, WA Metro Area</td>\n",
       "      <td>537</td>\n",
       "    </tr>\n",
       "  </tbody>\n",
       "</table>\n",
       "<p>2378 rows × 11 columns</p>\n",
       "</div>"
      ],
      "text/plain": [
       "          Unnamed: 0    GISJOIN    GEOID  STATEFIP       State   PUMA  \\\n",
       "GISMATCH                                                                \n",
       "600105             0  G06000105   600105         6  California    105   \n",
       "600102             1  G06000102   600102         6  California    102   \n",
       "608502             2  G06008502   608502         6  California   8502   \n",
       "600108             3  G06000108   600108         6  California    108   \n",
       "600107             4  G06000107   600107         6  California    107   \n",
       "...              ...        ...      ...       ...         ...    ...   \n",
       "4700500         2373  G47000500  4700500        47   Tennessee    500   \n",
       "4702501         2374  G47002501  4702501        47   Tennessee   2501   \n",
       "5310400         2375  G53010400  5310400        53  Washington  10400   \n",
       "5310300         2376  G53010300  5310300        53  Washington  10300   \n",
       "5310100         2377  G53010100  5310100        53  Washington  10100   \n",
       "\n",
       "                                                       Name  \\\n",
       "GISMATCH                                                      \n",
       "600105    Alameda County (West)--San Leandro, Alameda & ...   \n",
       "600102    Alameda County (Northwest)--Oakland (Northwest...   \n",
       "608502    Santa Clara County (Northwest)--Sunnyvale & Sa...   \n",
       "600108    Alameda County (Southwest)--Union City, Newark...   \n",
       "600107          Alameda County (Central)--Hayward City PUMA   \n",
       "...                                                     ...   \n",
       "4700500             Sumner County--Hendersonville City PUMA   \n",
       "4702501                      Nashville-Davidson (East) PUMA   \n",
       "5310400   Stevens, Okanogan, Pend Oreille & Ferry Counti...   \n",
       "5310300                      Chelan & Douglas Counties PUMA   \n",
       "5310100                Whatcom County--Bellingham City PUMA   \n",
       "\n",
       "                                                center   type  \\\n",
       "GISMATCH                                                        \n",
       "600105    POINT (-2258808.793332302 339396.4722123478)    T34   \n",
       "600102     POINT (-2262119.20387295 349529.9544024405)    T34   \n",
       "608502    POINT (-2251625.280558518 299700.2119385958)  Metro   \n",
       "600108    POINT (-2249381.571782368 314454.5304018197)    T34   \n",
       "600107    POINT (-2249209.156361292 325491.2460234718)    T34   \n",
       "...                                                ...    ...   \n",
       "4700500   POINT (845555.1346444382 -73006.03095774697)  Metro   \n",
       "4702501   POINT (834713.9667902931 -111417.8817361052)  Metro   \n",
       "5310400     POINT (-1684664.90787742 1429380.26889712)    NaN   \n",
       "5310300    POINT (-1811096.507300111 1383753.51149053)  Metro   \n",
       "5310100   POINT (-1887228.219788957 1519303.569433435)  Metro   \n",
       "\n",
       "                                                  CBSA_name  Name_num  \n",
       "GISMATCH                                                               \n",
       "600105         San Francisco-Oakland-Hayward, CA Metro Area         0  \n",
       "600102         San Francisco-Oakland-Hayward, CA Metro Area         0  \n",
       "608502        San Jose-Sunnyvale-Santa Clara, CA Metro Area         1  \n",
       "600108         San Francisco-Oakland-Hayward, CA Metro Area         0  \n",
       "600107         San Francisco-Oakland-Hayward, CA Metro Area         0  \n",
       "...                                                     ...       ...  \n",
       "4700500   Nashville-Davidson--Murfreesboro--Franklin, TN...       283  \n",
       "4702501   Nashville-Davidson--Murfreesboro--Franklin, TN...       283  \n",
       "5310400                                                 NaN        -1  \n",
       "5310300                            Wenatchee, WA Metro Area       536  \n",
       "5310100                           Bellingham, WA Metro Area       537  \n",
       "\n",
       "[2378 rows x 11 columns]"
      ]
     },
     "execution_count": 88,
     "metadata": {},
     "output_type": "execute_result"
    }
   ],
   "source": [
    "cbsas = pd.read_csv(\"data/puma_density.csv\").set_index(\"GISMATCH\")\n",
    "cbsas[\"Name_num\"] = pd.factorize(cbsas[\"CBSA_name\"])[0]\n",
    "cbsas[\"Name_num\"]\n",
    "cbsas"
   ]
  },
  {
   "cell_type": "code",
   "execution_count": 94,
   "metadata": {},
   "outputs": [
    {
     "name": "stderr",
     "output_type": "stream",
     "text": [
      "C:\\Users\\Transportlab\\AppData\\Local\\Temp\\ipykernel_10504\\1871138417.py:1: SettingWithCopyWarning: \n",
      "A value is trying to be set on a copy of a slice from a DataFrame.\n",
      "Try using .loc[row_indexer,col_indexer] = value instead\n",
      "\n",
      "See the caveats in the documentation: https://pandas.pydata.org/pandas-docs/stable/user_guide/indexing.html#returning-a-view-versus-a-copy\n",
      "  df_leave[\"CHOSEN_type\"] = cbsas.loc[df_leave[\"CHOSEN\"], \"type\"].values\n"
     ]
    }
   ],
   "source": [
    "df_leave[\"CHOSEN_type\"] = cbsas.loc[df_leave[\"CHOSEN\"], \"type\"].values"
   ]
  },
  {
   "cell_type": "code",
   "execution_count": 101,
   "metadata": {},
   "outputs": [
    {
     "name": "stderr",
     "output_type": "stream",
     "text": [
      "C:\\Users\\Transportlab\\AppData\\Local\\Temp\\ipykernel_10504\\2315222095.py:1: SettingWithCopyWarning: \n",
      "A value is trying to be set on a copy of a slice from a DataFrame.\n",
      "Try using .loc[row_indexer,col_indexer] = value instead\n",
      "\n",
      "See the caveats in the documentation: https://pandas.pydata.org/pandas-docs/stable/user_guide/indexing.html#returning-a-view-versus-a-copy\n",
      "  df_leave[\"CHOSEN_type\"] = np.where(df_leave[\"CHOSEN_type\"].isna(), \"Micro\", df_leave[\"CHOSEN_type\"])\n"
     ]
    }
   ],
   "source": [
    "df_leave[\"CHOSEN_type\"] = np.where(df_leave[\"CHOSEN_type\"].isna(), \"Micro\", df_leave[\"CHOSEN_type\"])"
   ]
  },
  {
   "cell_type": "code",
   "execution_count": 104,
   "metadata": {},
   "outputs": [
    {
     "name": "stderr",
     "output_type": "stream",
     "text": [
      "C:\\Users\\Transportlab\\AppData\\Local\\Temp\\ipykernel_10504\\2211579860.py:1: SettingWithCopyWarning: \n",
      "A value is trying to be set on a copy of a slice from a DataFrame.\n",
      "Try using .loc[row_indexer,col_indexer] = value instead\n",
      "\n",
      "See the caveats in the documentation: https://pandas.pydata.org/pandas-docs/stable/user_guide/indexing.html#returning-a-view-versus-a-copy\n",
      "  df_leave[\"CHOSEN_TYPE\"] = \"Super-metropolitan\"\n",
      "C:\\Users\\Transportlab\\AppData\\Local\\Temp\\ipykernel_10504\\2211579860.py:2: SettingWithCopyWarning: \n",
      "A value is trying to be set on a copy of a slice from a DataFrame.\n",
      "Try using .loc[row_indexer,col_indexer] = value instead\n",
      "\n",
      "See the caveats in the documentation: https://pandas.pydata.org/pandas-docs/stable/user_guide/indexing.html#returning-a-view-versus-a-copy\n",
      "  df_leave[\"CHOSEN_TYPE\"] = np.where(df_leave[\"CHOSEN_type\"] == \"Metro\", \"Metropolitan\", df_leave[\"CHOSEN_TYPE\"])\n",
      "C:\\Users\\Transportlab\\AppData\\Local\\Temp\\ipykernel_10504\\2211579860.py:3: SettingWithCopyWarning: \n",
      "A value is trying to be set on a copy of a slice from a DataFrame.\n",
      "Try using .loc[row_indexer,col_indexer] = value instead\n",
      "\n",
      "See the caveats in the documentation: https://pandas.pydata.org/pandas-docs/stable/user_guide/indexing.html#returning-a-view-versus-a-copy\n",
      "  df_leave[\"CHOSEN_TYPE\"] = np.where(df_leave[\"CHOSEN_type\"] == \"Micro\", \"Non-metropolitan\", df_leave[\"CHOSEN_TYPE\"])\n"
     ]
    }
   ],
   "source": [
    "df_leave[\"CHOSEN_TYPE\"] = \"Super-metropolitan\"\n",
    "df_leave[\"CHOSEN_TYPE\"] = np.where(df_leave[\"CHOSEN_type\"] == \"Metro\", \"Metropolitan\", df_leave[\"CHOSEN_TYPE\"])\n",
    "df_leave[\"CHOSEN_TYPE\"] = np.where(df_leave[\"CHOSEN_type\"] == \"Micro\", \"Non-metropolitan\", df_leave[\"CHOSEN_TYPE\"])"
   ]
  },
  {
   "cell_type": "code",
   "execution_count": 102,
   "metadata": {},
   "outputs": [
    {
     "data": {
      "text/plain": [
       "T34      142568\n",
       "Metro    129676\n",
       "Micro     55740\n",
       "Name: CHOSEN_type, dtype: int64"
      ]
     },
     "execution_count": 102,
     "metadata": {},
     "output_type": "execute_result"
    }
   ],
   "source": [
    "df_leave[\"CHOSEN_type\"].value_counts()"
   ]
  },
  {
   "cell_type": "code",
   "execution_count": 90,
   "metadata": {},
   "outputs": [
    {
     "data": {
      "text/plain": [
       "0    146916\n",
       "1    124977\n",
       "2     56091\n",
       "Name: TYPE_ORIG, dtype: int64"
      ]
     },
     "execution_count": 90,
     "metadata": {},
     "output_type": "execute_result"
    }
   ],
   "source": [
    "df_leave[\"TYPE_ORIG\"].value_counts()"
   ]
  },
  {
   "cell_type": "code",
   "execution_count": 91,
   "metadata": {},
   "outputs": [
    {
     "name": "stderr",
     "output_type": "stream",
     "text": [
      "C:\\Users\\Transportlab\\AppData\\Local\\Temp\\ipykernel_10504\\3783654792.py:1: SettingWithCopyWarning: \n",
      "A value is trying to be set on a copy of a slice from a DataFrame.\n",
      "Try using .loc[row_indexer,col_indexer] = value instead\n",
      "\n",
      "See the caveats in the documentation: https://pandas.pydata.org/pandas-docs/stable/user_guide/indexing.html#returning-a-view-versus-a-copy\n",
      "  df_leave[\"ORIG_TYPE\"] = np.where(df_leave[\"TYPE_ORIG\"] == 0, \"Super-metropolitan\", \"\")\n",
      "C:\\Users\\Transportlab\\AppData\\Local\\Temp\\ipykernel_10504\\3783654792.py:2: SettingWithCopyWarning: \n",
      "A value is trying to be set on a copy of a slice from a DataFrame.\n",
      "Try using .loc[row_indexer,col_indexer] = value instead\n",
      "\n",
      "See the caveats in the documentation: https://pandas.pydata.org/pandas-docs/stable/user_guide/indexing.html#returning-a-view-versus-a-copy\n",
      "  df_leave[\"ORIG_TYPE\"] = np.where(df_leave[\"TYPE_ORIG\"] == 1, \"Metropolitan\", df_leave[\"ORIG_TYPE\"])\n",
      "C:\\Users\\Transportlab\\AppData\\Local\\Temp\\ipykernel_10504\\3783654792.py:3: SettingWithCopyWarning: \n",
      "A value is trying to be set on a copy of a slice from a DataFrame.\n",
      "Try using .loc[row_indexer,col_indexer] = value instead\n",
      "\n",
      "See the caveats in the documentation: https://pandas.pydata.org/pandas-docs/stable/user_guide/indexing.html#returning-a-view-versus-a-copy\n",
      "  df_leave[\"ORIG_TYPE\"] = np.where(df_leave[\"TYPE_ORIG\"] == 2, \"Non-metropolitan\", df_leave[\"ORIG_TYPE\"])\n"
     ]
    }
   ],
   "source": [
    "df_leave[\"ORIG_TYPE\"] = np.where(df_leave[\"TYPE_ORIG\"] == 0, \"Super-metropolitan\", \"\")\n",
    "df_leave[\"ORIG_TYPE\"] = np.where(df_leave[\"TYPE_ORIG\"] == 1, \"Metropolitan\", df_leave[\"ORIG_TYPE\"])\n",
    "df_leave[\"ORIG_TYPE\"] = np.where(df_leave[\"TYPE_ORIG\"] == 2, \"Non-metropolitan\", df_leave[\"ORIG_TYPE\"])"
   ]
  },
  {
   "cell_type": "code",
   "execution_count": 97,
   "metadata": {},
   "outputs": [
    {
     "data": {
      "text/plain": [
       "T34      142568\n",
       "Metro    129676\n",
       "Micro     26990\n",
       "Name: CHOSEN_type, dtype: int64"
      ]
     },
     "execution_count": 97,
     "metadata": {},
     "output_type": "execute_result"
    }
   ],
   "source": [
    "df_leave[\"CHOSEN_type\"].value_counts()"
   ]
  },
  {
   "cell_type": "code",
   "execution_count": 110,
   "metadata": {},
   "outputs": [
    {
     "data": {
      "text/plain": [
       "327984"
      ]
     },
     "execution_count": 110,
     "metadata": {},
     "output_type": "execute_result"
    }
   ],
   "source": [
    "df_leave[\"CHOSEN_TYPE\"].value_counts().sum()"
   ]
  },
  {
   "cell_type": "code",
   "execution_count": 107,
   "metadata": {},
   "outputs": [
    {
     "data": {
      "text/plain": [
       "(327984, 262)"
      ]
     },
     "execution_count": 107,
     "metadata": {},
     "output_type": "execute_result"
    }
   ],
   "source": [
    "df_leave.shape"
   ]
  },
  {
   "cell_type": "code",
   "execution_count": 111,
   "metadata": {},
   "outputs": [
    {
     "data": {
      "text/plain": [
       "Text(0.5, 0, 'Chosen destination proportions')"
      ]
     },
     "execution_count": 111,
     "metadata": {},
     "output_type": "execute_result"
    },
    {
     "data": {
      "image/png": "[encoded data removed]",
      "text/plain": [
       "<Figure size 864x360 with 1 Axes>"
      ]
     },
     "metadata": {},
     "output_type": "display_data"
    }
   ],
   "source": [
    "fig, ax = plt.subplots(figsize=(12, 5))\n",
    "pd.crosstab(df_leave[\"ORIG_TYPE\"], df_leave[\"CHOSEN_TYPE\"], normalize=\"index\").plot(kind=\"barh\", stacked=True, ax=ax)\n",
    "ax.legend(title=\"Destination PUMA types\", loc=\"center right\", bbox_to_anchor=(1.5, 0.5))\n",
    "ax.set_ylabel(\"Origin MIGPUMA type\")\n",
    "ax.set_xlabel(\"Chosen destination proportions\")"
   ]
  },
  {
   "cell_type": "code",
   "execution_count": 74,
   "metadata": {},
   "outputs": [
    {
     "data": {
      "text/html": [
       "<div>\n",
       "<style scoped>\n",
       "    .dataframe tbody tr th:only-of-type {\n",
       "        vertical-align: middle;\n",
       "    }\n",
       "\n",
       "    .dataframe tbody tr th {\n",
       "        vertical-align: top;\n",
       "    }\n",
       "\n",
       "    .dataframe thead th {\n",
       "        text-align: right;\n",
       "    }\n",
       "</style>\n",
       "<table border=\"1\" class=\"dataframe\">\n",
       "  <thead>\n",
       "    <tr style=\"text-align: right;\">\n",
       "      <th></th>\n",
       "      <th>State</th>\n",
       "      <th>MIGPUMA</th>\n",
       "    </tr>\n",
       "    <tr>\n",
       "      <th>PUMA</th>\n",
       "      <th></th>\n",
       "      <th></th>\n",
       "    </tr>\n",
       "  </thead>\n",
       "  <tbody>\n",
       "    <tr>\n",
       "      <th>0100100</th>\n",
       "      <td>01</td>\n",
       "      <td>0100190</td>\n",
       "    </tr>\n",
       "    <tr>\n",
       "      <th>0100200</th>\n",
       "      <td>01</td>\n",
       "      <td>0100290</td>\n",
       "    </tr>\n",
       "    <tr>\n",
       "      <th>0100301</th>\n",
       "      <td>01</td>\n",
       "      <td>0100290</td>\n",
       "    </tr>\n",
       "    <tr>\n",
       "      <th>0100302</th>\n",
       "      <td>01</td>\n",
       "      <td>0100290</td>\n",
       "    </tr>\n",
       "    <tr>\n",
       "      <th>0100400</th>\n",
       "      <td>01</td>\n",
       "      <td>0100400</td>\n",
       "    </tr>\n",
       "  </tbody>\n",
       "</table>\n",
       "</div>"
      ],
      "text/plain": [
       "        State  MIGPUMA\n",
       "PUMA                  \n",
       "0100100    01  0100190\n",
       "0100200    01  0100290\n",
       "0100301    01  0100290\n",
       "0100302    01  0100290\n",
       "0100400    01  0100400"
      ]
     },
     "execution_count": 74,
     "metadata": {},
     "output_type": "execute_result"
    }
   ],
   "source": [
    "# reading in PUMA-MIGPUMA equivalency data\n",
    "puma_migpuma = pd.read_excel(\"data/puma_migpuma.xlsx\", dtype=\"str\")\n",
    "puma_migpuma[\"PUMA\"] = puma_migpuma[\"State\"] + puma_migpuma[\"PUMA\"]\n",
    "puma_migpuma[\"MIGPUMA\"] = puma_migpuma[\"State\"] + puma_migpuma[\"MIGPUMA\"]\n",
    "# some MIGPUMA fields have footnotes\n",
    "puma_migpuma[\"MIGPUMA\"] = puma_migpuma[\"MIGPUMA\"].str.strip(\"*\")\n",
    "puma_migpuma = puma_migpuma.set_index(\"PUMA\")\n",
    "puma_migpuma.head()"
   ]
  },
  {
   "cell_type": "code",
   "execution_count": 75,
   "metadata": {},
   "outputs": [
    {
     "data": {
      "text/html": [
       "<div>\n",
       "<style scoped>\n",
       "    .dataframe tbody tr th:only-of-type {\n",
       "        vertical-align: middle;\n",
       "    }\n",
       "\n",
       "    .dataframe tbody tr th {\n",
       "        vertical-align: top;\n",
       "    }\n",
       "\n",
       "    .dataframe thead th {\n",
       "        text-align: right;\n",
       "    }\n",
       "</style>\n",
       "<table border=\"1\" class=\"dataframe\">\n",
       "  <thead>\n",
       "    <tr style=\"text-align: right;\">\n",
       "      <th></th>\n",
       "      <th>State</th>\n",
       "      <th>MIGPUMA</th>\n",
       "    </tr>\n",
       "    <tr>\n",
       "      <th>PUMA</th>\n",
       "      <th></th>\n",
       "      <th></th>\n",
       "    </tr>\n",
       "  </thead>\n",
       "  <tbody>\n",
       "    <tr>\n",
       "      <th>100100</th>\n",
       "      <td>1</td>\n",
       "      <td>0100190</td>\n",
       "    </tr>\n",
       "    <tr>\n",
       "      <th>100200</th>\n",
       "      <td>1</td>\n",
       "      <td>0100290</td>\n",
       "    </tr>\n",
       "    <tr>\n",
       "      <th>100301</th>\n",
       "      <td>1</td>\n",
       "      <td>0100290</td>\n",
       "    </tr>\n",
       "    <tr>\n",
       "      <th>100302</th>\n",
       "      <td>1</td>\n",
       "      <td>0100290</td>\n",
       "    </tr>\n",
       "    <tr>\n",
       "      <th>100400</th>\n",
       "      <td>1</td>\n",
       "      <td>0100400</td>\n",
       "    </tr>\n",
       "    <tr>\n",
       "      <th>...</th>\n",
       "      <td>...</td>\n",
       "      <td>...</td>\n",
       "    </tr>\n",
       "    <tr>\n",
       "      <th>7200902</th>\n",
       "      <td>72</td>\n",
       "      <td>7200900</td>\n",
       "    </tr>\n",
       "    <tr>\n",
       "      <th>7201001</th>\n",
       "      <td>72</td>\n",
       "      <td>7201001</td>\n",
       "    </tr>\n",
       "    <tr>\n",
       "      <th>7201002</th>\n",
       "      <td>72</td>\n",
       "      <td>7201002</td>\n",
       "    </tr>\n",
       "    <tr>\n",
       "      <th>7201101</th>\n",
       "      <td>72</td>\n",
       "      <td>7201101</td>\n",
       "    </tr>\n",
       "    <tr>\n",
       "      <th>7201102</th>\n",
       "      <td>72</td>\n",
       "      <td>7201102</td>\n",
       "    </tr>\n",
       "  </tbody>\n",
       "</table>\n",
       "<p>2378 rows × 2 columns</p>\n",
       "</div>"
      ],
      "text/plain": [
       "         State  MIGPUMA\n",
       "PUMA                   \n",
       "100100       1  0100190\n",
       "100200       1  0100290\n",
       "100301       1  0100290\n",
       "100302       1  0100290\n",
       "100400       1  0100400\n",
       "...        ...      ...\n",
       "7200902     72  7200900\n",
       "7201001     72  7201001\n",
       "7201002     72  7201002\n",
       "7201101     72  7201101\n",
       "7201102     72  7201102\n",
       "\n",
       "[2378 rows x 2 columns]"
      ]
     },
     "execution_count": 75,
     "metadata": {},
     "output_type": "execute_result"
    }
   ],
   "source": [
    "puma_migpuma = puma_migpuma.dropna()\n",
    "puma_migpuma.index = puma_migpuma.index.astype(int)\n",
    "puma_migpuma[\"State\"] = puma_migpuma[\"State\"].astype(int)\n",
    "puma_migpuma"
   ]
  },
  {
   "cell_type": "code",
   "execution_count": 76,
   "metadata": {},
   "outputs": [
    {
     "name": "stderr",
     "output_type": "stream",
     "text": [
      "C:\\Users\\Transportlab\\AppData\\Local\\Temp\\ipykernel_4088\\1456171624.py:1: SettingWithCopyWarning: \n",
      "A value is trying to be set on a copy of a slice from a DataFrame.\n",
      "Try using .loc[row_indexer,col_indexer] = value instead\n",
      "\n",
      "See the caveats in the documentation: https://pandas.pydata.org/pandas-docs/stable/user_guide/indexing.html#returning-a-view-versus-a-copy\n",
      "  df_leave[\"CHOSEN_STATE\"] = puma_migpuma.loc[df_leave[\"CHOSEN\"], \"State\"].values\n"
     ]
    }
   ],
   "source": [
    "df_leave[\"CHOSEN_STATE\"] = puma_migpuma.loc[df_leave[\"CHOSEN\"], \"State\"].values"
   ]
  },
  {
   "cell_type": "code",
   "execution_count": 77,
   "metadata": {},
   "outputs": [
    {
     "data": {
      "text/plain": [
       "0           1\n",
       "1           1\n",
       "4           1\n",
       "9           1\n",
       "12          1\n",
       "           ..\n",
       "2530840    56\n",
       "2530841    56\n",
       "2530860    56\n",
       "2530861    56\n",
       "2530873    56\n",
       "Name: CHOSEN_STATE, Length: 327984, dtype: int32"
      ]
     },
     "execution_count": 77,
     "metadata": {},
     "output_type": "execute_result"
    }
   ],
   "source": [
    "df_leave[\"CHOSEN_STATE\"]"
   ]
  },
  {
   "cell_type": "code",
   "execution_count": 78,
   "metadata": {},
   "outputs": [
    {
     "data": {
      "text/html": [
       "<div>\n",
       "<style scoped>\n",
       "    .dataframe tbody tr th:only-of-type {\n",
       "        vertical-align: middle;\n",
       "    }\n",
       "\n",
       "    .dataframe tbody tr th {\n",
       "        vertical-align: top;\n",
       "    }\n",
       "\n",
       "    .dataframe thead th {\n",
       "        text-align: right;\n",
       "    }\n",
       "</style>\n",
       "<table border=\"1\" class=\"dataframe\">\n",
       "  <thead>\n",
       "    <tr style=\"text-align: right;\">\n",
       "      <th></th>\n",
       "      <th>Unnamed: 0</th>\n",
       "      <th>RT</th>\n",
       "      <th>SERIALNO</th>\n",
       "      <th>DIVISION</th>\n",
       "      <th>SPORDER</th>\n",
       "      <th>PUMA</th>\n",
       "      <th>REGION</th>\n",
       "      <th>ST</th>\n",
       "      <th>ADJINC</th>\n",
       "      <th>PWGTP</th>\n",
       "      <th>...</th>\n",
       "      <th>FOREIGN</th>\n",
       "      <th>REC_NO_MAR</th>\n",
       "      <th>MARHM_new</th>\n",
       "      <th>MIGSP_ORIG</th>\n",
       "      <th>UNEMPLOYED</th>\n",
       "      <th>IN_LF</th>\n",
       "      <th>AGE_18_34</th>\n",
       "      <th>AGE_35_64</th>\n",
       "      <th>AGE_OVER_65</th>\n",
       "      <th>CHOSEN_STATE</th>\n",
       "    </tr>\n",
       "  </thead>\n",
       "  <tbody>\n",
       "    <tr>\n",
       "      <th>4</th>\n",
       "      <td>4</td>\n",
       "      <td>P</td>\n",
       "      <td>2018GQ0000251</td>\n",
       "      <td>6</td>\n",
       "      <td>1</td>\n",
       "      <td>2701</td>\n",
       "      <td>3</td>\n",
       "      <td>1</td>\n",
       "      <td>1013097</td>\n",
       "      <td>16</td>\n",
       "      <td>...</td>\n",
       "      <td>0</td>\n",
       "      <td>0</td>\n",
       "      <td>NaN</td>\n",
       "      <td>1</td>\n",
       "      <td>1</td>\n",
       "      <td>0</td>\n",
       "      <td>1</td>\n",
       "      <td>0</td>\n",
       "      <td>0</td>\n",
       "      <td>1</td>\n",
       "    </tr>\n",
       "    <tr>\n",
       "      <th>9</th>\n",
       "      <td>9</td>\n",
       "      <td>P</td>\n",
       "      <td>2018GQ0001011</td>\n",
       "      <td>6</td>\n",
       "      <td>1</td>\n",
       "      <td>1600</td>\n",
       "      <td>3</td>\n",
       "      <td>1</td>\n",
       "      <td>1013097</td>\n",
       "      <td>91</td>\n",
       "      <td>...</td>\n",
       "      <td>0</td>\n",
       "      <td>0</td>\n",
       "      <td>NaN</td>\n",
       "      <td>1</td>\n",
       "      <td>1</td>\n",
       "      <td>0</td>\n",
       "      <td>1</td>\n",
       "      <td>0</td>\n",
       "      <td>0</td>\n",
       "      <td>1</td>\n",
       "    </tr>\n",
       "    <tr>\n",
       "      <th>12</th>\n",
       "      <td>12</td>\n",
       "      <td>P</td>\n",
       "      <td>2018GQ0001284</td>\n",
       "      <td>6</td>\n",
       "      <td>1</td>\n",
       "      <td>1303</td>\n",
       "      <td>3</td>\n",
       "      <td>1</td>\n",
       "      <td>1013097</td>\n",
       "      <td>16</td>\n",
       "      <td>...</td>\n",
       "      <td>1</td>\n",
       "      <td>0</td>\n",
       "      <td>0.0</td>\n",
       "      <td>1</td>\n",
       "      <td>1</td>\n",
       "      <td>0</td>\n",
       "      <td>0</td>\n",
       "      <td>1</td>\n",
       "      <td>0</td>\n",
       "      <td>1</td>\n",
       "    </tr>\n",
       "    <tr>\n",
       "      <th>17</th>\n",
       "      <td>17</td>\n",
       "      <td>P</td>\n",
       "      <td>2018GQ0002020</td>\n",
       "      <td>6</td>\n",
       "      <td>1</td>\n",
       "      <td>1000</td>\n",
       "      <td>3</td>\n",
       "      <td>1</td>\n",
       "      <td>1013097</td>\n",
       "      <td>11</td>\n",
       "      <td>...</td>\n",
       "      <td>0</td>\n",
       "      <td>0</td>\n",
       "      <td>0.0</td>\n",
       "      <td>1</td>\n",
       "      <td>1</td>\n",
       "      <td>0</td>\n",
       "      <td>0</td>\n",
       "      <td>1</td>\n",
       "      <td>0</td>\n",
       "      <td>1</td>\n",
       "    </tr>\n",
       "    <tr>\n",
       "      <th>18</th>\n",
       "      <td>18</td>\n",
       "      <td>P</td>\n",
       "      <td>2018GQ0002142</td>\n",
       "      <td>6</td>\n",
       "      <td>1</td>\n",
       "      <td>1302</td>\n",
       "      <td>3</td>\n",
       "      <td>1</td>\n",
       "      <td>1013097</td>\n",
       "      <td>88</td>\n",
       "      <td>...</td>\n",
       "      <td>0</td>\n",
       "      <td>0</td>\n",
       "      <td>NaN</td>\n",
       "      <td>1</td>\n",
       "      <td>0</td>\n",
       "      <td>1</td>\n",
       "      <td>1</td>\n",
       "      <td>0</td>\n",
       "      <td>0</td>\n",
       "      <td>1</td>\n",
       "    </tr>\n",
       "    <tr>\n",
       "      <th>...</th>\n",
       "      <td>...</td>\n",
       "      <td>...</td>\n",
       "      <td>...</td>\n",
       "      <td>...</td>\n",
       "      <td>...</td>\n",
       "      <td>...</td>\n",
       "      <td>...</td>\n",
       "      <td>...</td>\n",
       "      <td>...</td>\n",
       "      <td>...</td>\n",
       "      <td>...</td>\n",
       "      <td>...</td>\n",
       "      <td>...</td>\n",
       "      <td>...</td>\n",
       "      <td>...</td>\n",
       "      <td>...</td>\n",
       "      <td>...</td>\n",
       "      <td>...</td>\n",
       "      <td>...</td>\n",
       "      <td>...</td>\n",
       "      <td>...</td>\n",
       "    </tr>\n",
       "    <tr>\n",
       "      <th>2530828</th>\n",
       "      <td>2530828</td>\n",
       "      <td>P</td>\n",
       "      <td>2018HU1379140</td>\n",
       "      <td>8</td>\n",
       "      <td>1</td>\n",
       "      <td>300</td>\n",
       "      <td>4</td>\n",
       "      <td>56</td>\n",
       "      <td>1013097</td>\n",
       "      <td>45</td>\n",
       "      <td>...</td>\n",
       "      <td>0</td>\n",
       "      <td>0</td>\n",
       "      <td>NaN</td>\n",
       "      <td>56</td>\n",
       "      <td>0</td>\n",
       "      <td>1</td>\n",
       "      <td>1</td>\n",
       "      <td>0</td>\n",
       "      <td>0</td>\n",
       "      <td>56</td>\n",
       "    </tr>\n",
       "    <tr>\n",
       "      <th>2530829</th>\n",
       "      <td>2530829</td>\n",
       "      <td>P</td>\n",
       "      <td>2018HU1379389</td>\n",
       "      <td>8</td>\n",
       "      <td>1</td>\n",
       "      <td>300</td>\n",
       "      <td>4</td>\n",
       "      <td>56</td>\n",
       "      <td>1013097</td>\n",
       "      <td>45</td>\n",
       "      <td>...</td>\n",
       "      <td>0</td>\n",
       "      <td>0</td>\n",
       "      <td>0.0</td>\n",
       "      <td>56</td>\n",
       "      <td>0</td>\n",
       "      <td>1</td>\n",
       "      <td>0</td>\n",
       "      <td>1</td>\n",
       "      <td>0</td>\n",
       "      <td>56</td>\n",
       "    </tr>\n",
       "    <tr>\n",
       "      <th>2530837</th>\n",
       "      <td>2530837</td>\n",
       "      <td>P</td>\n",
       "      <td>2018HU1382844</td>\n",
       "      <td>8</td>\n",
       "      <td>1</td>\n",
       "      <td>100</td>\n",
       "      <td>4</td>\n",
       "      <td>56</td>\n",
       "      <td>1013097</td>\n",
       "      <td>78</td>\n",
       "      <td>...</td>\n",
       "      <td>0</td>\n",
       "      <td>0</td>\n",
       "      <td>NaN</td>\n",
       "      <td>56</td>\n",
       "      <td>0</td>\n",
       "      <td>1</td>\n",
       "      <td>1</td>\n",
       "      <td>0</td>\n",
       "      <td>0</td>\n",
       "      <td>56</td>\n",
       "    </tr>\n",
       "    <tr>\n",
       "      <th>2530860</th>\n",
       "      <td>2530860</td>\n",
       "      <td>P</td>\n",
       "      <td>2018HU1391612</td>\n",
       "      <td>8</td>\n",
       "      <td>1</td>\n",
       "      <td>200</td>\n",
       "      <td>4</td>\n",
       "      <td>56</td>\n",
       "      <td>1013097</td>\n",
       "      <td>299</td>\n",
       "      <td>...</td>\n",
       "      <td>0</td>\n",
       "      <td>0</td>\n",
       "      <td>0.0</td>\n",
       "      <td>56</td>\n",
       "      <td>0</td>\n",
       "      <td>1</td>\n",
       "      <td>0</td>\n",
       "      <td>1</td>\n",
       "      <td>0</td>\n",
       "      <td>56</td>\n",
       "    </tr>\n",
       "    <tr>\n",
       "      <th>2530861</th>\n",
       "      <td>2530861</td>\n",
       "      <td>P</td>\n",
       "      <td>2018HU1391612</td>\n",
       "      <td>8</td>\n",
       "      <td>2</td>\n",
       "      <td>200</td>\n",
       "      <td>4</td>\n",
       "      <td>56</td>\n",
       "      <td>1013097</td>\n",
       "      <td>101</td>\n",
       "      <td>...</td>\n",
       "      <td>0</td>\n",
       "      <td>0</td>\n",
       "      <td>0.0</td>\n",
       "      <td>56</td>\n",
       "      <td>0</td>\n",
       "      <td>1</td>\n",
       "      <td>0</td>\n",
       "      <td>1</td>\n",
       "      <td>0</td>\n",
       "      <td>56</td>\n",
       "    </tr>\n",
       "  </tbody>\n",
       "</table>\n",
       "<p>267923 rows × 259 columns</p>\n",
       "</div>"
      ],
      "text/plain": [
       "         Unnamed: 0 RT       SERIALNO  DIVISION  SPORDER  PUMA  REGION  ST  \\\n",
       "4                 4  P  2018GQ0000251         6        1  2701       3   1   \n",
       "9                 9  P  2018GQ0001011         6        1  1600       3   1   \n",
       "12               12  P  2018GQ0001284         6        1  1303       3   1   \n",
       "17               17  P  2018GQ0002020         6        1  1000       3   1   \n",
       "18               18  P  2018GQ0002142         6        1  1302       3   1   \n",
       "...             ... ..            ...       ...      ...   ...     ...  ..   \n",
       "2530828     2530828  P  2018HU1379140         8        1   300       4  56   \n",
       "2530829     2530829  P  2018HU1379389         8        1   300       4  56   \n",
       "2530837     2530837  P  2018HU1382844         8        1   100       4  56   \n",
       "2530860     2530860  P  2018HU1391612         8        1   200       4  56   \n",
       "2530861     2530861  P  2018HU1391612         8        2   200       4  56   \n",
       "\n",
       "          ADJINC  PWGTP  ...  FOREIGN  REC_NO_MAR  MARHM_new  MIGSP_ORIG  \\\n",
       "4        1013097     16  ...        0           0        NaN           1   \n",
       "9        1013097     91  ...        0           0        NaN           1   \n",
       "12       1013097     16  ...        1           0        0.0           1   \n",
       "17       1013097     11  ...        0           0        0.0           1   \n",
       "18       1013097     88  ...        0           0        NaN           1   \n",
       "...          ...    ...  ...      ...         ...        ...         ...   \n",
       "2530828  1013097     45  ...        0           0        NaN          56   \n",
       "2530829  1013097     45  ...        0           0        0.0          56   \n",
       "2530837  1013097     78  ...        0           0        NaN          56   \n",
       "2530860  1013097    299  ...        0           0        0.0          56   \n",
       "2530861  1013097    101  ...        0           0        0.0          56   \n",
       "\n",
       "         UNEMPLOYED  IN_LF  AGE_18_34  AGE_35_64  AGE_OVER_65  CHOSEN_STATE  \n",
       "4                 1      0          1          0            0             1  \n",
       "9                 1      0          1          0            0             1  \n",
       "12                1      0          0          1            0             1  \n",
       "17                1      0          0          1            0             1  \n",
       "18                0      1          1          0            0             1  \n",
       "...             ...    ...        ...        ...          ...           ...  \n",
       "2530828           0      1          1          0            0            56  \n",
       "2530829           0      1          0          1            0            56  \n",
       "2530837           0      1          1          0            0            56  \n",
       "2530860           0      1          0          1            0            56  \n",
       "2530861           0      1          0          1            0            56  \n",
       "\n",
       "[267923 rows x 259 columns]"
      ]
     },
     "execution_count": 78,
     "metadata": {},
     "output_type": "execute_result"
    }
   ],
   "source": [
    "df_leave[df_leave[\"CHOSEN_STATE\"] == df_leave[\"MIGSP_ORIG\"]]"
   ]
  },
  {
   "cell_type": "code",
   "execution_count": 363,
   "metadata": {},
   "outputs": [
    {
     "data": {
      "text/html": [
       "<div>\n",
       "<style scoped>\n",
       "    .dataframe tbody tr th:only-of-type {\n",
       "        vertical-align: middle;\n",
       "    }\n",
       "\n",
       "    .dataframe tbody tr th {\n",
       "        vertical-align: top;\n",
       "    }\n",
       "\n",
       "    .dataframe thead th {\n",
       "        text-align: right;\n",
       "    }\n",
       "</style>\n",
       "<table border=\"1\" class=\"dataframe\">\n",
       "  <thead>\n",
       "    <tr style=\"text-align: right;\">\n",
       "      <th></th>\n",
       "      <th>Unnamed: 0</th>\n",
       "      <th>RT</th>\n",
       "      <th>SERIALNO</th>\n",
       "      <th>DIVISION</th>\n",
       "      <th>SPORDER</th>\n",
       "      <th>PUMA</th>\n",
       "      <th>REGION</th>\n",
       "      <th>ST</th>\n",
       "      <th>ADJINC</th>\n",
       "      <th>PWGTP</th>\n",
       "      <th>...</th>\n",
       "      <th>REC_NO_MAR</th>\n",
       "      <th>MARHM_new</th>\n",
       "      <th>AGE_18_34</th>\n",
       "      <th>AGE_35_64</th>\n",
       "      <th>AGE_OVER_65</th>\n",
       "      <th>UNEMPLOYED</th>\n",
       "      <th>IN_LF</th>\n",
       "      <th>CHOSEN_type</th>\n",
       "      <th>ORIG_TYPE</th>\n",
       "      <th>CHOSEN_STATE</th>\n",
       "    </tr>\n",
       "  </thead>\n",
       "  <tbody>\n",
       "    <tr>\n",
       "      <th>0</th>\n",
       "      <td>0</td>\n",
       "      <td>P</td>\n",
       "      <td>2018GQ0000049</td>\n",
       "      <td>6</td>\n",
       "      <td>1</td>\n",
       "      <td>1600</td>\n",
       "      <td>3</td>\n",
       "      <td>1</td>\n",
       "      <td>1013097</td>\n",
       "      <td>75</td>\n",
       "      <td>...</td>\n",
       "      <td>0</td>\n",
       "      <td>NaN</td>\n",
       "      <td>1</td>\n",
       "      <td>0</td>\n",
       "      <td>0</td>\n",
       "      <td>1</td>\n",
       "      <td>0</td>\n",
       "      <td>Metro</td>\n",
       "      <td>Metro</td>\n",
       "      <td>1</td>\n",
       "    </tr>\n",
       "    <tr>\n",
       "      <th>1</th>\n",
       "      <td>1</td>\n",
       "      <td>P</td>\n",
       "      <td>2018GQ0000058</td>\n",
       "      <td>6</td>\n",
       "      <td>1</td>\n",
       "      <td>1900</td>\n",
       "      <td>3</td>\n",
       "      <td>1</td>\n",
       "      <td>1013097</td>\n",
       "      <td>75</td>\n",
       "      <td>...</td>\n",
       "      <td>0</td>\n",
       "      <td>NaN</td>\n",
       "      <td>1</td>\n",
       "      <td>0</td>\n",
       "      <td>0</td>\n",
       "      <td>1</td>\n",
       "      <td>0</td>\n",
       "      <td>Metro</td>\n",
       "      <td>T34</td>\n",
       "      <td>1</td>\n",
       "    </tr>\n",
       "    <tr>\n",
       "      <th>4</th>\n",
       "      <td>4</td>\n",
       "      <td>P</td>\n",
       "      <td>2018GQ0000251</td>\n",
       "      <td>6</td>\n",
       "      <td>1</td>\n",
       "      <td>2701</td>\n",
       "      <td>3</td>\n",
       "      <td>1</td>\n",
       "      <td>1013097</td>\n",
       "      <td>16</td>\n",
       "      <td>...</td>\n",
       "      <td>0</td>\n",
       "      <td>NaN</td>\n",
       "      <td>1</td>\n",
       "      <td>0</td>\n",
       "      <td>0</td>\n",
       "      <td>1</td>\n",
       "      <td>0</td>\n",
       "      <td>Metro</td>\n",
       "      <td>Metro</td>\n",
       "      <td>1</td>\n",
       "    </tr>\n",
       "    <tr>\n",
       "      <th>9</th>\n",
       "      <td>9</td>\n",
       "      <td>P</td>\n",
       "      <td>2018GQ0001011</td>\n",
       "      <td>6</td>\n",
       "      <td>1</td>\n",
       "      <td>1600</td>\n",
       "      <td>3</td>\n",
       "      <td>1</td>\n",
       "      <td>1013097</td>\n",
       "      <td>91</td>\n",
       "      <td>...</td>\n",
       "      <td>0</td>\n",
       "      <td>NaN</td>\n",
       "      <td>1</td>\n",
       "      <td>0</td>\n",
       "      <td>0</td>\n",
       "      <td>1</td>\n",
       "      <td>0</td>\n",
       "      <td>Metro</td>\n",
       "      <td>Metro</td>\n",
       "      <td>1</td>\n",
       "    </tr>\n",
       "    <tr>\n",
       "      <th>12</th>\n",
       "      <td>12</td>\n",
       "      <td>P</td>\n",
       "      <td>2018GQ0001284</td>\n",
       "      <td>6</td>\n",
       "      <td>1</td>\n",
       "      <td>1303</td>\n",
       "      <td>3</td>\n",
       "      <td>1</td>\n",
       "      <td>1013097</td>\n",
       "      <td>16</td>\n",
       "      <td>...</td>\n",
       "      <td>0</td>\n",
       "      <td>0.0</td>\n",
       "      <td>0</td>\n",
       "      <td>1</td>\n",
       "      <td>0</td>\n",
       "      <td>1</td>\n",
       "      <td>0</td>\n",
       "      <td>Metro</td>\n",
       "      <td>Metro</td>\n",
       "      <td>1</td>\n",
       "    </tr>\n",
       "    <tr>\n",
       "      <th>...</th>\n",
       "      <td>...</td>\n",
       "      <td>...</td>\n",
       "      <td>...</td>\n",
       "      <td>...</td>\n",
       "      <td>...</td>\n",
       "      <td>...</td>\n",
       "      <td>...</td>\n",
       "      <td>...</td>\n",
       "      <td>...</td>\n",
       "      <td>...</td>\n",
       "      <td>...</td>\n",
       "      <td>...</td>\n",
       "      <td>...</td>\n",
       "      <td>...</td>\n",
       "      <td>...</td>\n",
       "      <td>...</td>\n",
       "      <td>...</td>\n",
       "      <td>...</td>\n",
       "      <td>...</td>\n",
       "      <td>...</td>\n",
       "      <td>...</td>\n",
       "    </tr>\n",
       "    <tr>\n",
       "      <th>2530840</th>\n",
       "      <td>2530840</td>\n",
       "      <td>P</td>\n",
       "      <td>2018HU1384891</td>\n",
       "      <td>8</td>\n",
       "      <td>2</td>\n",
       "      <td>300</td>\n",
       "      <td>4</td>\n",
       "      <td>56</td>\n",
       "      <td>1013097</td>\n",
       "      <td>119</td>\n",
       "      <td>...</td>\n",
       "      <td>0</td>\n",
       "      <td>NaN</td>\n",
       "      <td>1</td>\n",
       "      <td>0</td>\n",
       "      <td>0</td>\n",
       "      <td>0</td>\n",
       "      <td>1</td>\n",
       "      <td>Micro</td>\n",
       "      <td>Micro</td>\n",
       "      <td>56</td>\n",
       "    </tr>\n",
       "    <tr>\n",
       "      <th>2530841</th>\n",
       "      <td>2530841</td>\n",
       "      <td>P</td>\n",
       "      <td>2018HU1384891</td>\n",
       "      <td>8</td>\n",
       "      <td>3</td>\n",
       "      <td>300</td>\n",
       "      <td>4</td>\n",
       "      <td>56</td>\n",
       "      <td>1013097</td>\n",
       "      <td>116</td>\n",
       "      <td>...</td>\n",
       "      <td>0</td>\n",
       "      <td>NaN</td>\n",
       "      <td>1</td>\n",
       "      <td>0</td>\n",
       "      <td>0</td>\n",
       "      <td>0</td>\n",
       "      <td>1</td>\n",
       "      <td>Micro</td>\n",
       "      <td>Micro</td>\n",
       "      <td>56</td>\n",
       "    </tr>\n",
       "    <tr>\n",
       "      <th>2530860</th>\n",
       "      <td>2530860</td>\n",
       "      <td>P</td>\n",
       "      <td>2018HU1391612</td>\n",
       "      <td>8</td>\n",
       "      <td>1</td>\n",
       "      <td>200</td>\n",
       "      <td>4</td>\n",
       "      <td>56</td>\n",
       "      <td>1013097</td>\n",
       "      <td>299</td>\n",
       "      <td>...</td>\n",
       "      <td>0</td>\n",
       "      <td>0.0</td>\n",
       "      <td>0</td>\n",
       "      <td>1</td>\n",
       "      <td>0</td>\n",
       "      <td>0</td>\n",
       "      <td>1</td>\n",
       "      <td>Micro</td>\n",
       "      <td>Micro</td>\n",
       "      <td>56</td>\n",
       "    </tr>\n",
       "    <tr>\n",
       "      <th>2530861</th>\n",
       "      <td>2530861</td>\n",
       "      <td>P</td>\n",
       "      <td>2018HU1391612</td>\n",
       "      <td>8</td>\n",
       "      <td>2</td>\n",
       "      <td>200</td>\n",
       "      <td>4</td>\n",
       "      <td>56</td>\n",
       "      <td>1013097</td>\n",
       "      <td>101</td>\n",
       "      <td>...</td>\n",
       "      <td>0</td>\n",
       "      <td>0.0</td>\n",
       "      <td>0</td>\n",
       "      <td>1</td>\n",
       "      <td>0</td>\n",
       "      <td>0</td>\n",
       "      <td>1</td>\n",
       "      <td>Micro</td>\n",
       "      <td>Micro</td>\n",
       "      <td>56</td>\n",
       "    </tr>\n",
       "    <tr>\n",
       "      <th>2530873</th>\n",
       "      <td>2530873</td>\n",
       "      <td>P</td>\n",
       "      <td>2018HU1393862</td>\n",
       "      <td>8</td>\n",
       "      <td>3</td>\n",
       "      <td>400</td>\n",
       "      <td>4</td>\n",
       "      <td>56</td>\n",
       "      <td>1013097</td>\n",
       "      <td>91</td>\n",
       "      <td>...</td>\n",
       "      <td>0</td>\n",
       "      <td>NaN</td>\n",
       "      <td>1</td>\n",
       "      <td>0</td>\n",
       "      <td>0</td>\n",
       "      <td>0</td>\n",
       "      <td>1</td>\n",
       "      <td>NaN</td>\n",
       "      <td>T34</td>\n",
       "      <td>56</td>\n",
       "    </tr>\n",
       "  </tbody>\n",
       "</table>\n",
       "<p>327984 rows × 260 columns</p>\n",
       "</div>"
      ],
      "text/plain": [
       "         Unnamed: 0 RT       SERIALNO  DIVISION  SPORDER  PUMA  REGION  ST  \\\n",
       "0                 0  P  2018GQ0000049         6        1  1600       3   1   \n",
       "1                 1  P  2018GQ0000058         6        1  1900       3   1   \n",
       "4                 4  P  2018GQ0000251         6        1  2701       3   1   \n",
       "9                 9  P  2018GQ0001011         6        1  1600       3   1   \n",
       "12               12  P  2018GQ0001284         6        1  1303       3   1   \n",
       "...             ... ..            ...       ...      ...   ...     ...  ..   \n",
       "2530840     2530840  P  2018HU1384891         8        2   300       4  56   \n",
       "2530841     2530841  P  2018HU1384891         8        3   300       4  56   \n",
       "2530860     2530860  P  2018HU1391612         8        1   200       4  56   \n",
       "2530861     2530861  P  2018HU1391612         8        2   200       4  56   \n",
       "2530873     2530873  P  2018HU1393862         8        3   400       4  56   \n",
       "\n",
       "          ADJINC  PWGTP  ...  REC_NO_MAR  MARHM_new  AGE_18_34  AGE_35_64  \\\n",
       "0        1013097     75  ...           0        NaN          1          0   \n",
       "1        1013097     75  ...           0        NaN          1          0   \n",
       "4        1013097     16  ...           0        NaN          1          0   \n",
       "9        1013097     91  ...           0        NaN          1          0   \n",
       "12       1013097     16  ...           0        0.0          0          1   \n",
       "...          ...    ...  ...         ...        ...        ...        ...   \n",
       "2530840  1013097    119  ...           0        NaN          1          0   \n",
       "2530841  1013097    116  ...           0        NaN          1          0   \n",
       "2530860  1013097    299  ...           0        0.0          0          1   \n",
       "2530861  1013097    101  ...           0        0.0          0          1   \n",
       "2530873  1013097     91  ...           0        NaN          1          0   \n",
       "\n",
       "         AGE_OVER_65  UNEMPLOYED  IN_LF  CHOSEN_type  ORIG_TYPE  CHOSEN_STATE  \n",
       "0                  0           1      0        Metro      Metro             1  \n",
       "1                  0           1      0        Metro        T34             1  \n",
       "4                  0           1      0        Metro      Metro             1  \n",
       "9                  0           1      0        Metro      Metro             1  \n",
       "12                 0           1      0        Metro      Metro             1  \n",
       "...              ...         ...    ...          ...        ...           ...  \n",
       "2530840            0           0      1        Micro      Micro            56  \n",
       "2530841            0           0      1        Micro      Micro            56  \n",
       "2530860            0           0      1        Micro      Micro            56  \n",
       "2530861            0           0      1        Micro      Micro            56  \n",
       "2530873            0           0      1          NaN        T34            56  \n",
       "\n",
       "[327984 rows x 260 columns]"
      ]
     },
     "execution_count": 363,
     "metadata": {},
     "output_type": "execute_result"
    }
   ],
   "source": [
    "df_leave"
   ]
  },
  {
   "cell_type": "code",
   "execution_count": 364,
   "metadata": {},
   "outputs": [
    {
     "data": {
      "text/plain": [
       "0.8168782623542612"
      ]
     },
     "execution_count": 364,
     "metadata": {},
     "output_type": "execute_result"
    }
   ],
   "source": [
    "267923/327984"
   ]
  },
  {
   "cell_type": "code",
   "execution_count": 365,
   "metadata": {},
   "outputs": [
    {
     "data": {
      "text/html": [
       "<div>\n",
       "<style scoped>\n",
       "    .dataframe tbody tr th:only-of-type {\n",
       "        vertical-align: middle;\n",
       "    }\n",
       "\n",
       "    .dataframe tbody tr th {\n",
       "        vertical-align: top;\n",
       "    }\n",
       "\n",
       "    .dataframe thead th {\n",
       "        text-align: right;\n",
       "    }\n",
       "</style>\n",
       "<table border=\"1\" class=\"dataframe\">\n",
       "  <thead>\n",
       "    <tr style=\"text-align: right;\">\n",
       "      <th></th>\n",
       "      <th>Unnamed: 0</th>\n",
       "      <th>RT</th>\n",
       "      <th>SERIALNO</th>\n",
       "      <th>DIVISION</th>\n",
       "      <th>SPORDER</th>\n",
       "      <th>PUMA</th>\n",
       "      <th>REGION</th>\n",
       "      <th>ST</th>\n",
       "      <th>ADJINC</th>\n",
       "      <th>PWGTP</th>\n",
       "      <th>...</th>\n",
       "      <th>REC_NO_MAR</th>\n",
       "      <th>MARHM_new</th>\n",
       "      <th>AGE_18_34</th>\n",
       "      <th>AGE_35_64</th>\n",
       "      <th>AGE_OVER_65</th>\n",
       "      <th>UNEMPLOYED</th>\n",
       "      <th>IN_LF</th>\n",
       "      <th>CHOSEN_type</th>\n",
       "      <th>ORIG_TYPE</th>\n",
       "      <th>CHOSEN_STATE</th>\n",
       "    </tr>\n",
       "  </thead>\n",
       "  <tbody>\n",
       "    <tr>\n",
       "      <th>4</th>\n",
       "      <td>4</td>\n",
       "      <td>P</td>\n",
       "      <td>2018GQ0000251</td>\n",
       "      <td>6</td>\n",
       "      <td>1</td>\n",
       "      <td>2701</td>\n",
       "      <td>3</td>\n",
       "      <td>1</td>\n",
       "      <td>1013097</td>\n",
       "      <td>16</td>\n",
       "      <td>...</td>\n",
       "      <td>0</td>\n",
       "      <td>NaN</td>\n",
       "      <td>1</td>\n",
       "      <td>0</td>\n",
       "      <td>0</td>\n",
       "      <td>1</td>\n",
       "      <td>0</td>\n",
       "      <td>Metro</td>\n",
       "      <td>Metro</td>\n",
       "      <td>1</td>\n",
       "    </tr>\n",
       "    <tr>\n",
       "      <th>9</th>\n",
       "      <td>9</td>\n",
       "      <td>P</td>\n",
       "      <td>2018GQ0001011</td>\n",
       "      <td>6</td>\n",
       "      <td>1</td>\n",
       "      <td>1600</td>\n",
       "      <td>3</td>\n",
       "      <td>1</td>\n",
       "      <td>1013097</td>\n",
       "      <td>91</td>\n",
       "      <td>...</td>\n",
       "      <td>0</td>\n",
       "      <td>NaN</td>\n",
       "      <td>1</td>\n",
       "      <td>0</td>\n",
       "      <td>0</td>\n",
       "      <td>1</td>\n",
       "      <td>0</td>\n",
       "      <td>Metro</td>\n",
       "      <td>Metro</td>\n",
       "      <td>1</td>\n",
       "    </tr>\n",
       "    <tr>\n",
       "      <th>17</th>\n",
       "      <td>17</td>\n",
       "      <td>P</td>\n",
       "      <td>2018GQ0002020</td>\n",
       "      <td>6</td>\n",
       "      <td>1</td>\n",
       "      <td>1000</td>\n",
       "      <td>3</td>\n",
       "      <td>1</td>\n",
       "      <td>1013097</td>\n",
       "      <td>11</td>\n",
       "      <td>...</td>\n",
       "      <td>0</td>\n",
       "      <td>0.0</td>\n",
       "      <td>0</td>\n",
       "      <td>1</td>\n",
       "      <td>0</td>\n",
       "      <td>1</td>\n",
       "      <td>0</td>\n",
       "      <td>NaN</td>\n",
       "      <td>Metro</td>\n",
       "      <td>1</td>\n",
       "    </tr>\n",
       "    <tr>\n",
       "      <th>18</th>\n",
       "      <td>18</td>\n",
       "      <td>P</td>\n",
       "      <td>2018GQ0002142</td>\n",
       "      <td>6</td>\n",
       "      <td>1</td>\n",
       "      <td>1302</td>\n",
       "      <td>3</td>\n",
       "      <td>1</td>\n",
       "      <td>1013097</td>\n",
       "      <td>88</td>\n",
       "      <td>...</td>\n",
       "      <td>0</td>\n",
       "      <td>NaN</td>\n",
       "      <td>1</td>\n",
       "      <td>0</td>\n",
       "      <td>0</td>\n",
       "      <td>0</td>\n",
       "      <td>1</td>\n",
       "      <td>Metro</td>\n",
       "      <td>Metro</td>\n",
       "      <td>1</td>\n",
       "    </tr>\n",
       "    <tr>\n",
       "      <th>19</th>\n",
       "      <td>19</td>\n",
       "      <td>P</td>\n",
       "      <td>2018GQ0002169</td>\n",
       "      <td>6</td>\n",
       "      <td>1</td>\n",
       "      <td>2200</td>\n",
       "      <td>3</td>\n",
       "      <td>1</td>\n",
       "      <td>1013097</td>\n",
       "      <td>20</td>\n",
       "      <td>...</td>\n",
       "      <td>0</td>\n",
       "      <td>0.0</td>\n",
       "      <td>0</td>\n",
       "      <td>1</td>\n",
       "      <td>0</td>\n",
       "      <td>0</td>\n",
       "      <td>1</td>\n",
       "      <td>NaN</td>\n",
       "      <td>Metro</td>\n",
       "      <td>1</td>\n",
       "    </tr>\n",
       "    <tr>\n",
       "      <th>...</th>\n",
       "      <td>...</td>\n",
       "      <td>...</td>\n",
       "      <td>...</td>\n",
       "      <td>...</td>\n",
       "      <td>...</td>\n",
       "      <td>...</td>\n",
       "      <td>...</td>\n",
       "      <td>...</td>\n",
       "      <td>...</td>\n",
       "      <td>...</td>\n",
       "      <td>...</td>\n",
       "      <td>...</td>\n",
       "      <td>...</td>\n",
       "      <td>...</td>\n",
       "      <td>...</td>\n",
       "      <td>...</td>\n",
       "      <td>...</td>\n",
       "      <td>...</td>\n",
       "      <td>...</td>\n",
       "      <td>...</td>\n",
       "      <td>...</td>\n",
       "    </tr>\n",
       "    <tr>\n",
       "      <th>2530665</th>\n",
       "      <td>2530665</td>\n",
       "      <td>P</td>\n",
       "      <td>2018HU1322809</td>\n",
       "      <td>8</td>\n",
       "      <td>2</td>\n",
       "      <td>100</td>\n",
       "      <td>4</td>\n",
       "      <td>56</td>\n",
       "      <td>1013097</td>\n",
       "      <td>120</td>\n",
       "      <td>...</td>\n",
       "      <td>0</td>\n",
       "      <td>NaN</td>\n",
       "      <td>1</td>\n",
       "      <td>0</td>\n",
       "      <td>0</td>\n",
       "      <td>0</td>\n",
       "      <td>1</td>\n",
       "      <td>NaN</td>\n",
       "      <td>Micro</td>\n",
       "      <td>56</td>\n",
       "    </tr>\n",
       "    <tr>\n",
       "      <th>2530711</th>\n",
       "      <td>2530711</td>\n",
       "      <td>P</td>\n",
       "      <td>2018HU1340413</td>\n",
       "      <td>8</td>\n",
       "      <td>1</td>\n",
       "      <td>500</td>\n",
       "      <td>4</td>\n",
       "      <td>56</td>\n",
       "      <td>1013097</td>\n",
       "      <td>122</td>\n",
       "      <td>...</td>\n",
       "      <td>0</td>\n",
       "      <td>0.0</td>\n",
       "      <td>1</td>\n",
       "      <td>0</td>\n",
       "      <td>0</td>\n",
       "      <td>0</td>\n",
       "      <td>1</td>\n",
       "      <td>NaN</td>\n",
       "      <td>Micro</td>\n",
       "      <td>56</td>\n",
       "    </tr>\n",
       "    <tr>\n",
       "      <th>2530712</th>\n",
       "      <td>2530712</td>\n",
       "      <td>P</td>\n",
       "      <td>2018HU1340413</td>\n",
       "      <td>8</td>\n",
       "      <td>2</td>\n",
       "      <td>500</td>\n",
       "      <td>4</td>\n",
       "      <td>56</td>\n",
       "      <td>1013097</td>\n",
       "      <td>174</td>\n",
       "      <td>...</td>\n",
       "      <td>0</td>\n",
       "      <td>0.0</td>\n",
       "      <td>1</td>\n",
       "      <td>0</td>\n",
       "      <td>0</td>\n",
       "      <td>1</td>\n",
       "      <td>0</td>\n",
       "      <td>NaN</td>\n",
       "      <td>Micro</td>\n",
       "      <td>56</td>\n",
       "    </tr>\n",
       "    <tr>\n",
       "      <th>2530829</th>\n",
       "      <td>2530829</td>\n",
       "      <td>P</td>\n",
       "      <td>2018HU1379389</td>\n",
       "      <td>8</td>\n",
       "      <td>1</td>\n",
       "      <td>300</td>\n",
       "      <td>4</td>\n",
       "      <td>56</td>\n",
       "      <td>1013097</td>\n",
       "      <td>45</td>\n",
       "      <td>...</td>\n",
       "      <td>0</td>\n",
       "      <td>0.0</td>\n",
       "      <td>0</td>\n",
       "      <td>1</td>\n",
       "      <td>0</td>\n",
       "      <td>0</td>\n",
       "      <td>1</td>\n",
       "      <td>Micro</td>\n",
       "      <td>Micro</td>\n",
       "      <td>56</td>\n",
       "    </tr>\n",
       "    <tr>\n",
       "      <th>2530873</th>\n",
       "      <td>2530873</td>\n",
       "      <td>P</td>\n",
       "      <td>2018HU1393862</td>\n",
       "      <td>8</td>\n",
       "      <td>3</td>\n",
       "      <td>400</td>\n",
       "      <td>4</td>\n",
       "      <td>56</td>\n",
       "      <td>1013097</td>\n",
       "      <td>91</td>\n",
       "      <td>...</td>\n",
       "      <td>0</td>\n",
       "      <td>NaN</td>\n",
       "      <td>1</td>\n",
       "      <td>0</td>\n",
       "      <td>0</td>\n",
       "      <td>0</td>\n",
       "      <td>1</td>\n",
       "      <td>NaN</td>\n",
       "      <td>T34</td>\n",
       "      <td>56</td>\n",
       "    </tr>\n",
       "  </tbody>\n",
       "</table>\n",
       "<p>163118 rows × 260 columns</p>\n",
       "</div>"
      ],
      "text/plain": [
       "         Unnamed: 0 RT       SERIALNO  DIVISION  SPORDER  PUMA  REGION  ST  \\\n",
       "4                 4  P  2018GQ0000251         6        1  2701       3   1   \n",
       "9                 9  P  2018GQ0001011         6        1  1600       3   1   \n",
       "17               17  P  2018GQ0002020         6        1  1000       3   1   \n",
       "18               18  P  2018GQ0002142         6        1  1302       3   1   \n",
       "19               19  P  2018GQ0002169         6        1  2200       3   1   \n",
       "...             ... ..            ...       ...      ...   ...     ...  ..   \n",
       "2530665     2530665  P  2018HU1322809         8        2   100       4  56   \n",
       "2530711     2530711  P  2018HU1340413         8        1   500       4  56   \n",
       "2530712     2530712  P  2018HU1340413         8        2   500       4  56   \n",
       "2530829     2530829  P  2018HU1379389         8        1   300       4  56   \n",
       "2530873     2530873  P  2018HU1393862         8        3   400       4  56   \n",
       "\n",
       "          ADJINC  PWGTP  ...  REC_NO_MAR  MARHM_new  AGE_18_34  AGE_35_64  \\\n",
       "4        1013097     16  ...           0        NaN          1          0   \n",
       "9        1013097     91  ...           0        NaN          1          0   \n",
       "17       1013097     11  ...           0        0.0          0          1   \n",
       "18       1013097     88  ...           0        NaN          1          0   \n",
       "19       1013097     20  ...           0        0.0          0          1   \n",
       "...          ...    ...  ...         ...        ...        ...        ...   \n",
       "2530665  1013097    120  ...           0        NaN          1          0   \n",
       "2530711  1013097    122  ...           0        0.0          1          0   \n",
       "2530712  1013097    174  ...           0        0.0          1          0   \n",
       "2530829  1013097     45  ...           0        0.0          0          1   \n",
       "2530873  1013097     91  ...           0        NaN          1          0   \n",
       "\n",
       "         AGE_OVER_65  UNEMPLOYED  IN_LF  CHOSEN_type  ORIG_TYPE  CHOSEN_STATE  \n",
       "4                  0           1      0        Metro      Metro             1  \n",
       "9                  0           1      0        Metro      Metro             1  \n",
       "17                 0           1      0          NaN      Metro             1  \n",
       "18                 0           0      1        Metro      Metro             1  \n",
       "19                 0           0      1          NaN      Metro             1  \n",
       "...              ...         ...    ...          ...        ...           ...  \n",
       "2530665            0           0      1          NaN      Micro            56  \n",
       "2530711            0           0      1          NaN      Micro            56  \n",
       "2530712            0           1      0          NaN      Micro            56  \n",
       "2530829            0           0      1        Micro      Micro            56  \n",
       "2530873            0           0      1          NaN        T34            56  \n",
       "\n",
       "[163118 rows x 260 columns]"
      ]
     },
     "execution_count": 365,
     "metadata": {},
     "output_type": "execute_result"
    }
   ],
   "source": [
    "df_leave[df_leave[\"CHOSEN_STATE\"] == df_leave[\"POBP\"]]"
   ]
  },
  {
   "cell_type": "code",
   "execution_count": 366,
   "metadata": {},
   "outputs": [
    {
     "data": {
      "text/plain": [
       "0.49733523586516415"
      ]
     },
     "execution_count": 366,
     "metadata": {},
     "output_type": "execute_result"
    }
   ],
   "source": [
    "163118/327984"
   ]
  },
  {
   "cell_type": "code",
   "execution_count": 368,
   "metadata": {},
   "outputs": [],
   "source": [
    "df_leave.loc[df_leave[\"CBSA_NAME_ORIG\"] == -1, \"CBSA_NAME_ORIG\"] = -2"
   ]
  },
  {
   "cell_type": "code",
   "execution_count": 369,
   "metadata": {},
   "outputs": [
    {
     "data": {
      "text/html": [
       "<div>\n",
       "<style scoped>\n",
       "    .dataframe tbody tr th:only-of-type {\n",
       "        vertical-align: middle;\n",
       "    }\n",
       "\n",
       "    .dataframe tbody tr th {\n",
       "        vertical-align: top;\n",
       "    }\n",
       "\n",
       "    .dataframe thead th {\n",
       "        text-align: right;\n",
       "    }\n",
       "</style>\n",
       "<table border=\"1\" class=\"dataframe\">\n",
       "  <thead>\n",
       "    <tr style=\"text-align: right;\">\n",
       "      <th></th>\n",
       "      <th>Unnamed: 0</th>\n",
       "      <th>GISJOIN</th>\n",
       "      <th>GEOID</th>\n",
       "      <th>STATEFIP</th>\n",
       "      <th>State</th>\n",
       "      <th>PUMA</th>\n",
       "      <th>Name</th>\n",
       "      <th>center</th>\n",
       "      <th>type</th>\n",
       "      <th>CBSA_name</th>\n",
       "      <th>Name_num</th>\n",
       "    </tr>\n",
       "    <tr>\n",
       "      <th>GISMATCH</th>\n",
       "      <th></th>\n",
       "      <th></th>\n",
       "      <th></th>\n",
       "      <th></th>\n",
       "      <th></th>\n",
       "      <th></th>\n",
       "      <th></th>\n",
       "      <th></th>\n",
       "      <th></th>\n",
       "      <th></th>\n",
       "      <th></th>\n",
       "    </tr>\n",
       "  </thead>\n",
       "  <tbody>\n",
       "    <tr>\n",
       "      <th>600105</th>\n",
       "      <td>0</td>\n",
       "      <td>G06000105</td>\n",
       "      <td>600105</td>\n",
       "      <td>6</td>\n",
       "      <td>California</td>\n",
       "      <td>105</td>\n",
       "      <td>Alameda County (West)--San Leandro, Alameda &amp; ...</td>\n",
       "      <td>POINT (-2258808.793332302 339396.4722123478)</td>\n",
       "      <td>T34</td>\n",
       "      <td>San Francisco-Oakland-Hayward, CA Metro Area</td>\n",
       "      <td>0</td>\n",
       "    </tr>\n",
       "    <tr>\n",
       "      <th>600102</th>\n",
       "      <td>1</td>\n",
       "      <td>G06000102</td>\n",
       "      <td>600102</td>\n",
       "      <td>6</td>\n",
       "      <td>California</td>\n",
       "      <td>102</td>\n",
       "      <td>Alameda County (Northwest)--Oakland (Northwest...</td>\n",
       "      <td>POINT (-2262119.20387295 349529.9544024405)</td>\n",
       "      <td>T34</td>\n",
       "      <td>San Francisco-Oakland-Hayward, CA Metro Area</td>\n",
       "      <td>0</td>\n",
       "    </tr>\n",
       "    <tr>\n",
       "      <th>608502</th>\n",
       "      <td>2</td>\n",
       "      <td>G06008502</td>\n",
       "      <td>608502</td>\n",
       "      <td>6</td>\n",
       "      <td>California</td>\n",
       "      <td>8502</td>\n",
       "      <td>Santa Clara County (Northwest)--Sunnyvale &amp; Sa...</td>\n",
       "      <td>POINT (-2251625.280558518 299700.2119385958)</td>\n",
       "      <td>Metro</td>\n",
       "      <td>San Jose-Sunnyvale-Santa Clara, CA Metro Area</td>\n",
       "      <td>1</td>\n",
       "    </tr>\n",
       "    <tr>\n",
       "      <th>600108</th>\n",
       "      <td>3</td>\n",
       "      <td>G06000108</td>\n",
       "      <td>600108</td>\n",
       "      <td>6</td>\n",
       "      <td>California</td>\n",
       "      <td>108</td>\n",
       "      <td>Alameda County (Southwest)--Union City, Newark...</td>\n",
       "      <td>POINT (-2249381.571782368 314454.5304018197)</td>\n",
       "      <td>T34</td>\n",
       "      <td>San Francisco-Oakland-Hayward, CA Metro Area</td>\n",
       "      <td>0</td>\n",
       "    </tr>\n",
       "    <tr>\n",
       "      <th>600107</th>\n",
       "      <td>4</td>\n",
       "      <td>G06000107</td>\n",
       "      <td>600107</td>\n",
       "      <td>6</td>\n",
       "      <td>California</td>\n",
       "      <td>107</td>\n",
       "      <td>Alameda County (Central)--Hayward City PUMA</td>\n",
       "      <td>POINT (-2249209.156361292 325491.2460234718)</td>\n",
       "      <td>T34</td>\n",
       "      <td>San Francisco-Oakland-Hayward, CA Metro Area</td>\n",
       "      <td>0</td>\n",
       "    </tr>\n",
       "    <tr>\n",
       "      <th>...</th>\n",
       "      <td>...</td>\n",
       "      <td>...</td>\n",
       "      <td>...</td>\n",
       "      <td>...</td>\n",
       "      <td>...</td>\n",
       "      <td>...</td>\n",
       "      <td>...</td>\n",
       "      <td>...</td>\n",
       "      <td>...</td>\n",
       "      <td>...</td>\n",
       "      <td>...</td>\n",
       "    </tr>\n",
       "    <tr>\n",
       "      <th>4700500</th>\n",
       "      <td>2373</td>\n",
       "      <td>G47000500</td>\n",
       "      <td>4700500</td>\n",
       "      <td>47</td>\n",
       "      <td>Tennessee</td>\n",
       "      <td>500</td>\n",
       "      <td>Sumner County--Hendersonville City PUMA</td>\n",
       "      <td>POINT (845555.1346444382 -73006.03095774697)</td>\n",
       "      <td>Metro</td>\n",
       "      <td>Nashville-Davidson--Murfreesboro--Franklin, TN...</td>\n",
       "      <td>283</td>\n",
       "    </tr>\n",
       "    <tr>\n",
       "      <th>4702501</th>\n",
       "      <td>2374</td>\n",
       "      <td>G47002501</td>\n",
       "      <td>4702501</td>\n",
       "      <td>47</td>\n",
       "      <td>Tennessee</td>\n",
       "      <td>2501</td>\n",
       "      <td>Nashville-Davidson (East) PUMA</td>\n",
       "      <td>POINT (834713.9667902931 -111417.8817361052)</td>\n",
       "      <td>Metro</td>\n",
       "      <td>Nashville-Davidson--Murfreesboro--Franklin, TN...</td>\n",
       "      <td>283</td>\n",
       "    </tr>\n",
       "    <tr>\n",
       "      <th>5310400</th>\n",
       "      <td>2375</td>\n",
       "      <td>G53010400</td>\n",
       "      <td>5310400</td>\n",
       "      <td>53</td>\n",
       "      <td>Washington</td>\n",
       "      <td>10400</td>\n",
       "      <td>Stevens, Okanogan, Pend Oreille &amp; Ferry Counti...</td>\n",
       "      <td>POINT (-1684664.90787742 1429380.26889712)</td>\n",
       "      <td>NaN</td>\n",
       "      <td>NaN</td>\n",
       "      <td>-1</td>\n",
       "    </tr>\n",
       "    <tr>\n",
       "      <th>5310300</th>\n",
       "      <td>2376</td>\n",
       "      <td>G53010300</td>\n",
       "      <td>5310300</td>\n",
       "      <td>53</td>\n",
       "      <td>Washington</td>\n",
       "      <td>10300</td>\n",
       "      <td>Chelan &amp; Douglas Counties PUMA</td>\n",
       "      <td>POINT (-1811096.507300111 1383753.51149053)</td>\n",
       "      <td>Metro</td>\n",
       "      <td>Wenatchee, WA Metro Area</td>\n",
       "      <td>536</td>\n",
       "    </tr>\n",
       "    <tr>\n",
       "      <th>5310100</th>\n",
       "      <td>2377</td>\n",
       "      <td>G53010100</td>\n",
       "      <td>5310100</td>\n",
       "      <td>53</td>\n",
       "      <td>Washington</td>\n",
       "      <td>10100</td>\n",
       "      <td>Whatcom County--Bellingham City PUMA</td>\n",
       "      <td>POINT (-1887228.219788957 1519303.569433435)</td>\n",
       "      <td>Metro</td>\n",
       "      <td>Bellingham, WA Metro Area</td>\n",
       "      <td>537</td>\n",
       "    </tr>\n",
       "  </tbody>\n",
       "</table>\n",
       "<p>2378 rows × 11 columns</p>\n",
       "</div>"
      ],
      "text/plain": [
       "          Unnamed: 0    GISJOIN    GEOID  STATEFIP       State   PUMA  \\\n",
       "GISMATCH                                                                \n",
       "600105             0  G06000105   600105         6  California    105   \n",
       "600102             1  G06000102   600102         6  California    102   \n",
       "608502             2  G06008502   608502         6  California   8502   \n",
       "600108             3  G06000108   600108         6  California    108   \n",
       "600107             4  G06000107   600107         6  California    107   \n",
       "...              ...        ...      ...       ...         ...    ...   \n",
       "4700500         2373  G47000500  4700500        47   Tennessee    500   \n",
       "4702501         2374  G47002501  4702501        47   Tennessee   2501   \n",
       "5310400         2375  G53010400  5310400        53  Washington  10400   \n",
       "5310300         2376  G53010300  5310300        53  Washington  10300   \n",
       "5310100         2377  G53010100  5310100        53  Washington  10100   \n",
       "\n",
       "                                                       Name  \\\n",
       "GISMATCH                                                      \n",
       "600105    Alameda County (West)--San Leandro, Alameda & ...   \n",
       "600102    Alameda County (Northwest)--Oakland (Northwest...   \n",
       "608502    Santa Clara County (Northwest)--Sunnyvale & Sa...   \n",
       "600108    Alameda County (Southwest)--Union City, Newark...   \n",
       "600107          Alameda County (Central)--Hayward City PUMA   \n",
       "...                                                     ...   \n",
       "4700500             Sumner County--Hendersonville City PUMA   \n",
       "4702501                      Nashville-Davidson (East) PUMA   \n",
       "5310400   Stevens, Okanogan, Pend Oreille & Ferry Counti...   \n",
       "5310300                      Chelan & Douglas Counties PUMA   \n",
       "5310100                Whatcom County--Bellingham City PUMA   \n",
       "\n",
       "                                                center   type  \\\n",
       "GISMATCH                                                        \n",
       "600105    POINT (-2258808.793332302 339396.4722123478)    T34   \n",
       "600102     POINT (-2262119.20387295 349529.9544024405)    T34   \n",
       "608502    POINT (-2251625.280558518 299700.2119385958)  Metro   \n",
       "600108    POINT (-2249381.571782368 314454.5304018197)    T34   \n",
       "600107    POINT (-2249209.156361292 325491.2460234718)    T34   \n",
       "...                                                ...    ...   \n",
       "4700500   POINT (845555.1346444382 -73006.03095774697)  Metro   \n",
       "4702501   POINT (834713.9667902931 -111417.8817361052)  Metro   \n",
       "5310400     POINT (-1684664.90787742 1429380.26889712)    NaN   \n",
       "5310300    POINT (-1811096.507300111 1383753.51149053)  Metro   \n",
       "5310100   POINT (-1887228.219788957 1519303.569433435)  Metro   \n",
       "\n",
       "                                                  CBSA_name  Name_num  \n",
       "GISMATCH                                                               \n",
       "600105         San Francisco-Oakland-Hayward, CA Metro Area         0  \n",
       "600102         San Francisco-Oakland-Hayward, CA Metro Area         0  \n",
       "608502        San Jose-Sunnyvale-Santa Clara, CA Metro Area         1  \n",
       "600108         San Francisco-Oakland-Hayward, CA Metro Area         0  \n",
       "600107         San Francisco-Oakland-Hayward, CA Metro Area         0  \n",
       "...                                                     ...       ...  \n",
       "4700500   Nashville-Davidson--Murfreesboro--Franklin, TN...       283  \n",
       "4702501   Nashville-Davidson--Murfreesboro--Franklin, TN...       283  \n",
       "5310400                                                 NaN        -1  \n",
       "5310300                            Wenatchee, WA Metro Area       536  \n",
       "5310100                           Bellingham, WA Metro Area       537  \n",
       "\n",
       "[2378 rows x 11 columns]"
      ]
     },
     "execution_count": 369,
     "metadata": {},
     "output_type": "execute_result"
    }
   ],
   "source": [
    "cbsas"
   ]
  },
  {
   "cell_type": "code",
   "execution_count": 371,
   "metadata": {},
   "outputs": [
    {
     "name": "stderr",
     "output_type": "stream",
     "text": [
      "C:\\Users\\Transportlab\\AppData\\Local\\Temp\\ipykernel_9276\\763699734.py:1: SettingWithCopyWarning: \n",
      "A value is trying to be set on a copy of a slice from a DataFrame.\n",
      "Try using .loc[row_indexer,col_indexer] = value instead\n",
      "\n",
      "See the caveats in the documentation: https://pandas.pydata.org/pandas-docs/stable/user_guide/indexing.html#returning-a-view-versus-a-copy\n",
      "  df_leave[\"CHOSEN_CBSA\"] = cbsas.loc[df_leave[\"CHOSEN\"], \"Name_num\"].values\n"
     ]
    }
   ],
   "source": [
    "df_leave[\"CHOSEN_CBSA\"] = cbsas.loc[df_leave[\"CHOSEN\"], \"Name_num\"].values"
   ]
  },
  {
   "cell_type": "code",
   "execution_count": 372,
   "metadata": {},
   "outputs": [
    {
     "data": {
      "text/html": [
       "<div>\n",
       "<style scoped>\n",
       "    .dataframe tbody tr th:only-of-type {\n",
       "        vertical-align: middle;\n",
       "    }\n",
       "\n",
       "    .dataframe tbody tr th {\n",
       "        vertical-align: top;\n",
       "    }\n",
       "\n",
       "    .dataframe thead th {\n",
       "        text-align: right;\n",
       "    }\n",
       "</style>\n",
       "<table border=\"1\" class=\"dataframe\">\n",
       "  <thead>\n",
       "    <tr style=\"text-align: right;\">\n",
       "      <th></th>\n",
       "      <th>Unnamed: 0</th>\n",
       "      <th>RT</th>\n",
       "      <th>SERIALNO</th>\n",
       "      <th>DIVISION</th>\n",
       "      <th>SPORDER</th>\n",
       "      <th>PUMA</th>\n",
       "      <th>REGION</th>\n",
       "      <th>ST</th>\n",
       "      <th>ADJINC</th>\n",
       "      <th>PWGTP</th>\n",
       "      <th>...</th>\n",
       "      <th>MARHM_new</th>\n",
       "      <th>AGE_18_34</th>\n",
       "      <th>AGE_35_64</th>\n",
       "      <th>AGE_OVER_65</th>\n",
       "      <th>UNEMPLOYED</th>\n",
       "      <th>IN_LF</th>\n",
       "      <th>CHOSEN_type</th>\n",
       "      <th>ORIG_TYPE</th>\n",
       "      <th>CHOSEN_STATE</th>\n",
       "      <th>CHOSEN_CBSA</th>\n",
       "    </tr>\n",
       "  </thead>\n",
       "  <tbody>\n",
       "    <tr>\n",
       "      <th>4</th>\n",
       "      <td>4</td>\n",
       "      <td>P</td>\n",
       "      <td>2018GQ0000251</td>\n",
       "      <td>6</td>\n",
       "      <td>1</td>\n",
       "      <td>2701</td>\n",
       "      <td>3</td>\n",
       "      <td>1</td>\n",
       "      <td>1013097</td>\n",
       "      <td>16</td>\n",
       "      <td>...</td>\n",
       "      <td>NaN</td>\n",
       "      <td>1</td>\n",
       "      <td>0</td>\n",
       "      <td>0</td>\n",
       "      <td>1</td>\n",
       "      <td>0</td>\n",
       "      <td>Metro</td>\n",
       "      <td>Metro</td>\n",
       "      <td>1</td>\n",
       "      <td>48</td>\n",
       "    </tr>\n",
       "    <tr>\n",
       "      <th>21</th>\n",
       "      <td>21</td>\n",
       "      <td>P</td>\n",
       "      <td>2018GQ0002189</td>\n",
       "      <td>6</td>\n",
       "      <td>1</td>\n",
       "      <td>2701</td>\n",
       "      <td>3</td>\n",
       "      <td>1</td>\n",
       "      <td>1013097</td>\n",
       "      <td>34</td>\n",
       "      <td>...</td>\n",
       "      <td>0.0</td>\n",
       "      <td>0</td>\n",
       "      <td>0</td>\n",
       "      <td>1</td>\n",
       "      <td>1</td>\n",
       "      <td>0</td>\n",
       "      <td>Metro</td>\n",
       "      <td>Metro</td>\n",
       "      <td>1</td>\n",
       "      <td>48</td>\n",
       "    </tr>\n",
       "    <tr>\n",
       "      <th>29</th>\n",
       "      <td>29</td>\n",
       "      <td>P</td>\n",
       "      <td>2018GQ0002690</td>\n",
       "      <td>6</td>\n",
       "      <td>1</td>\n",
       "      <td>1304</td>\n",
       "      <td>3</td>\n",
       "      <td>1</td>\n",
       "      <td>1013097</td>\n",
       "      <td>15</td>\n",
       "      <td>...</td>\n",
       "      <td>0.0</td>\n",
       "      <td>0</td>\n",
       "      <td>1</td>\n",
       "      <td>0</td>\n",
       "      <td>1</td>\n",
       "      <td>0</td>\n",
       "      <td>Metro</td>\n",
       "      <td>Metro</td>\n",
       "      <td>1</td>\n",
       "      <td>497</td>\n",
       "    </tr>\n",
       "    <tr>\n",
       "      <th>32</th>\n",
       "      <td>32</td>\n",
       "      <td>P</td>\n",
       "      <td>2018GQ0002747</td>\n",
       "      <td>6</td>\n",
       "      <td>1</td>\n",
       "      <td>2701</td>\n",
       "      <td>3</td>\n",
       "      <td>1</td>\n",
       "      <td>1013097</td>\n",
       "      <td>18</td>\n",
       "      <td>...</td>\n",
       "      <td>NaN</td>\n",
       "      <td>1</td>\n",
       "      <td>0</td>\n",
       "      <td>0</td>\n",
       "      <td>1</td>\n",
       "      <td>0</td>\n",
       "      <td>Metro</td>\n",
       "      <td>Metro</td>\n",
       "      <td>1</td>\n",
       "      <td>48</td>\n",
       "    </tr>\n",
       "    <tr>\n",
       "      <th>39</th>\n",
       "      <td>39</td>\n",
       "      <td>P</td>\n",
       "      <td>2018GQ0002968</td>\n",
       "      <td>6</td>\n",
       "      <td>1</td>\n",
       "      <td>400</td>\n",
       "      <td>3</td>\n",
       "      <td>1</td>\n",
       "      <td>1013097</td>\n",
       "      <td>38</td>\n",
       "      <td>...</td>\n",
       "      <td>0.0</td>\n",
       "      <td>0</td>\n",
       "      <td>1</td>\n",
       "      <td>0</td>\n",
       "      <td>1</td>\n",
       "      <td>0</td>\n",
       "      <td>Micro</td>\n",
       "      <td>Micro</td>\n",
       "      <td>1</td>\n",
       "      <td>123</td>\n",
       "    </tr>\n",
       "    <tr>\n",
       "      <th>...</th>\n",
       "      <td>...</td>\n",
       "      <td>...</td>\n",
       "      <td>...</td>\n",
       "      <td>...</td>\n",
       "      <td>...</td>\n",
       "      <td>...</td>\n",
       "      <td>...</td>\n",
       "      <td>...</td>\n",
       "      <td>...</td>\n",
       "      <td>...</td>\n",
       "      <td>...</td>\n",
       "      <td>...</td>\n",
       "      <td>...</td>\n",
       "      <td>...</td>\n",
       "      <td>...</td>\n",
       "      <td>...</td>\n",
       "      <td>...</td>\n",
       "      <td>...</td>\n",
       "      <td>...</td>\n",
       "      <td>...</td>\n",
       "      <td>...</td>\n",
       "    </tr>\n",
       "    <tr>\n",
       "      <th>2530810</th>\n",
       "      <td>2530810</td>\n",
       "      <td>P</td>\n",
       "      <td>2018HU1371096</td>\n",
       "      <td>8</td>\n",
       "      <td>2</td>\n",
       "      <td>300</td>\n",
       "      <td>4</td>\n",
       "      <td>56</td>\n",
       "      <td>1013097</td>\n",
       "      <td>106</td>\n",
       "      <td>...</td>\n",
       "      <td>NaN</td>\n",
       "      <td>1</td>\n",
       "      <td>0</td>\n",
       "      <td>0</td>\n",
       "      <td>1</td>\n",
       "      <td>0</td>\n",
       "      <td>Micro</td>\n",
       "      <td>Micro</td>\n",
       "      <td>56</td>\n",
       "      <td>312</td>\n",
       "    </tr>\n",
       "    <tr>\n",
       "      <th>2530828</th>\n",
       "      <td>2530828</td>\n",
       "      <td>P</td>\n",
       "      <td>2018HU1379140</td>\n",
       "      <td>8</td>\n",
       "      <td>1</td>\n",
       "      <td>300</td>\n",
       "      <td>4</td>\n",
       "      <td>56</td>\n",
       "      <td>1013097</td>\n",
       "      <td>45</td>\n",
       "      <td>...</td>\n",
       "      <td>NaN</td>\n",
       "      <td>1</td>\n",
       "      <td>0</td>\n",
       "      <td>0</td>\n",
       "      <td>0</td>\n",
       "      <td>1</td>\n",
       "      <td>Micro</td>\n",
       "      <td>Micro</td>\n",
       "      <td>56</td>\n",
       "      <td>312</td>\n",
       "    </tr>\n",
       "    <tr>\n",
       "      <th>2530829</th>\n",
       "      <td>2530829</td>\n",
       "      <td>P</td>\n",
       "      <td>2018HU1379389</td>\n",
       "      <td>8</td>\n",
       "      <td>1</td>\n",
       "      <td>300</td>\n",
       "      <td>4</td>\n",
       "      <td>56</td>\n",
       "      <td>1013097</td>\n",
       "      <td>45</td>\n",
       "      <td>...</td>\n",
       "      <td>0.0</td>\n",
       "      <td>0</td>\n",
       "      <td>1</td>\n",
       "      <td>0</td>\n",
       "      <td>0</td>\n",
       "      <td>1</td>\n",
       "      <td>Micro</td>\n",
       "      <td>Micro</td>\n",
       "      <td>56</td>\n",
       "      <td>312</td>\n",
       "    </tr>\n",
       "    <tr>\n",
       "      <th>2530860</th>\n",
       "      <td>2530860</td>\n",
       "      <td>P</td>\n",
       "      <td>2018HU1391612</td>\n",
       "      <td>8</td>\n",
       "      <td>1</td>\n",
       "      <td>200</td>\n",
       "      <td>4</td>\n",
       "      <td>56</td>\n",
       "      <td>1013097</td>\n",
       "      <td>299</td>\n",
       "      <td>...</td>\n",
       "      <td>0.0</td>\n",
       "      <td>0</td>\n",
       "      <td>1</td>\n",
       "      <td>0</td>\n",
       "      <td>0</td>\n",
       "      <td>1</td>\n",
       "      <td>Micro</td>\n",
       "      <td>Micro</td>\n",
       "      <td>56</td>\n",
       "      <td>311</td>\n",
       "    </tr>\n",
       "    <tr>\n",
       "      <th>2530861</th>\n",
       "      <td>2530861</td>\n",
       "      <td>P</td>\n",
       "      <td>2018HU1391612</td>\n",
       "      <td>8</td>\n",
       "      <td>2</td>\n",
       "      <td>200</td>\n",
       "      <td>4</td>\n",
       "      <td>56</td>\n",
       "      <td>1013097</td>\n",
       "      <td>101</td>\n",
       "      <td>...</td>\n",
       "      <td>0.0</td>\n",
       "      <td>0</td>\n",
       "      <td>1</td>\n",
       "      <td>0</td>\n",
       "      <td>0</td>\n",
       "      <td>1</td>\n",
       "      <td>Micro</td>\n",
       "      <td>Micro</td>\n",
       "      <td>56</td>\n",
       "      <td>311</td>\n",
       "    </tr>\n",
       "  </tbody>\n",
       "</table>\n",
       "<p>188402 rows × 261 columns</p>\n",
       "</div>"
      ],
      "text/plain": [
       "         Unnamed: 0 RT       SERIALNO  DIVISION  SPORDER  PUMA  REGION  ST  \\\n",
       "4                 4  P  2018GQ0000251         6        1  2701       3   1   \n",
       "21               21  P  2018GQ0002189         6        1  2701       3   1   \n",
       "29               29  P  2018GQ0002690         6        1  1304       3   1   \n",
       "32               32  P  2018GQ0002747         6        1  2701       3   1   \n",
       "39               39  P  2018GQ0002968         6        1   400       3   1   \n",
       "...             ... ..            ...       ...      ...   ...     ...  ..   \n",
       "2530810     2530810  P  2018HU1371096         8        2   300       4  56   \n",
       "2530828     2530828  P  2018HU1379140         8        1   300       4  56   \n",
       "2530829     2530829  P  2018HU1379389         8        1   300       4  56   \n",
       "2530860     2530860  P  2018HU1391612         8        1   200       4  56   \n",
       "2530861     2530861  P  2018HU1391612         8        2   200       4  56   \n",
       "\n",
       "          ADJINC  PWGTP  ...  MARHM_new  AGE_18_34  AGE_35_64  AGE_OVER_65  \\\n",
       "4        1013097     16  ...        NaN          1          0            0   \n",
       "21       1013097     34  ...        0.0          0          0            1   \n",
       "29       1013097     15  ...        0.0          0          1            0   \n",
       "32       1013097     18  ...        NaN          1          0            0   \n",
       "39       1013097     38  ...        0.0          0          1            0   \n",
       "...          ...    ...  ...        ...        ...        ...          ...   \n",
       "2530810  1013097    106  ...        NaN          1          0            0   \n",
       "2530828  1013097     45  ...        NaN          1          0            0   \n",
       "2530829  1013097     45  ...        0.0          0          1            0   \n",
       "2530860  1013097    299  ...        0.0          0          1            0   \n",
       "2530861  1013097    101  ...        0.0          0          1            0   \n",
       "\n",
       "         UNEMPLOYED  IN_LF  CHOSEN_type  ORIG_TYPE  CHOSEN_STATE  CHOSEN_CBSA  \n",
       "4                 1      0        Metro      Metro             1           48  \n",
       "21                1      0        Metro      Metro             1           48  \n",
       "29                1      0        Metro      Metro             1          497  \n",
       "32                1      0        Metro      Metro             1           48  \n",
       "39                1      0        Micro      Micro             1          123  \n",
       "...             ...    ...          ...        ...           ...          ...  \n",
       "2530810           1      0        Micro      Micro            56          312  \n",
       "2530828           0      1        Micro      Micro            56          312  \n",
       "2530829           0      1        Micro      Micro            56          312  \n",
       "2530860           0      1        Micro      Micro            56          311  \n",
       "2530861           0      1        Micro      Micro            56          311  \n",
       "\n",
       "[188402 rows x 261 columns]"
      ]
     },
     "execution_count": 372,
     "metadata": {},
     "output_type": "execute_result"
    }
   ],
   "source": [
    "df_leave[df_leave[\"CHOSEN_CBSA\"] == df_leave[\"CBSA_NAME_ORIG\"]]"
   ]
  },
  {
   "cell_type": "code",
   "execution_count": 373,
   "metadata": {},
   "outputs": [
    {
     "data": {
      "text/plain": [
       "0.574424362164008"
      ]
     },
     "execution_count": 373,
     "metadata": {},
     "output_type": "execute_result"
    }
   ],
   "source": [
    "188402 / 327984"
   ]
  },
  {
   "cell_type": "code",
   "execution_count": 374,
   "metadata": {},
   "outputs": [
    {
     "data": {
      "text/plain": [
       "0.020833333333333332"
      ]
     },
     "execution_count": 374,
     "metadata": {},
     "output_type": "execute_result"
    }
   ],
   "source": [
    "1/48"
   ]
  },
  {
   "cell_type": "code",
   "execution_count": 375,
   "metadata": {},
   "outputs": [
    {
     "data": {
      "text/plain": [
       "GISMATCH\n",
       "600105       0\n",
       "600102       0\n",
       "608502       1\n",
       "600108       0\n",
       "600107       0\n",
       "          ... \n",
       "4700500    283\n",
       "4702501    283\n",
       "5310400     -1\n",
       "5310300    536\n",
       "5310100    537\n",
       "Name: Name_num, Length: 2378, dtype: int64"
      ]
     },
     "execution_count": 375,
     "metadata": {},
     "output_type": "execute_result"
    }
   ],
   "source": [
    "cbsas[\"Name_num\"]"
   ]
  },
  {
   "cell_type": "code",
   "execution_count": 376,
   "metadata": {},
   "outputs": [
    {
     "data": {
      "text/plain": [
       "0.0018587360594795538"
      ]
     },
     "execution_count": 376,
     "metadata": {},
     "output_type": "execute_result"
    }
   ],
   "source": [
    "1/538"
   ]
  },
  {
   "cell_type": "code",
   "execution_count": 79,
   "metadata": {},
   "outputs": [
    {
     "data": {
      "text/plain": [
       "603700     8978\n",
       "1703400    4911\n",
       "2500390    4785\n",
       "400100     4617\n",
       "800190     4487\n",
       "           ... \n",
       "2201600      67\n",
       "2101000      66\n",
       "4806900      64\n",
       "1702601      62\n",
       "5401300      60\n",
       "Name: ORIGIN, Length: 975, dtype: int64"
      ]
     },
     "execution_count": 79,
     "metadata": {},
     "output_type": "execute_result"
    }
   ],
   "source": [
    "df_leave[\"ORIGIN\"].value_counts()"
   ]
  },
  {
   "cell_type": "code",
   "execution_count": null,
   "metadata": {},
   "outputs": [],
   "source": []
  }
 ],
 "metadata": {
  "kernelspec": {
   "display_name": "Python 3.8.13 ('py38')",
   "language": "python",
   "name": "python3"
  },
  "language_info": {
   "codemirror_mode": {
    "name": "ipython",
    "version": 3
   },
   "file_extension": ".py",
   "mimetype": "text/x-python",
   "name": "python",
   "nbconvert_exporter": "python",
   "pygments_lexer": "ipython3",
   "version": "3.8.13"
  },
  "orig_nbformat": 4,
  "vscode": {
   "interpreter": {
    "hash": "e152438521f1d49a73207c4e39d9e6ed51b9dde58809b9dbc3ef11997122da89"
   }
  }
 },
 "nbformat": 4,
 "nbformat_minor": 2
}
