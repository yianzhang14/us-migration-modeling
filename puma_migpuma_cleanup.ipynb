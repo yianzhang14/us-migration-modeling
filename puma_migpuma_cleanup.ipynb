{
 "cells": [
  {
   "cell_type": "code",
   "execution_count": 1,
   "metadata": {},
   "outputs": [],
   "source": [
    "import numpy as np\n",
    "import pandas as pd"
   ]
  },
  {
   "cell_type": "code",
   "execution_count": 2,
   "metadata": {},
   "outputs": [
    {
     "data": {
      "text/html": [
       "<div>\n",
       "<style scoped>\n",
       "    .dataframe tbody tr th:only-of-type {\n",
       "        vertical-align: middle;\n",
       "    }\n",
       "\n",
       "    .dataframe tbody tr th {\n",
       "        vertical-align: top;\n",
       "    }\n",
       "\n",
       "    .dataframe thead th {\n",
       "        text-align: right;\n",
       "    }\n",
       "</style>\n",
       "<table border=\"1\" class=\"dataframe\">\n",
       "  <thead>\n",
       "    <tr style=\"text-align: right;\">\n",
       "      <th></th>\n",
       "      <th>State</th>\n",
       "      <th>MIGPUMA</th>\n",
       "    </tr>\n",
       "    <tr>\n",
       "      <th>PUMA</th>\n",
       "      <th></th>\n",
       "      <th></th>\n",
       "    </tr>\n",
       "  </thead>\n",
       "  <tbody>\n",
       "    <tr>\n",
       "      <th>0100100</th>\n",
       "      <td>01</td>\n",
       "      <td>0100190</td>\n",
       "    </tr>\n",
       "    <tr>\n",
       "      <th>0100200</th>\n",
       "      <td>01</td>\n",
       "      <td>0100290</td>\n",
       "    </tr>\n",
       "    <tr>\n",
       "      <th>0100301</th>\n",
       "      <td>01</td>\n",
       "      <td>0100290</td>\n",
       "    </tr>\n",
       "    <tr>\n",
       "      <th>0100302</th>\n",
       "      <td>01</td>\n",
       "      <td>0100290</td>\n",
       "    </tr>\n",
       "    <tr>\n",
       "      <th>0100400</th>\n",
       "      <td>01</td>\n",
       "      <td>0100400</td>\n",
       "    </tr>\n",
       "  </tbody>\n",
       "</table>\n",
       "</div>"
      ],
      "text/plain": [
       "        State  MIGPUMA\n",
       "PUMA                  \n",
       "0100100    01  0100190\n",
       "0100200    01  0100290\n",
       "0100301    01  0100290\n",
       "0100302    01  0100290\n",
       "0100400    01  0100400"
      ]
     },
     "execution_count": 2,
     "metadata": {},
     "output_type": "execute_result"
    }
   ],
   "source": [
    "# reading in PUMA-MIGPUMA equivalency data\n",
    "puma_migpuma = pd.read_excel(\"data/puma_migpuma.xlsx\", dtype=\"str\")\n",
    "puma_migpuma[\"PUMA\"] = puma_migpuma[\"State\"] + puma_migpuma[\"PUMA\"]\n",
    "puma_migpuma[\"MIGPUMA\"] = puma_migpuma[\"State\"] + puma_migpuma[\"MIGPUMA\"]\n",
    "# some MIGPUMA fields have footnotes\n",
    "puma_migpuma[\"MIGPUMA\"] = puma_migpuma[\"MIGPUMA\"].str.strip(\"*\")\n",
    "puma_migpuma = puma_migpuma.set_index(\"PUMA\")\n",
    "puma_migpuma.head()"
   ]
  },
  {
   "cell_type": "code",
   "execution_count": 3,
   "metadata": {},
   "outputs": [],
   "source": [
    "# puma_migpuma.to_excel(\"data/puma_migpuma_clean.xlsx\")"
   ]
  }
 ],
 "metadata": {
  "interpreter": {
   "hash": "ea68df19c4d37e38a9eb7909edccefbc9be4cef992fc8497053f8457aa8ede20"
  },
  "kernelspec": {
   "display_name": "Python 3.8.13 ('py38')",
   "language": "python",
   "name": "python3"
  },
  "language_info": {
   "codemirror_mode": {
    "name": "ipython",
    "version": 3
   },
   "file_extension": ".py",
   "mimetype": "text/x-python",
   "name": "python",
   "nbconvert_exporter": "python",
   "pygments_lexer": "ipython3",
   "version": "3.8.13"
  },
  "orig_nbformat": 4
 },
 "nbformat": 4,
 "nbformat_minor": 2
}
