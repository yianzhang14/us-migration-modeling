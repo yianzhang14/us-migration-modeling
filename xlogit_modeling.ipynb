{
 "cells": [
  {
   "cell_type": "code",
   "execution_count": 1,
   "metadata": {},
   "outputs": [],
   "source": [
    "import numpy as np\n",
    "import pandas as pd\n",
    "from tqdm import tqdm"
   ]
  },
  {
   "cell_type": "code",
   "execution_count": 2,
   "metadata": {},
   "outputs": [],
   "source": [
    "import gc"
   ]
  },
  {
   "cell_type": "code",
   "execution_count": 3,
   "metadata": {},
   "outputs": [],
   "source": [
    "df = pd.read_csv(\"data/us_estdata_cleaned.csv\")"
   ]
  },
  {
   "cell_type": "code",
   "execution_count": 4,
   "metadata": {},
   "outputs": [],
   "source": [
    "NUM_SAMPLE = 150000\n",
    "ALTERNATIVE_SAMPLE = 200"
   ]
  },
  {
   "cell_type": "code",
   "execution_count": 5,
   "metadata": {},
   "outputs": [],
   "source": [
    "df = df.iloc[:NUM_SAMPLE]"
   ]
  },
  {
   "cell_type": "code",
   "execution_count": 6,
   "metadata": {},
   "outputs": [
    {
     "data": {
      "text/plain": [
       "141"
      ]
     },
     "execution_count": 6,
     "metadata": {},
     "output_type": "execute_result"
    }
   ],
   "source": [
    "gc.collect()"
   ]
  },
  {
   "cell_type": "code",
   "execution_count": 7,
   "metadata": {},
   "outputs": [],
   "source": [
    "df[\"MED\"] = np.where(df[\"NAICS\"] == \"MED\", 1, 0)\n",
    "df[\"MFG\"] = np.where(df[\"NAICS\"] == \"MFG\", 1, 0)\n",
    "df[\"RET\"] = np.where(df[\"NAICS\"] == \"RET\", 1, 0)\n",
    "df[\"EDU\"] = np.where(df[\"NAICS\"] == \"EDU\", 1, 0)\n",
    "df[\"ADM\"] = np.where(df[\"NAICS\"] == \"ADM\", 1, 0)\n",
    "df[\"FOD\"] = np.where(df[\"NAICS\"] == \"FOD\", 1, 0)\n",
    "df[\"PRF\"] = np.where(df[\"NAICS\"] == \"PRF\", 1, 0)\n",
    "df[\"TRN\"] = np.where(df[\"NAICS\"] == \"TRN\", 1, 0)\n",
    "df[\"SRV\"] = np.where(df[\"NAICS\"] == \"SRV\", 1, 0)\n",
    "df[\"FIN\"] = np.where(df[\"NAICS\"] == \"FIN\", 1, 0)\n",
    "df[\"WHL\"] = np.where(df[\"NAICS\"] == \"WHL\", 1, 0)\n",
    "df[\"AGR\"] = np.where(df[\"NAICS\"] == \"AGR\", 1, 0)\n",
    "df[\"PUB\"] = np.where(df[\"NAICS\"] == \"PUB\", 1, 0)\n",
    "df[\"INF\"] = np.where(df[\"NAICS\"] == \"INF\", 1, 0)\n",
    "df[\"ENT\"] = np.where(df[\"NAICS\"] == \"ENT\", 1, 0)\n",
    "df[\"REL\"] = np.where(df[\"NAICS\"] == \"REL\", 1, 0)\n",
    "df[\"UTL\"] = np.where(df[\"NAICS\"] == \"UTL\", 1, 0)\n",
    "df[\"EXT\"] = np.where(df[\"NAICS\"] == \"EXT\", 1, 0)\n",
    "df[\"MNG\"] = np.where(df[\"NAICS\"] == \"MNG\", 1, 0)\n",
    "df[\"CON\"] = np.where(df[\"NAICS\"] == \"CON\", 1, 0)\n",
    "df[\"NO_IND\"] = np.where(df[\"NAICS\"].isna(), 1, 0)"
   ]
  },
  {
   "cell_type": "code",
   "execution_count": 8,
   "metadata": {},
   "outputs": [],
   "source": [
    "# clean up the database (Biogeme Database can only have numerical values)\n",
    "df = df.fillna(0)"
   ]
  },
  {
   "cell_type": "code",
   "execution_count": 9,
   "metadata": {},
   "outputs": [],
   "source": [
    "df[\"AGE_18_34\"] = np.where(df[\"AGEP\"] <= 34, 1, 0)\n",
    "df[\"AGE_35_64\"] = np.where((df[\"AGEP\"] >= 35) & (df[\"AGEP\"] <= 64), 1, 0)\n",
    "df[\"AGE_OVER_65\"] = np.where((df[\"AGEP\"] >= 65), 1, 0)\n",
    "df[\"FOREIGN\"] = np.where(df[\"NATIVITY\"] == 2, 1, 0)"
   ]
  },
  {
   "cell_type": "code",
   "execution_count": 10,
   "metadata": {},
   "outputs": [],
   "source": [
    "df[\"AGE_18_22\"] = np.where(df[\"AGEP\"] <= 22, 1, 0)\n",
    "df[\"AGE_23_29\"] = np.where((df[\"AGEP\"] >= 23) & (df[\"AGEP\"] <= 29), 1, 0)\n",
    "df[\"AGE_30_39\"] = np.where((df[\"AGEP\"] >= 30) & (df[\"AGEP\"] <= 39), 1, 0)\n",
    "df[\"AGE_40_49\"] = np.where((df[\"AGEP\"] >= 40) & (df[\"AGEP\"] <= 49), 1, 0)\n",
    "df[\"AGE_50_64\"] = np.where((df[\"AGEP\"] >= 50) & (df[\"AGEP\"] <= 64), 1, 0)"
   ]
  },
  {
   "cell_type": "code",
   "execution_count": 11,
   "metadata": {},
   "outputs": [
    {
     "data": {
      "text/plain": [
       "0         0\n",
       "1         0\n",
       "2         0\n",
       "3         0\n",
       "4         0\n",
       "         ..\n",
       "149995    1\n",
       "149996    0\n",
       "149997    0\n",
       "149998    0\n",
       "149999    0\n",
       "Name: IN_COLLEGE, Length: 150000, dtype: int64"
      ]
     },
     "execution_count": 11,
     "metadata": {},
     "output_type": "execute_result"
    }
   ],
   "source": [
    "df[\"IN_COLLEGE\"] = np.where((df[\"SCHG\"] == 15) | (df[\"SCHG\"] == 16), 1, 0)\n",
    "df[\"IN_COLLEGE\"]"
   ]
  },
  {
   "cell_type": "code",
   "execution_count": 12,
   "metadata": {},
   "outputs": [],
   "source": [
    "df[\"EDU_LESS_HIGH\"] = np.where(df[\"SCHL\"] <= 15, 1, 0)\n",
    "df[\"EDU_HIGH\"] = np.where((df[\"SCHL\"] <= 20) & (df[\"SCHL\"] >= 16), 1, 0) \n",
    "df[\"EDU_COLLEGE\"] = np.where(df[\"SCHL\"] >= 21, 1, 0)\n",
    "df[\"EDU_NOCOLLEGE\"] = np.where(df[\"EDU_COLLEGE\"] == 0, 1, 0)"
   ]
  },
  {
   "cell_type": "code",
   "execution_count": 13,
   "metadata": {},
   "outputs": [],
   "source": [
    "df[\"WOMAN_CHILD\"] = np.where((df[\"PAOC\"] >= 1) & (df[\"PAOC\"] <= 3), 1, 0)\n",
    "df[\"UNEMPLOYED\"] = np.where(df[\"ESR\"] == 3, 1, 0)"
   ]
  },
  {
   "cell_type": "code",
   "execution_count": 14,
   "metadata": {},
   "outputs": [],
   "source": [
    "df[\"MALE\"] = np.where(df[\"SEX\"] == 1, 1, 0)\n",
    "df[\"FEMALE\"] = np.where(df[\"SEX\"] == 0, 1, 0)"
   ]
  },
  {
   "cell_type": "code",
   "execution_count": 15,
   "metadata": {},
   "outputs": [],
   "source": [
    "df[\"MARRIED\"] = np.where(df[\"MAR\"] == 1, 1, 0)"
   ]
  },
  {
   "cell_type": "code",
   "execution_count": 16,
   "metadata": {},
   "outputs": [
    {
     "data": {
      "text/plain": [
       "0    147875\n",
       "1      2125\n",
       "Name: REC_NO_MAR, dtype: int64"
      ]
     },
     "execution_count": 16,
     "metadata": {},
     "output_type": "execute_result"
    }
   ],
   "source": [
    "df[\"REC_NO_MAR\"] = np.where((df[\"MARHD\"] == 1) | (df[\"MARHW\"] == 1), 1, 0)\n",
    "df[\"REC_NO_MAR\"].value_counts()"
   ]
  },
  {
   "cell_type": "code",
   "execution_count": 17,
   "metadata": {},
   "outputs": [
    {
     "data": {
      "text/plain": [
       "0.0    147460\n",
       "1.0      2540\n",
       "Name: MARHM_new, dtype: int64"
      ]
     },
     "execution_count": 17,
     "metadata": {},
     "output_type": "execute_result"
    }
   ],
   "source": [
    "df[\"MARHM_new\"] = np.where(df[\"MARHM\"] == 2, 0, df[\"MARHM\"])\n",
    "df[\"MARHM_new\"].value_counts()"
   ]
  },
  {
   "cell_type": "code",
   "execution_count": 18,
   "metadata": {},
   "outputs": [
    {
     "data": {
      "text/plain": [
       "1    78184\n",
       "0    71816\n",
       "Name: married_old, dtype: int64"
      ]
     },
     "execution_count": 18,
     "metadata": {},
     "output_type": "execute_result"
    }
   ],
   "source": [
    "df[\"married_old\"] = np.where((df[\"MARHM\"] == df[\"MARRIED\"]), 0, df[\"MARRIED\"])\n",
    "df[\"married_old\"].value_counts()"
   ]
  },
  {
   "cell_type": "code",
   "execution_count": 19,
   "metadata": {},
   "outputs": [],
   "source": [
    "df[\"MILITARY\"] = np.where(df[\"MIL\"] == 1, 1, 0)"
   ]
  },
  {
   "cell_type": "code",
   "execution_count": 20,
   "metadata": {},
   "outputs": [],
   "source": [
    "# up to debate still\n",
    "df[\"AGR_EXT\"] = np.where((df[\"AGR\"] == 1) | (df[\"EXT\"] == 1), 1, 0)\n",
    "df[\"HIGH_ED\"] = np.where((df[\"MED\"] == 1) | (df[\"EDU\"] == 1) | (df[\"PRF\"] == 1) | (df[\"MED\"] == 1) | (df[\"FIN\"] == 1) | (df[\"INF\"] == 1) | (df[\"MED\"] == 1), 1, 0)\n",
    "df[\"LICENSE\"] = np.where((df[\"SRV\"] == 1) | (df[\"REL\"] == 1), 1, 0)\n",
    "df[\"OTHER_JOB\"] = np.where((df[\"AGR_EXT\"] == 0) & (df[\"HIGH_ED\"] == 0) & (df[\"LICENSE\"] == 0) & (df[\"NO_IND\"] == 0), 1, 0)"
   ]
  },
  {
   "cell_type": "code",
   "execution_count": 21,
   "metadata": {},
   "outputs": [],
   "source": [
    "df[\"MICRO_adj_ORIG\"] = np.where((df[\"TYPE_ORIG\"] == 3) | (df[\"TYPE_ORIG\"] == 2), 1, 0)\n",
    "df[\"METRO\"] = np.where(df[\"TYPE_ORIG\"] == 1, 1, 0)\n",
    "df[\"T34\"] = np.where(df[\"TYPE_ORIG\"] == 0, 1, 0)"
   ]
  },
  {
   "cell_type": "code",
   "execution_count": 22,
   "metadata": {},
   "outputs": [],
   "source": [
    "df[\"UNEMPLOYED\"] = np.where((df[\"ESR\"] == 3) | (df[\"ESR\"] == 6), 1, 0)\n",
    "df[\"IN_LF\"] = np.where(df[\"ESR\"] == 6, 0, 1)"
   ]
  },
  {
   "cell_type": "code",
   "execution_count": 23,
   "metadata": {},
   "outputs": [],
   "source": [
    "df[\"WORK2_MAR\"] = np.where(df[\"FES\"] == 1, 1, 0)\n",
    "df[\"WORK1_MAR\"] = np.where((df[\"FES\"] <= 4) & (df[\"FES\"] >= 2), 1, 0)\n",
    "df[\"OTHER_FAMILY\"] = np.where((df[\"HHT\"] == 2) | (df[\"HHT\"] == 3), 1, 0)"
   ]
  },
  {
   "cell_type": "code",
   "execution_count": 24,
   "metadata": {},
   "outputs": [],
   "source": [
    "df.loc[df[\"CBSA_NAME_ORIG\"] == -1, \"CBSA_NAME_ORIG\"] = -2"
   ]
  },
  {
   "cell_type": "code",
   "execution_count": 25,
   "metadata": {},
   "outputs": [],
   "source": [
    "df[\"MIGSP_ORIG\"] = df[\"ORIGIN\"].astype(str).str.zfill(7).str[0:2].astype(int)"
   ]
  },
  {
   "cell_type": "code",
   "execution_count": 26,
   "metadata": {},
   "outputs": [
    {
     "data": {
      "text/plain": [
       "102500     198\n",
       "5500100    198\n",
       "5500700    191\n",
       "5310200    190\n",
       "1200500    187\n",
       "          ... \n",
       "3501001     23\n",
       "5541001     23\n",
       "2701403     23\n",
       "3100904     22\n",
       "2701503     21\n",
       "Name: CHOSEN, Length: 2336, dtype: int64"
      ]
     },
     "execution_count": 26,
     "metadata": {},
     "output_type": "execute_result"
    }
   ],
   "source": [
    "df[\"CHOSEN\"].value_counts()"
   ]
  },
  {
   "cell_type": "code",
   "execution_count": 27,
   "metadata": {},
   "outputs": [],
   "source": [
    "pumas = np.unique(df[\"CHOSEN\"])"
   ]
  },
  {
   "cell_type": "code",
   "execution_count": 28,
   "metadata": {},
   "outputs": [
    {
     "data": {
      "text/html": [
       "<div>\n",
       "<style scoped>\n",
       "    .dataframe tbody tr th:only-of-type {\n",
       "        vertical-align: middle;\n",
       "    }\n",
       "\n",
       "    .dataframe tbody tr th {\n",
       "        vertical-align: top;\n",
       "    }\n",
       "\n",
       "    .dataframe thead th {\n",
       "        text-align: right;\n",
       "    }\n",
       "</style>\n",
       "<table border=\"1\" class=\"dataframe\">\n",
       "  <thead>\n",
       "    <tr style=\"text-align: right;\">\n",
       "      <th></th>\n",
       "      <th>code</th>\n",
       "    </tr>\n",
       "    <tr>\n",
       "      <th>0</th>\n",
       "      <th></th>\n",
       "    </tr>\n",
       "  </thead>\n",
       "  <tbody>\n",
       "    <tr>\n",
       "      <th>0</th>\n",
       "      <td>0</td>\n",
       "    </tr>\n",
       "    <tr>\n",
       "      <th>100100</th>\n",
       "      <td>1599</td>\n",
       "    </tr>\n",
       "    <tr>\n",
       "      <th>100200</th>\n",
       "      <td>803</td>\n",
       "    </tr>\n",
       "    <tr>\n",
       "      <th>100301</th>\n",
       "      <td>359</td>\n",
       "    </tr>\n",
       "    <tr>\n",
       "      <th>100302</th>\n",
       "      <td>1194</td>\n",
       "    </tr>\n",
       "    <tr>\n",
       "      <th>...</th>\n",
       "      <td>...</td>\n",
       "    </tr>\n",
       "    <tr>\n",
       "      <th>5600100</th>\n",
       "      <td>947</td>\n",
       "    </tr>\n",
       "    <tr>\n",
       "      <th>5600200</th>\n",
       "      <td>1691</td>\n",
       "    </tr>\n",
       "    <tr>\n",
       "      <th>5600300</th>\n",
       "      <td>1509</td>\n",
       "    </tr>\n",
       "    <tr>\n",
       "      <th>5600400</th>\n",
       "      <td>2246</td>\n",
       "    </tr>\n",
       "    <tr>\n",
       "      <th>5600500</th>\n",
       "      <td>633</td>\n",
       "    </tr>\n",
       "  </tbody>\n",
       "</table>\n",
       "<p>2337 rows × 1 columns</p>\n",
       "</div>"
      ],
      "text/plain": [
       "         code\n",
       "0            \n",
       "0           0\n",
       "100100   1599\n",
       "100200    803\n",
       "100301    359\n",
       "100302   1194\n",
       "...       ...\n",
       "5600100   947\n",
       "5600200  1691\n",
       "5600300  1509\n",
       "5600400  2246\n",
       "5600500   633\n",
       "\n",
       "[2337 rows x 1 columns]"
      ]
     },
     "execution_count": 28,
     "metadata": {},
     "output_type": "execute_result"
    }
   ],
   "source": [
    "choices = pd.DataFrame(pd.factorize(df[\"CHOSEN\"])[1]).reset_index().set_index(0)\n",
    "choices.columns = [\"code\"]\n",
    "choices = choices + 1\n",
    "choices.loc[0] = [0]\n",
    "choices = choices.sort_index()\n",
    "choices"
   ]
  },
  {
   "cell_type": "code",
   "execution_count": 29,
   "metadata": {},
   "outputs": [],
   "source": [
    "df[\"custom_id\"] = np.arange(len(df))\n",
    "df[\"new_index\"] = df[\"custom_id\"]\n",
    "df[\"CHOICE\"] = np.where(df[\"STAY\"] == 1, 0, df[\"CHOSEN\"])\n",
    "df[\"CHOICE_CODE\"] = choices.loc[df[\"CHOICE\"]][\"code\"].values"
   ]
  },
  {
   "cell_type": "code",
   "execution_count": 30,
   "metadata": {},
   "outputs": [],
   "source": [
    "df = df.set_index(\"new_index\")"
   ]
  },
  {
   "cell_type": "code",
   "execution_count": 31,
   "metadata": {},
   "outputs": [],
   "source": [
    "df_estdata = df[[\"AGE_18_22\", \"AGE_23_29\", \"AGE_30_39\", \"AGE_40_49\", \"AGE_50_64\", \"AGE_OVER_65\", \"child\", \"REC_CHILD\", \"MARHM_new\", \"REC_NO_MAR\", \"MARRIED\", \"WORK2_MAR\", \"WORK1_MAR\", \"OTHER_FAMILY\", \"IN_COLLEGE\", \"MILITARY\", \"OWN_JOB_ORIG\", \"TOT_JOBS_ORIG\", \"HH_MED_VAL_ORIG\", \"GRNTP_ORIG_ADJ\", \"SMOCP_ORIG_ADJ\", \"FOREIGN\", \"EDU_COLLEGE\", \"EDU_LESS_HIGH\", \"IN_LF\", \"PINCP_ORIG_ADJ\", \"UNEMP_PCT_ORIG_ADJ\", \"T34\", \"METRO\", \"MICRO_adj_ORIG\", \"AGE_18_34\", \"AGE_35_64\", \"AGR_EXT\", \"HIGH_ED\", \"LICENSE\", \"OTHER_JOB\", \"POBP\", \"MIGSP_ORIG\", \"custom_id\", \"CHOICE_CODE\", \"NAICS\", \"CBSA_NAME_ORIG\"]]"
   ]
  },
  {
   "cell_type": "code",
   "execution_count": 32,
   "metadata": {},
   "outputs": [],
   "source": [
    "from pandas.api.types import is_numeric_dtype"
   ]
  },
  {
   "cell_type": "code",
   "execution_count": 33,
   "metadata": {},
   "outputs": [],
   "source": [
    "def condense(df):\n",
    "    for col in df.columns:\n",
    "        if not is_numeric_dtype(df[col]):\n",
    "            continue\n",
    "        max_val = df[col].max()\n",
    "        min_val = df[col].min()\n",
    "        if max_val < 1 and min_val > -1:\n",
    "            df[col] = df[col].astype(np.float32)\n",
    "        elif max_val < 127 and min_val > -128:\n",
    "            df[col] = df[col].astype(np.int8)\n",
    "        elif max_val < 32767 and min_val > -32768: \n",
    "            df[col] = df[col].astype(np.int16)\n",
    "        else:\n",
    "            df[col] = df[col].astype(np.int32)\n",
    "        gc.collect()\n",
    "    gc.collect()"
   ]
  },
  {
   "cell_type": "code",
   "execution_count": 34,
   "metadata": {},
   "outputs": [],
   "source": [
    "from xlogit.utils import wide_to_long"
   ]
  },
  {
   "cell_type": "code",
   "execution_count": 35,
   "metadata": {},
   "outputs": [],
   "source": [
    "alt_list = choices.code.astype(np.int16)"
   ]
  },
  {
   "cell_type": "code",
   "execution_count": 36,
   "metadata": {},
   "outputs": [
    {
     "name": "stderr",
     "output_type": "stream",
     "text": [
      "/tmp/ipykernel_19196/3543048571.py:10: SettingWithCopyWarning: \n",
      "A value is trying to be set on a copy of a slice from a DataFrame.\n",
      "Try using .loc[row_indexer,col_indexer] = value instead\n",
      "\n",
      "See the caveats in the documentation: https://pandas.pydata.org/pandas-docs/stable/user_guide/indexing.html#returning-a-view-versus-a-copy\n",
      "  df[col] = df[col].astype(np.int8)\n",
      "/tmp/ipykernel_19196/3543048571.py:14: SettingWithCopyWarning: \n",
      "A value is trying to be set on a copy of a slice from a DataFrame.\n",
      "Try using .loc[row_indexer,col_indexer] = value instead\n",
      "\n",
      "See the caveats in the documentation: https://pandas.pydata.org/pandas-docs/stable/user_guide/indexing.html#returning-a-view-versus-a-copy\n",
      "  df[col] = df[col].astype(np.int32)\n",
      "/tmp/ipykernel_19196/3543048571.py:12: SettingWithCopyWarning: \n",
      "A value is trying to be set on a copy of a slice from a DataFrame.\n",
      "Try using .loc[row_indexer,col_indexer] = value instead\n",
      "\n",
      "See the caveats in the documentation: https://pandas.pydata.org/pandas-docs/stable/user_guide/indexing.html#returning-a-view-versus-a-copy\n",
      "  df[col] = df[col].astype(np.int16)\n",
      "/tmp/ipykernel_19196/3543048571.py:8: SettingWithCopyWarning: \n",
      "A value is trying to be set on a copy of a slice from a DataFrame.\n",
      "Try using .loc[row_indexer,col_indexer] = value instead\n",
      "\n",
      "See the caveats in the documentation: https://pandas.pydata.org/pandas-docs/stable/user_guide/indexing.html#returning-a-view-versus-a-copy\n",
      "  df[col] = df[col].astype(np.float32)\n"
     ]
    }
   ],
   "source": [
    "condense(df_estdata)"
   ]
  },
  {
   "cell_type": "code",
   "execution_count": 37,
   "metadata": {},
   "outputs": [
    {
     "data": {
      "text/plain": [
       "0"
      ]
     },
     "execution_count": 37,
     "metadata": {},
     "output_type": "execute_result"
    }
   ],
   "source": [
    "long_data = wide_to_long(df_estdata, id_col=\"custom_id\", alt_list=alt_list, alt_name=\"alt\")\n",
    "gc.collect()"
   ]
  },
  {
   "cell_type": "code",
   "execution_count": 38,
   "metadata": {},
   "outputs": [
    {
     "data": {
      "text/html": [
       "<div>\n",
       "<style scoped>\n",
       "    .dataframe tbody tr th:only-of-type {\n",
       "        vertical-align: middle;\n",
       "    }\n",
       "\n",
       "    .dataframe tbody tr th {\n",
       "        vertical-align: top;\n",
       "    }\n",
       "\n",
       "    .dataframe thead th {\n",
       "        text-align: right;\n",
       "    }\n",
       "</style>\n",
       "<table border=\"1\" class=\"dataframe\">\n",
       "  <thead>\n",
       "    <tr style=\"text-align: right;\">\n",
       "      <th></th>\n",
       "      <th>custom_id</th>\n",
       "      <th>alt</th>\n",
       "      <th>AGE_18_22</th>\n",
       "      <th>AGE_23_29</th>\n",
       "      <th>AGE_30_39</th>\n",
       "      <th>AGE_40_49</th>\n",
       "      <th>AGE_50_64</th>\n",
       "      <th>AGE_OVER_65</th>\n",
       "      <th>child</th>\n",
       "      <th>REC_CHILD</th>\n",
       "      <th>...</th>\n",
       "      <th>AGE_35_64</th>\n",
       "      <th>AGR_EXT</th>\n",
       "      <th>HIGH_ED</th>\n",
       "      <th>LICENSE</th>\n",
       "      <th>OTHER_JOB</th>\n",
       "      <th>POBP</th>\n",
       "      <th>MIGSP_ORIG</th>\n",
       "      <th>CHOICE_CODE</th>\n",
       "      <th>NAICS</th>\n",
       "      <th>CBSA_NAME_ORIG</th>\n",
       "    </tr>\n",
       "  </thead>\n",
       "  <tbody>\n",
       "    <tr>\n",
       "      <th>0</th>\n",
       "      <td>0</td>\n",
       "      <td>0</td>\n",
       "      <td>0</td>\n",
       "      <td>0</td>\n",
       "      <td>0</td>\n",
       "      <td>0</td>\n",
       "      <td>1</td>\n",
       "      <td>0</td>\n",
       "      <td>0</td>\n",
       "      <td>0</td>\n",
       "      <td>...</td>\n",
       "      <td>1</td>\n",
       "      <td>0</td>\n",
       "      <td>0</td>\n",
       "      <td>0</td>\n",
       "      <td>1</td>\n",
       "      <td>17</td>\n",
       "      <td>17</td>\n",
       "      <td>1</td>\n",
       "      <td>RET</td>\n",
       "      <td>218</td>\n",
       "    </tr>\n",
       "    <tr>\n",
       "      <th>1</th>\n",
       "      <td>0</td>\n",
       "      <td>1599</td>\n",
       "      <td>0</td>\n",
       "      <td>0</td>\n",
       "      <td>0</td>\n",
       "      <td>0</td>\n",
       "      <td>1</td>\n",
       "      <td>0</td>\n",
       "      <td>0</td>\n",
       "      <td>0</td>\n",
       "      <td>...</td>\n",
       "      <td>1</td>\n",
       "      <td>0</td>\n",
       "      <td>0</td>\n",
       "      <td>0</td>\n",
       "      <td>1</td>\n",
       "      <td>17</td>\n",
       "      <td>17</td>\n",
       "      <td>1</td>\n",
       "      <td>RET</td>\n",
       "      <td>218</td>\n",
       "    </tr>\n",
       "    <tr>\n",
       "      <th>2</th>\n",
       "      <td>0</td>\n",
       "      <td>803</td>\n",
       "      <td>0</td>\n",
       "      <td>0</td>\n",
       "      <td>0</td>\n",
       "      <td>0</td>\n",
       "      <td>1</td>\n",
       "      <td>0</td>\n",
       "      <td>0</td>\n",
       "      <td>0</td>\n",
       "      <td>...</td>\n",
       "      <td>1</td>\n",
       "      <td>0</td>\n",
       "      <td>0</td>\n",
       "      <td>0</td>\n",
       "      <td>1</td>\n",
       "      <td>17</td>\n",
       "      <td>17</td>\n",
       "      <td>1</td>\n",
       "      <td>RET</td>\n",
       "      <td>218</td>\n",
       "    </tr>\n",
       "    <tr>\n",
       "      <th>3</th>\n",
       "      <td>0</td>\n",
       "      <td>359</td>\n",
       "      <td>0</td>\n",
       "      <td>0</td>\n",
       "      <td>0</td>\n",
       "      <td>0</td>\n",
       "      <td>1</td>\n",
       "      <td>0</td>\n",
       "      <td>0</td>\n",
       "      <td>0</td>\n",
       "      <td>...</td>\n",
       "      <td>1</td>\n",
       "      <td>0</td>\n",
       "      <td>0</td>\n",
       "      <td>0</td>\n",
       "      <td>1</td>\n",
       "      <td>17</td>\n",
       "      <td>17</td>\n",
       "      <td>1</td>\n",
       "      <td>RET</td>\n",
       "      <td>218</td>\n",
       "    </tr>\n",
       "    <tr>\n",
       "      <th>4</th>\n",
       "      <td>0</td>\n",
       "      <td>1194</td>\n",
       "      <td>0</td>\n",
       "      <td>0</td>\n",
       "      <td>0</td>\n",
       "      <td>0</td>\n",
       "      <td>1</td>\n",
       "      <td>0</td>\n",
       "      <td>0</td>\n",
       "      <td>0</td>\n",
       "      <td>...</td>\n",
       "      <td>1</td>\n",
       "      <td>0</td>\n",
       "      <td>0</td>\n",
       "      <td>0</td>\n",
       "      <td>1</td>\n",
       "      <td>17</td>\n",
       "      <td>17</td>\n",
       "      <td>1</td>\n",
       "      <td>RET</td>\n",
       "      <td>218</td>\n",
       "    </tr>\n",
       "  </tbody>\n",
       "</table>\n",
       "<p>5 rows × 43 columns</p>\n",
       "</div>"
      ],
      "text/plain": [
       "   custom_id   alt  AGE_18_22  AGE_23_29  AGE_30_39  AGE_40_49  AGE_50_64  \\\n",
       "0          0     0          0          0          0          0          1   \n",
       "1          0  1599          0          0          0          0          1   \n",
       "2          0   803          0          0          0          0          1   \n",
       "3          0   359          0          0          0          0          1   \n",
       "4          0  1194          0          0          0          0          1   \n",
       "\n",
       "   AGE_OVER_65  child  REC_CHILD  ...  AGE_35_64  AGR_EXT  HIGH_ED  LICENSE  \\\n",
       "0            0      0          0  ...          1        0        0        0   \n",
       "1            0      0          0  ...          1        0        0        0   \n",
       "2            0      0          0  ...          1        0        0        0   \n",
       "3            0      0          0  ...          1        0        0        0   \n",
       "4            0      0          0  ...          1        0        0        0   \n",
       "\n",
       "   OTHER_JOB  POBP  MIGSP_ORIG  CHOICE_CODE  NAICS  CBSA_NAME_ORIG  \n",
       "0          1    17          17            1    RET             218  \n",
       "1          1    17          17            1    RET             218  \n",
       "2          1    17          17            1    RET             218  \n",
       "3          1    17          17            1    RET             218  \n",
       "4          1    17          17            1    RET             218  \n",
       "\n",
       "[5 rows x 43 columns]"
      ]
     },
     "execution_count": 38,
     "metadata": {},
     "output_type": "execute_result"
    }
   ],
   "source": [
    "long_data.head()"
   ]
  },
  {
   "cell_type": "code",
   "execution_count": 39,
   "metadata": {},
   "outputs": [],
   "source": [
    "def process_stay_variables(long_data):\n",
    "    long_data[\"WORK2_MAR\"] = (long_data[\"WORK2_MAR\"] * long_data[\"MARRIED\"]).astype(np.int8)\n",
    "    long_data[\"WORK1_MAR\"] = (long_data[\"WORK1_MAR\"] * long_data[\"MARRIED\"]).astype(np.int8)\n",
    "    long_data[\"OWN_JOB_ORIG\"] = (long_data[\"OWN_JOB_ORIG\"] / long_data[\"TOT_JOBS_ORIG\"]).astype(np.float32)\n",
    "    long_data[\"PINCP_ORIG_ADJ\"] = long_data[\"PINCP_ORIG_ADJ\"] * long_data[\"IN_LF\"]\n",
    "    \n",
    "    del long_data[\"MARRIED\"]\n",
    "    del long_data[\"TOT_JOBS_ORIG\"]\n",
    "    gc.collect()"
   ]
  },
  {
   "cell_type": "code",
   "execution_count": 40,
   "metadata": {},
   "outputs": [
    {
     "data": {
      "text/plain": [
       "0"
      ]
     },
     "execution_count": 40,
     "metadata": {},
     "output_type": "execute_result"
    }
   ],
   "source": [
    "process_stay_variables(long_data)\n",
    "gc.collect()"
   ]
  },
  {
   "cell_type": "code",
   "execution_count": 41,
   "metadata": {},
   "outputs": [],
   "source": [
    "import random\n",
    "random.seed(5063)"
   ]
  },
  {
   "cell_type": "code",
   "execution_count": 42,
   "metadata": {},
   "outputs": [],
   "source": [
    "def handle_accessibility(long_data):\n",
    "    long_data[\"av\"] = 0\n",
    "    long_data.loc[long_data[\"alt\"] == 0, \"av\"] = 1\n",
    "    long_data[\"av\"] = long_data[\"av\"].astype(np.int8)\n",
    "    possible = list(range(1, 2337))\n",
    "    long_data.set_index([\"custom_id\", \"alt\"], inplace=True)\n",
    "    for id in tqdm(np.unique(df.index)):\n",
    "        # start = time.time()\n",
    "        dest = choices.loc[df.loc[id, \"CHOICE\"], \"code\"]\n",
    "        # print(time.time() - start)\n",
    "        sample = random.sample(possible, ALTERNATIVE_SAMPLE)\n",
    "        if dest != 0:\n",
    "            sample[0] = dest\n",
    "        sample = list(set(sample))\n",
    "        # print(time.time() - start)\n",
    "        long_data.loc[id].loc[sample, \"av\"] = 1\n",
    "        # print(time.time() - start)\n",
    "    gc.collect()"
   ]
  },
  {
   "cell_type": "code",
   "execution_count": 43,
   "metadata": {},
   "outputs": [
    {
     "name": "stderr",
     "output_type": "stream",
     "text": [
      "100%|██████████| 150000/150000 [02:30<00:00, 998.96it/s] \n"
     ]
    },
    {
     "data": {
      "text/plain": [
       "0"
      ]
     },
     "execution_count": 43,
     "metadata": {},
     "output_type": "execute_result"
    }
   ],
   "source": [
    "handle_accessibility(long_data)\n",
    "gc.collect()"
   ]
  },
  {
   "cell_type": "code",
   "execution_count": 44,
   "metadata": {},
   "outputs": [
    {
     "data": {
      "text/html": [
       "<div>\n",
       "<style scoped>\n",
       "    .dataframe tbody tr th:only-of-type {\n",
       "        vertical-align: middle;\n",
       "    }\n",
       "\n",
       "    .dataframe tbody tr th {\n",
       "        vertical-align: top;\n",
       "    }\n",
       "\n",
       "    .dataframe thead th {\n",
       "        text-align: right;\n",
       "    }\n",
       "</style>\n",
       "<table border=\"1\" class=\"dataframe\">\n",
       "  <thead>\n",
       "    <tr style=\"text-align: right;\">\n",
       "      <th></th>\n",
       "      <th>custom_id</th>\n",
       "      <th>alt</th>\n",
       "      <th>AGE_18_22</th>\n",
       "      <th>AGE_23_29</th>\n",
       "      <th>AGE_30_39</th>\n",
       "      <th>AGE_40_49</th>\n",
       "      <th>AGE_50_64</th>\n",
       "      <th>AGE_OVER_65</th>\n",
       "      <th>child</th>\n",
       "      <th>REC_CHILD</th>\n",
       "      <th>...</th>\n",
       "      <th>AGR_EXT</th>\n",
       "      <th>HIGH_ED</th>\n",
       "      <th>LICENSE</th>\n",
       "      <th>OTHER_JOB</th>\n",
       "      <th>POBP</th>\n",
       "      <th>MIGSP_ORIG</th>\n",
       "      <th>CHOICE_CODE</th>\n",
       "      <th>NAICS</th>\n",
       "      <th>CBSA_NAME_ORIG</th>\n",
       "      <th>av</th>\n",
       "    </tr>\n",
       "  </thead>\n",
       "  <tbody>\n",
       "    <tr>\n",
       "      <th>0</th>\n",
       "      <td>0</td>\n",
       "      <td>0</td>\n",
       "      <td>0</td>\n",
       "      <td>0</td>\n",
       "      <td>0</td>\n",
       "      <td>0</td>\n",
       "      <td>1</td>\n",
       "      <td>0</td>\n",
       "      <td>0</td>\n",
       "      <td>0</td>\n",
       "      <td>...</td>\n",
       "      <td>0</td>\n",
       "      <td>0</td>\n",
       "      <td>0</td>\n",
       "      <td>1</td>\n",
       "      <td>17</td>\n",
       "      <td>17</td>\n",
       "      <td>1</td>\n",
       "      <td>RET</td>\n",
       "      <td>218</td>\n",
       "      <td>1</td>\n",
       "    </tr>\n",
       "    <tr>\n",
       "      <th>1</th>\n",
       "      <td>0</td>\n",
       "      <td>1599</td>\n",
       "      <td>0</td>\n",
       "      <td>0</td>\n",
       "      <td>0</td>\n",
       "      <td>0</td>\n",
       "      <td>1</td>\n",
       "      <td>0</td>\n",
       "      <td>0</td>\n",
       "      <td>0</td>\n",
       "      <td>...</td>\n",
       "      <td>0</td>\n",
       "      <td>0</td>\n",
       "      <td>0</td>\n",
       "      <td>1</td>\n",
       "      <td>17</td>\n",
       "      <td>17</td>\n",
       "      <td>1</td>\n",
       "      <td>RET</td>\n",
       "      <td>218</td>\n",
       "      <td>0</td>\n",
       "    </tr>\n",
       "    <tr>\n",
       "      <th>2</th>\n",
       "      <td>0</td>\n",
       "      <td>803</td>\n",
       "      <td>0</td>\n",
       "      <td>0</td>\n",
       "      <td>0</td>\n",
       "      <td>0</td>\n",
       "      <td>1</td>\n",
       "      <td>0</td>\n",
       "      <td>0</td>\n",
       "      <td>0</td>\n",
       "      <td>...</td>\n",
       "      <td>0</td>\n",
       "      <td>0</td>\n",
       "      <td>0</td>\n",
       "      <td>1</td>\n",
       "      <td>17</td>\n",
       "      <td>17</td>\n",
       "      <td>1</td>\n",
       "      <td>RET</td>\n",
       "      <td>218</td>\n",
       "      <td>0</td>\n",
       "    </tr>\n",
       "    <tr>\n",
       "      <th>3</th>\n",
       "      <td>0</td>\n",
       "      <td>359</td>\n",
       "      <td>0</td>\n",
       "      <td>0</td>\n",
       "      <td>0</td>\n",
       "      <td>0</td>\n",
       "      <td>1</td>\n",
       "      <td>0</td>\n",
       "      <td>0</td>\n",
       "      <td>0</td>\n",
       "      <td>...</td>\n",
       "      <td>0</td>\n",
       "      <td>0</td>\n",
       "      <td>0</td>\n",
       "      <td>1</td>\n",
       "      <td>17</td>\n",
       "      <td>17</td>\n",
       "      <td>1</td>\n",
       "      <td>RET</td>\n",
       "      <td>218</td>\n",
       "      <td>0</td>\n",
       "    </tr>\n",
       "    <tr>\n",
       "      <th>4</th>\n",
       "      <td>0</td>\n",
       "      <td>1194</td>\n",
       "      <td>0</td>\n",
       "      <td>0</td>\n",
       "      <td>0</td>\n",
       "      <td>0</td>\n",
       "      <td>1</td>\n",
       "      <td>0</td>\n",
       "      <td>0</td>\n",
       "      <td>0</td>\n",
       "      <td>...</td>\n",
       "      <td>0</td>\n",
       "      <td>0</td>\n",
       "      <td>0</td>\n",
       "      <td>1</td>\n",
       "      <td>17</td>\n",
       "      <td>17</td>\n",
       "      <td>1</td>\n",
       "      <td>RET</td>\n",
       "      <td>218</td>\n",
       "      <td>0</td>\n",
       "    </tr>\n",
       "  </tbody>\n",
       "</table>\n",
       "<p>5 rows × 42 columns</p>\n",
       "</div>"
      ],
      "text/plain": [
       "   custom_id   alt  AGE_18_22  AGE_23_29  AGE_30_39  AGE_40_49  AGE_50_64  \\\n",
       "0          0     0          0          0          0          0          1   \n",
       "1          0  1599          0          0          0          0          1   \n",
       "2          0   803          0          0          0          0          1   \n",
       "3          0   359          0          0          0          0          1   \n",
       "4          0  1194          0          0          0          0          1   \n",
       "\n",
       "   AGE_OVER_65  child  REC_CHILD  ...  AGR_EXT  HIGH_ED  LICENSE  OTHER_JOB  \\\n",
       "0            0      0          0  ...        0        0        0          1   \n",
       "1            0      0          0  ...        0        0        0          1   \n",
       "2            0      0          0  ...        0        0        0          1   \n",
       "3            0      0          0  ...        0        0        0          1   \n",
       "4            0      0          0  ...        0        0        0          1   \n",
       "\n",
       "   POBP  MIGSP_ORIG  CHOICE_CODE  NAICS  CBSA_NAME_ORIG  av  \n",
       "0    17          17            1    RET             218   1  \n",
       "1    17          17            1    RET             218   0  \n",
       "2    17          17            1    RET             218   0  \n",
       "3    17          17            1    RET             218   0  \n",
       "4    17          17            1    RET             218   0  \n",
       "\n",
       "[5 rows x 42 columns]"
      ]
     },
     "execution_count": 44,
     "metadata": {},
     "output_type": "execute_result"
    }
   ],
   "source": [
    "long_data.reset_index(inplace=True)\n",
    "long_data.head(5)"
   ]
  },
  {
   "cell_type": "code",
   "execution_count": 45,
   "metadata": {},
   "outputs": [],
   "source": [
    "long_data[\"custom_id\"] = long_data[\"custom_id\"].astype(np.int32)\n",
    "long_data[\"alt\"] = long_data[\"alt\"].astype(np.int16)"
   ]
  },
  {
   "cell_type": "code",
   "execution_count": 46,
   "metadata": {},
   "outputs": [
    {
     "data": {
      "text/html": [
       "<div>\n",
       "<style scoped>\n",
       "    .dataframe tbody tr th:only-of-type {\n",
       "        vertical-align: middle;\n",
       "    }\n",
       "\n",
       "    .dataframe tbody tr th {\n",
       "        vertical-align: top;\n",
       "    }\n",
       "\n",
       "    .dataframe thead th {\n",
       "        text-align: right;\n",
       "    }\n",
       "</style>\n",
       "<table border=\"1\" class=\"dataframe\">\n",
       "  <thead>\n",
       "    <tr style=\"text-align: right;\">\n",
       "      <th></th>\n",
       "      <th>0</th>\n",
       "    </tr>\n",
       "    <tr>\n",
       "      <th>code</th>\n",
       "      <th></th>\n",
       "    </tr>\n",
       "  </thead>\n",
       "  <tbody>\n",
       "    <tr>\n",
       "      <th>0</th>\n",
       "      <td>0</td>\n",
       "    </tr>\n",
       "    <tr>\n",
       "      <th>1599</th>\n",
       "      <td>100100</td>\n",
       "    </tr>\n",
       "    <tr>\n",
       "      <th>803</th>\n",
       "      <td>100200</td>\n",
       "    </tr>\n",
       "    <tr>\n",
       "      <th>359</th>\n",
       "      <td>100301</td>\n",
       "    </tr>\n",
       "    <tr>\n",
       "      <th>1194</th>\n",
       "      <td>100302</td>\n",
       "    </tr>\n",
       "    <tr>\n",
       "      <th>...</th>\n",
       "      <td>...</td>\n",
       "    </tr>\n",
       "    <tr>\n",
       "      <th>947</th>\n",
       "      <td>5600100</td>\n",
       "    </tr>\n",
       "    <tr>\n",
       "      <th>1691</th>\n",
       "      <td>5600200</td>\n",
       "    </tr>\n",
       "    <tr>\n",
       "      <th>1509</th>\n",
       "      <td>5600300</td>\n",
       "    </tr>\n",
       "    <tr>\n",
       "      <th>2246</th>\n",
       "      <td>5600400</td>\n",
       "    </tr>\n",
       "    <tr>\n",
       "      <th>633</th>\n",
       "      <td>5600500</td>\n",
       "    </tr>\n",
       "  </tbody>\n",
       "</table>\n",
       "<p>2337 rows × 1 columns</p>\n",
       "</div>"
      ],
      "text/plain": [
       "            0\n",
       "code         \n",
       "0           0\n",
       "1599   100100\n",
       "803    100200\n",
       "359    100301\n",
       "1194   100302\n",
       "...       ...\n",
       "947   5600100\n",
       "1691  5600200\n",
       "1509  5600300\n",
       "2246  5600400\n",
       "633   5600500\n",
       "\n",
       "[2337 rows x 1 columns]"
      ]
     },
     "execution_count": 46,
     "metadata": {},
     "output_type": "execute_result"
    }
   ],
   "source": [
    "translation = choices.reset_index().set_index(\"code\")\n",
    "translation"
   ]
  },
  {
   "cell_type": "code",
   "execution_count": 47,
   "metadata": {},
   "outputs": [],
   "source": [
    "def include_acs_lodes_data(long_data):\n",
    "    # reading in external data\n",
    "    puma_acs_data = pd.read_csv(f\"data/ACS_2018.csv\")\n",
    "    puma_lodes_data = pd.read_csv(f\"data/wac_puma.csv\")\n",
    "\n",
    "    puma_acs_data = puma_acs_data.set_index(\"PUMA\")\n",
    "    puma_lodes_data = puma_lodes_data.set_index(\"puma\")\n",
    "\n",
    "    puma_acs_data.loc[0] = 0\n",
    "    puma_lodes_data.loc[0] = 0\n",
    "\n",
    "    # puma_acs_data = puma_acs_data[~puma_acs_data[\"Geo_STATE\"].isin([2, 15, 72])]\n",
    "\n",
    "    # puma_acs_data.index = puma_recodes.loc[puma_acs_data.index].values.reshape((-1))\n",
    "    # puma_lodes_data.index = puma_recodes.loc[puma_lodes_data.index].values.reshape((-1))\n",
    "    \n",
    "    puma_acs_data[\"COLLEGE\"] = puma_acs_data[\"Population 3 Years and Over Enrolled in School Private School College\"] + puma_acs_data[\"Population 3 Years and Over Enrolled in School Public School College\"]\n",
    "    puma_acs_data[\"COLLEGE\"] = puma_acs_data[\"COLLEGE\"].fillna(0)\n",
    "    puma_acs_data[\"Total Population Foreign Born\"] = puma_acs_data[\"Total Population Foreign Born\"].fillna(0)\n",
    "    \n",
    "    long_data[\"ALT_POP\"] = np.tile(puma_acs_data.loc[translation.loc[alt_list, 0], \"Total Population\"].astype(np.int32).values, NUM_SAMPLE)\n",
    "    long_data[\"ALT_COLLEGE\"] = np.tile(puma_acs_data.loc[translation.loc[alt_list, 0], \"COLLEGE\"].astype(np.int32).values, NUM_SAMPLE)\n",
    "    long_data[\"ALT_MIL\"] = np.tile(puma_acs_data.loc[translation.loc[alt_list, 0], \"Population 16 Years and Over in Labor Force in Armed Forces\"].astype(np.int32).values, NUM_SAMPLE)\n",
    "    \n",
    "    long_data[\"ALT_18_34\"] = (np.tile(puma_acs_data.loc[translation.loc[alt_list, 0], \"Total Population 18 to 34 Years\"].astype(np.int32).values, NUM_SAMPLE) / long_data[\"ALT_POP\"].values).astype(np.float32)\n",
    "    long_data[\"ALT_18_34\"] = long_data[\"ALT_18_34\"].fillna(0)\n",
    "    long_data[\"ALT_35_64\"] = (np.tile(puma_acs_data.loc[translation.loc[alt_list, 0], \"Total Population 35 to 64 Years\"].astype(np.int32).values, NUM_SAMPLE) / long_data[\"ALT_POP\"].values).astype(np.float32)\n",
    "    long_data[\"ALT_35_64\"] = long_data[\"ALT_35_64\"].fillna(0)\n",
    "    long_data[\"ALT_65\"] = (np.tile(puma_acs_data.loc[translation.loc[alt_list, 0], \"Total Population 65 and Over\"].astype(np.int32).values, NUM_SAMPLE) / long_data[\"ALT_POP\"].values).astype(np.float32)\n",
    "    long_data[\"ALT_65\"] = long_data[\"ALT_65\"].fillna(0)\n",
    "    long_data[\"ALT_FOREIGN\"] = (np.tile(puma_acs_data.loc[translation.loc[alt_list, 0], \"Total Population Foreign Born\"].astype(np.int32).values, NUM_SAMPLE) / long_data[\"ALT_POP\"].values).astype(np.float32)\n",
    "    long_data[\"ALT_FOREIGN\"] = long_data[\"ALT_FOREIGN\"].fillna(0)\n",
    "    \n",
    "    long_data[\"ALT_18_34\"] = (long_data[\"ALT_18_34\"] * long_data[\"AGE_18_34\"]).astype(np.int8)\n",
    "    long_data[\"ALT_35_64\"] = (long_data[\"ALT_35_64\"] * long_data[\"AGE_35_64\"]).astype(np.int8)\n",
    "    long_data[\"ALT_65\"] = (long_data[\"ALT_65\"] * long_data[\"AGE_OVER_65\"]).astype(np.int8)\n",
    "    long_data[\"ALT_FOREIGN\"] = long_data[\"ALT_FOREIGN\"] * long_data[\"FOREIGN\"]\n",
    "    long_data[\"ALT_COLLEGE\"] = long_data[\"ALT_COLLEGE\"] * long_data[\"IN_COLLEGE\"]\n",
    "    \n",
    "    long_data[\"ALT_JOBS\"] = np.tile(puma_lodes_data.loc[translation.loc[alt_list, 0], \"TOT_JOBS\"].astype(np.int32).values, NUM_SAMPLE)\n",
    "    \n",
    "    long_data[\"ALT_ENT\"] = (np.tile(puma_lodes_data.loc[translation.loc[alt_list, 0], \"ENT\"].astype(np.int32).values, NUM_SAMPLE) / long_data[\"ALT_JOBS\"].values).astype(np.float32)\n",
    "    long_data[\"ALT_ENT\"] = long_data[\"ALT_ENT\"].fillna(0)\n",
    "    \n",
    "    long_data[\"ALT_ENT_18_34\"] = long_data[\"ALT_ENT\"] * long_data[\"AGE_18_34\"]\n",
    "    long_data[\"ALT_ENT_35_64\"] = long_data[\"ALT_ENT\"] * long_data[\"AGE_35_64\"]\n",
    "    long_data[\"ALT_ENT_OVER_65\"] = long_data[\"ALT_ENT\"] * long_data[\"AGE_OVER_65\"]\n",
    "    \n",
    "    long_data[\"ALT_OWN_JOB\"] = np.where(long_data[\"NAICS\"] == 0, 0, puma_lodes_data.lookup(np.tile(translation.loc[alt_list, 0], NUM_SAMPLE), long_data[\"NAICS\"].replace(0, \"EDU\")))\n",
    "    \n",
    "    long_data[\"ALT_OWN_JOB\"] = (long_data[\"ALT_OWN_JOB\"] / long_data[\"ALT_JOBS\"]).astype(np.float32)\n",
    "    long_data[\"ALT_OWN_JOB\"] = long_data[\"ALT_OWN_JOB\"].fillna(0)\n",
    "    \n",
    "    long_data[\"ALT_OWN_JOB_AGREXT\"] = long_data[\"ALT_OWN_JOB\"] * long_data[\"AGR_EXT\"]\n",
    "    long_data[\"ALT_OWN_JOB_HIGHED\"] = long_data[\"ALT_OWN_JOB\"] * long_data[\"HIGH_ED\"]\n",
    "    long_data[\"ALT_OWN_JOB_LICENSE\"] = long_data[\"ALT_OWN_JOB\"] * long_data[\"LICENSE\"]\n",
    "    long_data[\"ALT_OWN_JOB_OTHER\"] = long_data[\"ALT_OWN_JOB\"] * long_data[\"OTHER_JOB\"]\n",
    "    \n",
    "    del long_data[\"AGE_18_34\"]\n",
    "    del long_data[\"AGE_35_64\"]\n",
    "    del long_data[\"ALT_ENT\"]\n",
    "    del long_data[\"NAICS\"]\n",
    "    del long_data[\"ALT_JOBS\"]\n",
    "    gc.collect()\n",
    "\n",
    "    del long_data[\"ALT_OWN_JOB\"]\n",
    "    del long_data[\"AGR_EXT\"]\n",
    "    del long_data[\"HIGH_ED\"]\n",
    "    del long_data[\"OTHER_JOB\"]\n",
    "    gc.collect()"
   ]
  },
  {
   "cell_type": "code",
   "execution_count": 48,
   "metadata": {},
   "outputs": [
    {
     "name": "stderr",
     "output_type": "stream",
     "text": [
      "/tmp/ipykernel_19196/479137234.py:25: RuntimeWarning: invalid value encountered in divide\n",
      "  long_data[\"ALT_18_34\"] = (np.tile(puma_acs_data.loc[translation.loc[alt_list, 0], \"Total Population 18 to 34 Years\"].astype(np.int32).values, NUM_SAMPLE) / long_data[\"ALT_POP\"].values).astype(np.float32)\n",
      "/tmp/ipykernel_19196/479137234.py:27: RuntimeWarning: invalid value encountered in divide\n",
      "  long_data[\"ALT_35_64\"] = (np.tile(puma_acs_data.loc[translation.loc[alt_list, 0], \"Total Population 35 to 64 Years\"].astype(np.int32).values, NUM_SAMPLE) / long_data[\"ALT_POP\"].values).astype(np.float32)\n",
      "/tmp/ipykernel_19196/479137234.py:29: RuntimeWarning: invalid value encountered in divide\n",
      "  long_data[\"ALT_65\"] = (np.tile(puma_acs_data.loc[translation.loc[alt_list, 0], \"Total Population 65 and Over\"].astype(np.int32).values, NUM_SAMPLE) / long_data[\"ALT_POP\"].values).astype(np.float32)\n",
      "/tmp/ipykernel_19196/479137234.py:31: RuntimeWarning: invalid value encountered in divide\n",
      "  long_data[\"ALT_FOREIGN\"] = (np.tile(puma_acs_data.loc[translation.loc[alt_list, 0], \"Total Population Foreign Born\"].astype(np.int32).values, NUM_SAMPLE) / long_data[\"ALT_POP\"].values).astype(np.float32)\n",
      "/tmp/ipykernel_19196/479137234.py:42: RuntimeWarning: invalid value encountered in divide\n",
      "  long_data[\"ALT_ENT\"] = (np.tile(puma_lodes_data.loc[translation.loc[alt_list, 0], \"ENT\"].astype(np.int32).values, NUM_SAMPLE) / long_data[\"ALT_JOBS\"].values).astype(np.float32)\n",
      "/tmp/ipykernel_19196/479137234.py:49: FutureWarning: The 'lookup' method is deprecated and will be removed in a future version. You can use DataFrame.melt and DataFrame.loc as a substitute.\n",
      "  long_data[\"ALT_OWN_JOB\"] = np.where(long_data[\"NAICS\"] == 0, 0, puma_lodes_data.lookup(np.tile(translation.loc[alt_list, 0], NUM_SAMPLE), long_data[\"NAICS\"].replace(0, \"EDU\")))\n"
     ]
    },
    {
     "data": {
      "text/plain": [
       "0"
      ]
     },
     "execution_count": 48,
     "metadata": {},
     "output_type": "execute_result"
    }
   ],
   "source": [
    "include_acs_lodes_data(long_data)\n",
    "gc.collect()"
   ]
  },
  {
   "cell_type": "code",
   "execution_count": 49,
   "metadata": {},
   "outputs": [],
   "source": [
    "def include_cbsa_data(long_data):\n",
    "    cbsas = pd.read_csv(\"data/puma_density.csv\")\n",
    "    cbsas = cbsas.set_index(\"GEOID\")\n",
    "    cbsas[\"type_num\"] = 2\n",
    "    cbsas[\"type_num\"] = np.where(cbsas[\"type\"] == \"T34\", 0, cbsas[\"type_num\"])\n",
    "    cbsas[\"type_num\"] = np.where(cbsas[\"type\"] == \"Metro\", 1, cbsas[\"type_num\"])\n",
    "    # cbsas[\"type_num\"] = np.where(cbsas[\"type\"] == \"Micro\", 2, cbsas[\"type_num\"])\n",
    "    cbsas[\"Name_num\"] = pd.factorize(cbsas[\"CBSA_name\"])[0]\n",
    "    cbsas.loc[0] = -1\n",
    "    \n",
    "    long_data[\"ALT_T34\"] = np.tile(cbsas.loc[translation.loc[alt_list, 0], \"type_num\"].astype(np.int32).values, NUM_SAMPLE) == 0\n",
    "    long_data[\"ALT_Metro\"] = np.tile(cbsas.loc[translation.loc[alt_list, 0], \"type_num\"].astype(np.int32).values, NUM_SAMPLE) == 1\n",
    "    long_data[\"ALT_Micro\"] = np.tile(cbsas.loc[translation.loc[alt_list, 0], \"type_num\"].astype(np.int32).values, NUM_SAMPLE) == 2\n",
    "    \n",
    "    long_data[\"ALT_T34_Metro\"] = (long_data[\"T34\"].values * long_data[\"ALT_T34\"]).astype(np.int8)\n",
    "    long_data[\"ALT_T34_Metro\"] = (long_data[\"T34\"].values * long_data[\"ALT_Metro\"]).astype(np.int8)\n",
    "    long_data[\"ALT_T34_Micro\"] = (long_data[\"T34\"].values * long_data[\"ALT_Micro\"]).astype(np.int8)\n",
    "    long_data[\"ALT_Metro_T34\"] = (long_data[\"METRO\"].values * long_data[\"ALT_T34\"].values).astype(np.int8)\n",
    "    long_data[\"ALT_Metro_Metro\"] = (long_data[\"METRO\"].values * long_data[\"ALT_Metro\"].values).astype(np.int8)\n",
    "    long_data[\"ALT_Metro_Micro\"] = (long_data[\"METRO\"].values * long_data[\"ALT_Micro\"].values).astype(np.int8)\n",
    "    long_data[\"ALT_Micro_T34\"] = (long_data[\"MICRO_adj_ORIG\"] * long_data[\"ALT_T34\"]).astype(np.int8)\n",
    "    long_data[\"ALT_Micro_Metro\"] = (long_data[\"MICRO_adj_ORIG\"] * long_data[\"ALT_Metro\"]).astype(np.int8)\n",
    "    long_data[\"ALT_Micro_Micro\"] = (long_data[\"MICRO_adj_ORIG\"] * long_data[\"ALT_Micro\"]).astype(np.int8)\n",
    "    \n",
    "    long_data[\"ALT_Name_num\"] = np.tile(cbsas.loc[translation.loc[alt_list, 0], \"Name_num\"].astype(np.int16).values, NUM_SAMPLE)\n",
    "    \n",
    "    del long_data[\"ALT_T34\"]\n",
    "    del long_data[\"ALT_Metro\"]\n",
    "    del long_data[\"ALT_Micro\"]\n",
    "    del long_data[\"METRO\"]\n",
    "    gc.collect()\n",
    "    \n",
    "    long_data[\"ALT_birthstate\"] = (np.tile(cbsas.loc[translation.loc[alt_list, 0], \"STATEFIP\"].astype(np.int32).values, NUM_SAMPLE) == long_data[\"POBP\"]).astype(np.int8)\n",
    "    long_data[\"ALT_samestate\"] = (np.tile(cbsas.loc[translation.loc[alt_list, 0], \"STATEFIP\"].astype(np.int32).values, NUM_SAMPLE) == long_data[\"MIGSP_ORIG\"]).astype(np.int8)\n",
    "    \n",
    "    del long_data[\"POBP\"]\n",
    "    del long_data[\"MIGSP_ORIG\"]\n",
    "    gc.collect()"
   ]
  },
  {
   "cell_type": "code",
   "execution_count": 50,
   "metadata": {},
   "outputs": [
    {
     "data": {
      "text/plain": [
       "0"
      ]
     },
     "execution_count": 50,
     "metadata": {},
     "output_type": "execute_result"
    }
   ],
   "source": [
    "include_cbsa_data(long_data)\n",
    "gc.collect()"
   ]
  },
  {
   "cell_type": "code",
   "execution_count": 52,
   "metadata": {},
   "outputs": [],
   "source": [
    "def include_leave_puma_data(long_data):\n",
    "    leave_puma = pd.read_csv(f\"data/leave_puma.csv\").set_index(\"CHOSEN\")\n",
    "    leave_puma[\"UNEMP_PCT\"] = leave_puma[\"UNEMP\"] / (leave_puma[\"EMP\"] + leave_puma[\"UNEMP\"])\n",
    "    leave_puma.loc[0] = 0\n",
    "    \n",
    "    long_data[\"ALT_unemp\"] = np.tile(leave_puma.loc[translation.loc[alt_list, 0], \"UNEMP_PCT\"].astype(np.float32).values, NUM_SAMPLE)\n",
    "    long_data[\"ALT_hhcost\"] = np.tile(leave_puma.loc[translation.loc[alt_list, 0], \"HH_COST\"].astype(np.float32).values, NUM_SAMPLE)\n",
    "    \n",
    "    long_data[\"ALT_unemp\"] = long_data[\"ALT_unemp\"] * long_data[\"IN_LF\"]\n",
    "    \n",
    "    del long_data[\"IN_LF\"]\n",
    "    gc.collect()"
   ]
  },
  {
   "cell_type": "code",
   "execution_count": 53,
   "metadata": {},
   "outputs": [
    {
     "data": {
      "text/plain": [
       "0"
      ]
     },
     "execution_count": 53,
     "metadata": {},
     "output_type": "execute_result"
    }
   ],
   "source": [
    "include_leave_puma_data(long_data)\n",
    "gc.collect()"
   ]
  },
  {
   "cell_type": "code",
   "execution_count": 54,
   "metadata": {},
   "outputs": [],
   "source": [
    "def include_distances(long_data):\n",
    "    # reading in MIGPUMA-PUMA distance data\n",
    "    distances = pd.read_csv(\"data/puma_distance_matrix_fixed.csv\").set_index(\"Unnamed: 0\")\n",
    "    distances = distances.astype(np.int32)\n",
    "    distances.index = distances.index.astype(int)\n",
    "    distances.columns = distances.columns.astype(int)\n",
    "    distances.loc[0] = 0\n",
    "    distances[0] = 0\n",
    "    # distances.columns = puma_recodes.loc[distances.columns.astype(int)].values.reshape((-1))\n",
    "    \n",
    "    long_data[\"ALT_DIST\"] = distances.lookup(df.loc[long_data[\"custom_id\"], \"ORIGIN\"], translation.loc[long_data[\"alt\"], 0]).astype(np.int32)\n",
    "    \n",
    "    long_data[\"ALT_logdist\"] = np.log(long_data[\"ALT_DIST\"] + 1).astype(np.float32)\n",
    "    \n",
    "    long_data[\"ALT_cbsadist\"] = (long_data[\"ALT_Name_num\"] == long_data[\"CBSA_NAME_ORIG\"]) * long_data[\"ALT_DIST\"]\n",
    "    \n",
    "    long_data[\"ALT_DIST\"] = (long_data[\"ALT_Name_num\"] != long_data[\"CBSA_NAME_ORIG\"]) * long_data[\"ALT_DIST\"]\n",
    "    long_data[\"ALT_logdist\"] = (long_data[\"ALT_Name_num\"] != long_data[\"CBSA_NAME_ORIG\"]) * long_data[\"ALT_logdist\"]\n",
    "    \n",
    "    del long_data[\"ALT_Name_num\"]\n",
    "    del long_data[\"CBSA_NAME_ORIG\"]\n",
    "    gc.collect()"
   ]
  },
  {
   "cell_type": "code",
   "execution_count": 55,
   "metadata": {},
   "outputs": [
    {
     "name": "stderr",
     "output_type": "stream",
     "text": [
      "/tmp/ipykernel_19196/1181144919.py:11: FutureWarning: The 'lookup' method is deprecated and will be removed in a future version. You can use DataFrame.melt and DataFrame.loc as a substitute.\n",
      "  long_data[\"ALT_DIST\"] = distances.lookup(df.loc[long_data[\"custom_id\"], \"ORIGIN\"], translation.loc[long_data[\"alt\"], 0]).astype(np.int32)\n"
     ]
    },
    {
     "data": {
      "text/plain": [
       "0"
      ]
     },
     "execution_count": 55,
     "metadata": {},
     "output_type": "execute_result"
    }
   ],
   "source": [
    "include_distances(long_data)\n",
    "gc.collect()"
   ]
  },
  {
   "cell_type": "code",
   "execution_count": 56,
   "metadata": {},
   "outputs": [
    {
     "data": {
      "text/plain": [
       "44519850128"
      ]
     },
     "execution_count": 56,
     "metadata": {},
     "output_type": "execute_result"
    }
   ],
   "source": [
    "long_data.memory_usage().sum()"
   ]
  },
  {
   "cell_type": "code",
   "execution_count": 57,
   "metadata": {},
   "outputs": [
    {
     "data": {
      "text/plain": [
       "Index(['custom_id', 'alt', 'AGE_18_22', 'AGE_23_29', 'AGE_30_39', 'AGE_40_49',\n",
       "       'AGE_50_64', 'AGE_OVER_65', 'child', 'REC_CHILD', 'MARHM_new',\n",
       "       'REC_NO_MAR', 'WORK2_MAR', 'WORK1_MAR', 'OTHER_FAMILY', 'IN_COLLEGE',\n",
       "       'MILITARY', 'OWN_JOB_ORIG', 'HH_MED_VAL_ORIG', 'GRNTP_ORIG_ADJ',\n",
       "       'SMOCP_ORIG_ADJ', 'FOREIGN', 'EDU_COLLEGE', 'EDU_LESS_HIGH',\n",
       "       'PINCP_ORIG_ADJ', 'UNEMP_PCT_ORIG_ADJ', 'T34', 'MICRO_adj_ORIG',\n",
       "       'LICENSE', 'CHOICE_CODE', 'av', 'ALT_POP', 'ALT_COLLEGE', 'ALT_MIL',\n",
       "       'ALT_18_34', 'ALT_35_64', 'ALT_65', 'ALT_FOREIGN', 'ALT_ENT_18_34',\n",
       "       'ALT_ENT_35_64', 'ALT_ENT_OVER_65', 'ALT_OWN_JOB_AGREXT',\n",
       "       'ALT_OWN_JOB_HIGHED', 'ALT_OWN_JOB_LICENSE', 'ALT_OWN_JOB_OTHER',\n",
       "       'ALT_T34_Metro', 'ALT_T34_Micro', 'ALT_Metro_T34', 'ALT_Metro_Metro',\n",
       "       'ALT_Metro_Micro', 'ALT_Micro_T34', 'ALT_Micro_Metro',\n",
       "       'ALT_Micro_Micro', 'ALT_birthstate', 'ALT_samestate', 'ALT_unemp',\n",
       "       'ALT_hhcost', 'ALT_DIST', 'ALT_logdist', 'ALT_cbsadist'],\n",
       "      dtype='object')"
      ]
     },
     "execution_count": 57,
     "metadata": {},
     "output_type": "execute_result"
    }
   ],
   "source": [
    "long_data.columns"
   ]
  },
  {
   "cell_type": "code",
   "execution_count": 58,
   "metadata": {},
   "outputs": [],
   "source": [
    "long_data[\"ASC_STAY\"] = 1\n",
    "long_data[\"ASC_LEAVE\"] = 1\n",
    "long_data[\"ASC_STAY\"] = long_data[\"ASC_STAY\"].astype(np.int8)\n",
    "long_data[\"ASC_LEAVE\"] = long_data[\"ASC_LEAVE\"].astype(np.int8)"
   ]
  },
  {
   "cell_type": "code",
   "execution_count": 10,
   "metadata": {},
   "outputs": [],
   "source": [
    "stay_vars = [\"ASC_STAY\", \"AGE_18_22\", \"AGE_23_29\", \"AGE_30_39\", \"AGE_50_64\", \"AGE_OVER_65\", \"child\", \"REC_CHILD\", \"MARHM_new\", \"REC_NO_MAR\", \"WORK2_MAR\", \"WORK1_MAR\", \"OTHER_FAMILY\", \"IN_COLLEGE\", \"MILITARY\", \"OWN_JOB_ORIG\", \"HH_MED_VAL_ORIG\", \"GRNTP_ORIG_ADJ\", \"SMOCP_ORIG_ADJ\", \"FOREIGN\", \"EDU_COLLEGE\", \"EDU_LESS_HIGH\", \"T34\", \"MICRO_adj_ORIG\"]\n",
    "destchoice_vars = [\"ASC_LEAVE\", \"ALT_pop_log\", \"ALT_DIST\", \"ALT_logdist\", \"ALT_cbsadist\", \"ALT_hhcost\", \"ALT_COLLEGE\", \"ALT_FOREIGN\", \"ALT_18_34\", \"ALT_35_64\", \"ALT_65\", \"ALT_ENT_18_34\", \"ALT_ENT_35_64\", \"ALT_ENT_OVER_65\", \"ALT_unemp\", \"ALT_T34_Metro\", \"ALT_T34_Micro\", \"ALT_Metro_T34\", \"ALT_Metro_Metro\", \"ALT_Metro_Micro\", \"ALT_Micro_T34\", \"ALT_Micro_Metro\", \"ALT_Micro_Micro\", \"ALT_OWN_JOB_AGREXT\", \"ALT_OWN_JOB_HIGHED\", \"ALT_OWN_JOB_LICENSE\", \"ALT_OWN_JOB_OTHER\", \"ALT_MIL\", \"ALT_birthstate\", \"ALT_samestate\"]"
   ]
  },
  {
   "cell_type": "code",
   "execution_count": 62,
   "metadata": {},
   "outputs": [],
   "source": [
    "for col in stay_vars:\n",
    "    long_data[col] = long_data[col] * (long_data[\"alt\"] == 0)\n",
    "    gc.collect()\n",
    "gc.collect()"
   ]
  },
  {
   "cell_type": "code",
   "execution_count": 64,
   "metadata": {},
   "outputs": [
    {
     "data": {
      "text/plain": [
       "0"
      ]
     },
     "execution_count": 64,
     "metadata": {},
     "output_type": "execute_result"
    }
   ],
   "source": [
    "for col in destchoice_vars:\n",
    "    long_data[col] = long_data[col] * (long_data[\"alt\"] != 0)\n",
    "    gc.collect()\n",
    "gc.collect()"
   ]
  },
  {
   "cell_type": "code",
   "execution_count": 66,
   "metadata": {},
   "outputs": [
    {
     "name": "stdout",
     "output_type": "stream",
     "text": [
      "int32\n",
      "int16\n",
      "int8\n",
      "int8\n",
      "int8\n",
      "int8\n",
      "int8\n",
      "int8\n",
      "int8\n",
      "int8\n",
      "int8\n",
      "int8\n",
      "int8\n",
      "int8\n",
      "int8\n",
      "int8\n",
      "int8\n",
      "float32\n",
      "int32\n",
      "int16\n",
      "int16\n",
      "int8\n",
      "int8\n",
      "int8\n",
      "int32\n",
      "float32\n",
      "int8\n",
      "int8\n",
      "int8\n",
      "int16\n",
      "int8\n",
      "int32\n",
      "int32\n",
      "int32\n",
      "int8\n",
      "int8\n",
      "int8\n",
      "float32\n",
      "float32\n",
      "float32\n",
      "float32\n",
      "float32\n",
      "float32\n",
      "float32\n",
      "float32\n",
      "int8\n",
      "int8\n",
      "int8\n",
      "int8\n",
      "int8\n",
      "int8\n",
      "int8\n",
      "int8\n",
      "bool\n",
      "bool\n",
      "float32\n",
      "float32\n",
      "int32\n",
      "float32\n",
      "int32\n",
      "int8\n",
      "int8\n"
     ]
    }
   ],
   "source": [
    "for i in long_data.dtypes:\n",
    "    print(i)"
   ]
  },
  {
   "cell_type": "code",
   "execution_count": 10,
   "metadata": {},
   "outputs": [],
   "source": [
    "import numpy as np\n",
    "import pandas as pd\n",
    "from xlogit import MultinomialLogit"
   ]
  },
  {
   "cell_type": "code",
   "execution_count": 4,
   "metadata": {},
   "outputs": [],
   "source": [
    "estdata = pd.read_parquet(\"temp.parquet.gzip\")"
   ]
  },
  {
   "cell_type": "code",
   "execution_count": 5,
   "metadata": {},
   "outputs": [],
   "source": [
    "stay_vars = [\"ASC_STAY\", \"AGE_18_22\", \"AGE_23_29\", \"AGE_30_39\", \"AGE_50_64\", \"AGE_OVER_65\", \"child\", \"REC_CHILD\", \"MARHM_new\", \"REC_NO_MAR\", \"WORK2_MAR\", \"WORK1_MAR\", \"OTHER_FAMILY\", \"IN_COLLEGE\", \"MILITARY\", \"OWN_JOB_ORIG\", \"HH_MED_VAL_ORIG\", \"GRNTP_ORIG_ADJ\", \"SMOCP_ORIG_ADJ\", \"FOREIGN\", \"EDU_COLLEGE\", \"EDU_LESS_HIGH\", \"T34\", \"MICRO_adj_ORIG\"]\n",
    "destchoice_vars = [\"ASC_LEAVE\", \"ALT_pop_log\", \"ALT_DIST\", \"ALT_logdist\", \"ALT_cbsadist\", \"ALT_hhcost\", \"ALT_COLLEGE\", \"ALT_FOREIGN\", \"ALT_18_34\", \"ALT_35_64\", \"ALT_65\", \"ALT_ENT_18_34\", \"ALT_ENT_35_64\", \"ALT_ENT_OVER_65\", \"ALT_unemp\", \"ALT_T34_Metro\", \"ALT_T34_Micro\", \"ALT_Metro_T34\", \"ALT_Metro_Metro\", \"ALT_Metro_Micro\", \"ALT_Micro_T34\", \"ALT_Micro_Metro\", \"ALT_Micro_Micro\", \"ALT_OWN_JOB_AGREXT\", \"ALT_OWN_JOB_HIGHED\", \"ALT_OWN_JOB_LICENSE\", \"ALT_OWN_JOB_OTHER\", \"ALT_MIL\", \"ALT_birthstate\", \"ALT_samestate\"]"
   ]
  },
  {
   "cell_type": "code",
   "execution_count": 6,
   "metadata": {},
   "outputs": [],
   "source": [
    "init = [15.8, -0.426, -0.571, -0.317, 0.231, 0.795, -0.471, -0.0526, -1.18, -0.57, 1.02, 0.899, 0.632, 0.692, -0.693, 0.97, 0.000000753, -0.000915, 0.000689, 0.204, -0.174, 0.0563, 0.579, -0.208, 0, 1, -0.000000302, -0.35, -0.0000278, -2.06, 0.0000654, 0.684, 3.68, 1.39, 4.62, 1.24, 2.98, 2.58, -2.1, 1.05, 1.17, 0.0409, 1.25, 0.808, -0.0367, 0.572, 2.01, 6.35, 1.54, 5.23, 2.45, 0.00018, 0.285, 2.5]"
   ]
  },
  {
   "cell_type": "code",
   "execution_count": 7,
   "metadata": {},
   "outputs": [],
   "source": [
    "varnames = stay_vars + destchoice_vars"
   ]
  },
  {
   "cell_type": "code",
   "execution_count": 11,
   "metadata": {},
   "outputs": [],
   "source": [
    "estdata[\"ALT_pop_log\"] = np.log(estdata[\"ALT_POP\"] + 1).astype(np.float32)"
   ]
  },
  {
   "cell_type": "code",
   "execution_count": 12,
   "metadata": {},
   "outputs": [],
   "source": [
    "model = MultinomialLogit()\n"
   ]
  },
  {
   "cell_type": "code",
   "execution_count": 13,
   "metadata": {},
   "outputs": [],
   "source": [
    "model.fit(X=estdata[varnames], y=estdata[\"CHOICE_CODE\"], varnames=varnames, alts=estdata[\"alt\"], ids=estdata[\"custom_id\"], avail=estdata[\"av\"], init_coeff=init)"
   ]
  },
  {
   "cell_type": "code",
   "execution_count": null,
   "metadata": {},
   "outputs": [],
   "source": []
  }
 ],
 "metadata": {
  "kernelspec": {
   "display_name": "Python 3.8.15 ('py38')",
   "language": "python",
   "name": "python3"
  },
  "language_info": {
   "codemirror_mode": {
    "name": "ipython",
    "version": 3
   },
   "file_extension": ".py",
   "mimetype": "text/x-python",
   "name": "python",
   "nbconvert_exporter": "python",
   "pygments_lexer": "ipython3",
   "version": "3.8.15"
  },
  "orig_nbformat": 4,
  "vscode": {
   "interpreter": {
    "hash": "b86e3eb352ebcaf81262629f14bc58b4978ed12330f9bbf5726f0ff9e3684b77"
   }
  }
 },
 "nbformat": 4,
 "nbformat_minor": 2
}
