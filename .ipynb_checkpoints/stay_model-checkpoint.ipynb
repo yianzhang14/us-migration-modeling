{
 "cells": [
  {
   "cell_type": "code",
   "execution_count": 1,
   "metadata": {},
   "outputs": [],
   "source": [
    "import pandas as pd\n",
    "import numpy as np\n",
    "import biogeme.database as db\n",
    "import biogeme.biogeme as bio\n",
    "from biogeme import models\n",
    "from biogeme.expressions import Beta\n",
    "from biogeme.expressions import log\n",
    "import math"
   ]
  },
  {
   "cell_type": "code",
   "execution_count": null,
   "metadata": {},
   "outputs": [],
   "source": [
    "df = pd.read_csv(\"data/us_estdata_expanded.csv\")\n",
    "df"
   ]
  },
  {
   "cell_type": "code",
   "execution_count": null,
   "metadata": {},
   "outputs": [],
   "source": [
    "df[\"ORIGIN\"].value_counts()"
   ]
  },
  {
   "cell_type": "code",
   "execution_count": null,
   "metadata": {},
   "outputs": [],
   "source": [
    "df[\"MED\"] = np.where(df[\"NAICS\"] == \"MED\", 1, 0)\n",
    "df[\"MFG\"] = np.where(df[\"NAICS\"] == \"MFG\", 1, 0)\n",
    "df[\"RET\"] = np.where(df[\"NAICS\"] == \"RET\", 1, 0)\n",
    "df[\"EDU\"] = np.where(df[\"NAICS\"] == \"EDU\", 1, 0)\n",
    "df[\"ADM\"] = np.where(df[\"NAICS\"] == \"ADM\", 1, 0)\n",
    "df[\"FOD\"] = np.where(df[\"NAICS\"] == \"FOD\", 1, 0)\n",
    "df[\"PRF\"] = np.where(df[\"NAICS\"] == \"PRF\", 1, 0)\n",
    "df[\"TRN\"] = np.where(df[\"NAICS\"] == \"TRN\", 1, 0)\n",
    "df[\"SRV\"] = np.where(df[\"NAICS\"] == \"SRV\", 1, 0)\n",
    "df[\"FIN\"] = np.where(df[\"NAICS\"] == \"FIN\", 1, 0)\n",
    "df[\"WHL\"] = np.where(df[\"NAICS\"] == \"WHL\", 1, 0)\n",
    "df[\"AGR\"] = np.where(df[\"NAICS\"] == \"AGR\", 1, 0)\n",
    "df[\"PUB\"] = np.where(df[\"NAICS\"] == \"PUB\", 1, 0)\n",
    "df[\"INF\"] = np.where(df[\"NAICS\"] == \"INF\", 1, 0)\n",
    "df[\"ENT\"] = np.where(df[\"NAICS\"] == \"ENT\", 1, 0)\n",
    "df[\"REL\"] = np.where(df[\"NAICS\"] == \"REL\", 1, 0)\n",
    "df[\"UTL\"] = np.where(df[\"NAICS\"] == \"UTL\", 1, 0)\n",
    "df[\"EXT\"] = np.where(df[\"NAICS\"] == \"EXT\", 1, 0)\n",
    "df[\"MNG\"] = np.where(df[\"NAICS\"] == \"MNG\", 1, 0)\n",
    "df[\"CON\"] = np.where(df[\"NAICS\"] == \"CON\", 1, 0)\n",
    "df[\"NO_IND\"] = np.where(df[\"NAICS\"].isna(), 1, 0)"
   ]
  },
  {
   "cell_type": "code",
   "execution_count": null,
   "metadata": {},
   "outputs": [],
   "source": [
    "df[\"NO_IND\"].sum()"
   ]
  },
  {
   "cell_type": "code",
   "execution_count": null,
   "metadata": {},
   "outputs": [],
   "source": [
    "# clean up the database (Biogeme Database can only have numerical values)\n",
    "df = df.select_dtypes(['number'])\n",
    "df = df.fillna(0)"
   ]
  },
  {
   "cell_type": "code",
   "execution_count": null,
   "metadata": {},
   "outputs": [],
   "source": [
    "df[\"CHOSEN\"].value_counts()"
   ]
  },
  {
   "cell_type": "code",
   "execution_count": null,
   "metadata": {},
   "outputs": [],
   "source": [
    "# defining the chosen alterantive for each person explicitly (0 to 35, corresponding to staying and moving to one of the many PUMAs)\n",
    "df['CHOSEN_PUMA'] = df['CHOSEN']\n",
    "df['CHOSEN'] = 0\n",
    "for i in range(1, 101): \n",
    "    var = 'ALT' + str(i) + '_PUMA'\n",
    "    df['CHOSEN'] = np.where(df[var]==df['CHOSEN_PUMA'], i, df['CHOSEN'])\n",
    "df[\"CHOSEN\"] = np.where(df[\"STAY\"] == 1, 0, df[\"CHOSEN\"])"
   ]
  },
  {
   "cell_type": "code",
   "execution_count": null,
   "metadata": {},
   "outputs": [],
   "source": [
    "df[\"CHOSEN\"].value_counts()"
   ]
  },
  {
   "cell_type": "code",
   "execution_count": null,
   "metadata": {},
   "outputs": [],
   "source": [
    "df[\"IN_COLLEGE\"] = np.where((df[\"SCHG\"] == 15) | (df[\"SCHG\"] == 16), 1, 0)\n",
    "df[\"IN_COLLEGE\"]"
   ]
  },
  {
   "cell_type": "code",
   "execution_count": null,
   "metadata": {},
   "outputs": [],
   "source": [
    "df[\"AGE_18_34\"] = np.where(df[\"AGEP\"] <= 34, 1, 0)\n",
    "df[\"AGE_35_64\"] = np.where((df[\"AGEP\"] >= 35) & (df[\"AGEP\"] <= 64), 1, 0)\n",
    "df[\"AGE_OVER_65\"] = np.where((df[\"AGEP\"] >= 65), 1, 0)\n",
    "df[\"FOREIGN\"] = np.where(df[\"NATIVITY\"] == 2, 1, 0)"
   ]
  },
  {
   "cell_type": "code",
   "execution_count": null,
   "metadata": {},
   "outputs": [],
   "source": [
    "df[\"AGE_18_22\"] = np.where(df[\"AGEP\"] <= 22, 1, 0)\n",
    "df[\"AGE_23_29\"] = np.where((df[\"AGEP\"] >= 23) & (df[\"AGEP\"] <= 29), 1, 0)\n",
    "df[\"AGE_30_39\"] = np.where((df[\"AGEP\"] >= 30) & (df[\"AGEP\"] <= 39), 1, 0)\n",
    "df[\"AGE_40_49\"] = np.where((df[\"AGEP\"] >= 40) & (df[\"AGEP\"] <= 49), 1, 0)\n",
    "df[\"AGE_50_64\"] = np.where((df[\"AGEP\"] >= 50) & (df[\"AGEP\"] <= 64), 1, 0)"
   ]
  },
  {
   "cell_type": "code",
   "execution_count": null,
   "metadata": {},
   "outputs": [],
   "source": [
    "df[\"EDU_LESS_HIGH\"] = np.where(df[\"SCHL\"] <= 15, 1, 0)\n",
    "df[\"EDU_HIGHONLY\"] = np.where((df[\"SCHL\"] >= 16) & (df[\"SCHL\"] <= 17), 1, 0)\n",
    "df[\"EDU_SOMECOLLEGE\"] = np.where((df[\"SCHL\"] >= 18) & (df[\"SCHL\"] <= 20), 1, 0)\n",
    "df[\"EDU_COLLEGE\"] = np.where(df[\"SCHL\"] >= 21, 1, 0)\n",
    "df[\"EDU_NOCOLLEGE\"] = np.where(df[\"EDU_COLLEGE\"] == 0, 1, 0)"
   ]
  },
  {
   "cell_type": "code",
   "execution_count": null,
   "metadata": {},
   "outputs": [],
   "source": [
    "df[\"BEYOND_HS\"] = np.where(df[\"SCHL\"] > 17, 1, 0)"
   ]
  },
  {
   "cell_type": "code",
   "execution_count": null,
   "metadata": {},
   "outputs": [],
   "source": [
    "df[\"WOMAN_CHILD\"] = np.where((df[\"PAOC\"] >= 1) & (df[\"PAOC\"] <= 3), 1, 0)\n",
    "df[\"UNEMPLOYED\"] = np.where(df[\"ESR\"] == 3, 1, 0)"
   ]
  },
  {
   "cell_type": "code",
   "execution_count": null,
   "metadata": {},
   "outputs": [],
   "source": [
    "df[\"MALE\"] = np.where(df[\"SEX\"] == 1, 1, 0)\n",
    "df[\"FEMALE\"] = np.where(df[\"SEX\"] == 0, 1, 0)"
   ]
  },
  {
   "cell_type": "code",
   "execution_count": null,
   "metadata": {},
   "outputs": [],
   "source": [
    "df[\"MARRIED\"] = np.where(df[\"MAR\"] == 1, 1, 0)"
   ]
  },
  {
   "cell_type": "code",
   "execution_count": null,
   "metadata": {},
   "outputs": [],
   "source": [
    "# df[\"child_old\"] = np.where(df[\"child\"] == df[\"REC_CHILD\"], 0, df[\"child\"])\n",
    "# df[\"child_old\"].value_counts()\n",
    "df[\"child\"].value_counts()"
   ]
  },
  {
   "cell_type": "code",
   "execution_count": null,
   "metadata": {},
   "outputs": [],
   "source": [
    "df[\"REC_NO_MAR\"] = np.where((df[\"MARHD\"] == 1) | (df[\"MARHW\"] == 1), 1, 0)\n",
    "df[\"REC_NO_MAR\"].value_counts()"
   ]
  },
  {
   "cell_type": "code",
   "execution_count": null,
   "metadata": {},
   "outputs": [],
   "source": [
    "df[\"MARHM_new\"] = np.where(df[\"MARHM\"] == 2, 0, df[\"MARHM\"])\n",
    "df[\"MARHM_new\"].value_counts()"
   ]
  },
  {
   "cell_type": "code",
   "execution_count": null,
   "metadata": {},
   "outputs": [],
   "source": [
    "df[\"married_old\"] = np.where((df[\"MARHM\"] == df[\"MARRIED\"]), 0, df[\"MARRIED\"])\n",
    "df[\"married_old\"].value_counts()"
   ]
  },
  {
   "cell_type": "code",
   "execution_count": null,
   "metadata": {},
   "outputs": [],
   "source": [
    "df[\"MILITARY\"] = np.where(df[\"MIL\"] == 1, 1, 0)"
   ]
  },
  {
   "cell_type": "code",
   "execution_count": null,
   "metadata": {},
   "outputs": [],
   "source": [
    "# df[\"HH_COST\"] = np.where(df[\"TEN\"] == 3, df[\"GRNTP\"], df[\"SMOCP\"])"
   ]
  },
  {
   "cell_type": "code",
   "execution_count": null,
   "metadata": {},
   "outputs": [],
   "source": [
    "# up to debate still\n",
    "df[\"AGR_EXT\"] = np.where((df[\"AGR\"] == 1) | (df[\"EXT\"] == 1), 1, 0)\n",
    "df[\"HIGH_ED\"] = np.where((df[\"MED\"] == 1) | (df[\"EDU\"] == 1) | (df[\"PRF\"] == 1) | (df[\"MED\"] == 1) | (df[\"FIN\"] == 1) | (df[\"INF\"] == 1) | (df[\"MED\"] == 1), 1, 0)\n",
    "df[\"LICENSE\"] = np.where((df[\"SRV\"] == 1) | (df[\"REL\"] == 1), 1, 0)\n",
    "df[\"OTHER_JOB\"] = np.where((df[\"AGR_EXT\"] == 0) & (df[\"HIGH_ED\"] == 0) & (df[\"LICENSE\"] == 0) & (df[\"NO_IND\"] == 0), 1, 0)"
   ]
  },
  {
   "cell_type": "code",
   "execution_count": null,
   "metadata": {},
   "outputs": [],
   "source": [
    "df[\"MICRO_adj_ORIG\"] = np.where((df[\"TYPE_ORIG\"] == 3) | (df[\"TYPE_ORIG\"] == 2), 1, 0)\n",
    "df[\"METRO\"] = np.where(df[\"TYPE_ORIG\"] == 1, 1, 0)\n",
    "df[\"T34\"] = np.where(df[\"TYPE_ORIG\"] == 0, 1, 0)"
   ]
  },
  {
   "cell_type": "code",
   "execution_count": null,
   "metadata": {},
   "outputs": [],
   "source": [
    "for i in range(1, 101):\n",
    "    key = \"ALT{0}_\".format(i)\n",
    "    df[key + \"MICRO\"] = np.where((df[key + \"TYPE\"] == 2) | (df[key + \"TYPE\"] == 3), 1, 0)\n",
    "    df[key + \"METRO\"] = np.where(df[key + \"TYPE\"] == 1, 1, 0)\n",
    "    df[key + \"T34\"] = np.where(df[key + \"TYPE\"] == 0, 1, 0)"
   ]
  },
  {
   "cell_type": "code",
   "execution_count": null,
   "metadata": {},
   "outputs": [],
   "source": [
    "df[\"UNEMPLOYED\"] = np.where((df[\"ESR\"] == 3) | (df[\"ESR\"] == 6), 1, 0)\n",
    "df[\"IN_LF\"] = np.where(df[\"ESR\"] == 6, 0, 1)"
   ]
  },
  {
   "cell_type": "code",
   "execution_count": null,
   "metadata": {},
   "outputs": [],
   "source": [
    "df[\"ESR\"].value_counts()"
   ]
  },
  {
   "cell_type": "code",
   "execution_count": null,
   "metadata": {},
   "outputs": [],
   "source": [
    "df[\"WORK2_MAR\"] = np.where(df[\"FES\"] == 1, 1, 0)\n",
    "df[\"WORK1_MAR\"] = np.where((df[\"FES\"] <= 4) & (df[\"FES\"] >= 2), 1, 0)\n",
    "df[\"OTHER_FAMILY\"] = np.where((df[\"HHT\"] == 2) | (df[\"HHT\"] == 3), 1, 0)"
   ]
  },
  {
   "cell_type": "code",
   "execution_count": null,
   "metadata": {},
   "outputs": [],
   "source": [
    "df.loc[df[\"CBSA_NAME_ORIG\"] == -1, \"CBSA_NAME_ORIG\"] = -2"
   ]
  },
  {
   "cell_type": "code",
   "execution_count": null,
   "metadata": {},
   "outputs": [],
   "source": [
    "# df[\"INTERNAL\"] = df[\"ORIGIN\"] == df[\"CHOSEN\"]"
   ]
  },
  {
   "cell_type": "code",
   "execution_count": null,
   "metadata": {},
   "outputs": [],
   "source": [
    "# making the Biogeme Database that is used for the model estimation\n",
    "database = db.Database('us_data', df)"
   ]
  },
  {
   "cell_type": "code",
   "execution_count": null,
   "metadata": {},
   "outputs": [],
   "source": [
    "# The following statement allows you to use the names of the\n",
    "# variable as Python variable. (in the utility functions)\n",
    "globals().update(database.variables)"
   ]
  },
  {
   "cell_type": "code",
   "execution_count": null,
   "metadata": {},
   "outputs": [],
   "source": [
    "import biogeme.messaging as msg\n",
    "logger = msg.bioMessage()\n",
    "logger.setDetailed()\n",
    "logger.allMessages()"
   ]
  },
  {
   "cell_type": "code",
   "execution_count": null,
   "metadata": {},
   "outputs": [],
   "source": [
    "c_move = Beta(\"c_move\", 0, None, None, 0)"
   ]
  },
  {
   "cell_type": "code",
   "execution_count": null,
   "metadata": {},
   "outputs": [],
   "source": [
    "# Staying Choice Parameters with starting values of 0\n",
    "c_stay_married = Beta(\"c_stay_married\", 0, None, None, 0)\n",
    "c_stay_age_18_22 = Beta(\"c_stay_age_18_22\", 0, None, None, 0)\n",
    "c_stay_age_23_29 = Beta(\"c_stay_age_23_29\", 0, None, None, 0)\n",
    "c_stay_age_30_39 = Beta(\"c_stay_age_30_39\", 0, None, None, 0)\n",
    "c_stay_age_40_49 = Beta(\"c_stay_age_40_49\", 0, None, None, 1)\n",
    "c_stay_age_50_64 = Beta(\"c_stay_age_50_64\", 0, None, None, 0)\n",
    "c_stay_age_65 = Beta(\"c_stay_age_65\", 0, None, None, 0)\n",
    "c_stay_edu_nohigh = Beta(\"c_stay_edu_nohigh\", 0, None, None, 0)\n",
    "c_stay_edu_somecollege = Beta(\"c_stay_edu_somecollege\", 0, None, None, 0)\n",
    "c_stay_edu_college = Beta(\"c_stay_edu_college\", 0, None, None, 0)\n",
    "c_stay_edu_beyondhs = Beta('c_stay_edu_beyondhs', 0, None, None, 0)\n",
    "c_stay_child = Beta(\"c_stay_child\", 0, None, None, 0)\n",
    "c_stay_unemployed = Beta(\"c_stay_unemployed\", 0, None, None, 0)\n",
    "c_stay = Beta(\"c_stay\", 0, None, None, 0)\n",
    "c_stay_foreign = Beta(\"c_stay_foreign\", 0, None, None, 0)\n",
    "c_stay_dens = Beta(\"c_stay_dens\", 0, None, None, 0)\n",
    "c_stay_college = Beta(\"c_stay_college\", 0, None, None, 0)\n",
    "c_stay_rec_child = Beta(\"c_stay_rec_child\", 0, None, None, 0)\n",
    "c_stay_rec_mar = Beta(\"c_stay_rec_mar\", 0, None, None, 0)\n",
    "c_stay_rec_nomar = Beta(\"c_stay_rec_nomar\", 0, None, None, 0)\n",
    "c_stay_mil = Beta(\"c_stay_mil\", 0, None, None, 0)\n",
    "c_stay_2work_mar = Beta(\"c_stay_2work_mar\", 0, None, None, 0)\n",
    "c_stay_1work_mar = Beta(\"c_stay_1work_mar\", 0, None, None, 0)\n",
    "c_stay_otherfamily = Beta(\"c_stay_otherfamily\", 0, None, None, 0)\n",
    "c_stay_income = Beta(\"c_stay_income\", 0, None, None, 0)\n",
    "c_stay_hhinc = Beta(\"c_stay_hhinc\", 0, None, None, 0)\n",
    "c_stay_hurent = Beta('c_stay_hurent', 0, None, None, 0)\n",
    "c_stay_vac = Beta('c_stay_vac', 0, None, None, 0)\n",
    "c_stay_hhcost = Beta(\"c_stay_hhcost\", 0, None, None, 0)\n",
    "c_stay_unemp_rate = Beta(\"c_stay_unemp_rate\", 0, None, None, 0)\n",
    "c_stay_hh_val = Beta(\"c_stay_hh_val\", 0, None, None, 0)\n",
    "c_stay_partcp = Beta(\"c_stay_partcp\", 0, None, None, 0)\n",
    "c_stay_rentcost = Beta(\"c_stay_rentcost\", 0, None, None, 0)\n",
    "c_stay_owncost = Beta(\"c_stay_owncost\", 0, None, None, 0)\n",
    "c_stay_ownjob = Beta(\"c_stay_ownjob\", 0, None, None, 0)\n",
    "c_stay_married = Beta(\"c_stay_married\", 0, None, None, 0)"
   ]
  },
  {
   "cell_type": "code",
   "execution_count": null,
   "metadata": {},
   "outputs": [],
   "source": [
    "# defining the staying utility function\n",
    "V0 = c_stay_age_18_22 * AGE_18_22 + c_stay_age_23_29 * AGE_23_29 + c_stay_age_30_39 * AGE_30_39 + c_stay_age_40_49 * AGE_40_49 + c_stay_age_50_64 * AGE_50_64 + c_stay_age_65 * AGE_OVER_65 + c_stay_edu_beyondhs * BEYOND_HS + c_stay_child * child + c_stay + c_stay_dens * DENS_ORIG + c_stay_college * IN_COLLEGE + c_stay_rec_mar * MARHM_new + c_stay_rec_nomar * REC_NO_MAR + c_stay_rec_child * REC_CHILD + c_stay_mil * MILITARY + c_stay_hh_val * HH_MED_VAL_ORIG + MARRIED * (c_stay_2work_mar * WORK2_MAR + c_stay_1work_mar * WORK1_MAR) + c_stay_otherfamily * OTHER_FAMILY + c_stay_ownjob * OWN_JOB_ORIG / TOT_JOBS_ORIG + (c_stay_rentcost * GRNTP_ORIG_ADJ + c_stay_owncost * SMOCP_ORIG_ADJ) / HINCP_ORIG_ADJ * 12 + c_stay_foreign * FOREIGN + IN_LF * (c_stay_unemp_rate * UNEMP_PCT_ORIG_ADJ + c_stay_income * PINCP_ORIG_ADJ)"
   ]
  },
  {
   "cell_type": "code",
   "execution_count": null,
   "metadata": {},
   "outputs": [],
   "source": [
    "# defining the staying utility function\n",
    "V0 = c_stay_age_18_22 * AGE_18_22 + c_stay_age_23_29 * AGE_23_29 + c_stay_age_30_39 * AGE_30_39 + c_stay_age_40_49 * AGE_40_49 + c_stay_age_50_64 * AGE_50_64 + c_stay_age_65 * AGE_OVER_65 + c_stay_edu_beyondhs * BEYOND_HS + c_stay_child * child + c_stay + c_stay_dens * DENS_ORIG + c_stay_college * IN_COLLEGE + c_stay_rec_mar * MARHM_new + c_stay_rec_nomar * REC_NO_MAR + c_stay_rec_child * REC_CHILD + c_stay_mil * MILITARY + c_stay_hh_val * HH_MED_VAL_ORIG + MARRIED * (c_stay_2work_mar * WORK2_MAR + c_stay_1work_mar * WORK1_MAR) + c_stay_otherfamily * OTHER_FAMILY + c_stay_ownjob * OWN_JOB_ORIG / TOT_JOBS_ORIG + (c_stay_rentcost * GRNTP_ORIG_ADJ + c_stay_owncost * SMOCP_ORIG_ADJ) / HINCP_ORIG_ADJ * 12 + c_stay_foreign * FOREIGN"
   ]
  },
  {
   "cell_type": "code",
   "execution_count": null,
   "metadata": {},
   "outputs": [],
   "source": [
    "V1 = 0"
   ]
  },
  {
   "cell_type": "code",
   "execution_count": null,
   "metadata": {},
   "outputs": [],
   "source": [
    "# Associate utility functions with the numbering of alternatives (corresponds to the CHOSEN field created earlier)\n",
    "V = {0: V0, 1: V1}\n",
    "\n",
    "# Associate the availability conditions with the alternatives\n",
    "# for this model, all migrants had all alternatives theoretically available so all are equal to 1 (available)\n",
    "# if individual people had different availability for alterantives, could pass in a column of the dataframe to account for that availability\n",
    "av = {0: 1, 1: 1}\n",
    "\n",
    "# Definition of the model. This is the contribution of each\n",
    "# observation to the log likelihood function.\n",
    "# estimating the CHOSEN field\n",
    "logprob = models.loglogit(V, av, CHOSEN)\n",
    "\n",
    "# formulas = {\"loglike\": logprob, \"weight\": W0}\n",
    "\n",
    "# Create the Biogeme object\n",
    "biogeme = bio.BIOGEME(database, logprob, suggestScales=False)\n",
    "biogeme.modelName = 'stay_model'\n",
    "\n",
    "biogeme.saveIterations = False\n",
    "\n",
    "# Calculate the null log likelihood for reporting. (likelihood of predicting every entry's alterantive correctly if alternatives are randomly chosen)\n",
    "\n",
    "# Estimate the parameters\n",
    "results = biogeme.estimate()\n",
    "\n",
    "# Get the results in a pandas table\n",
    "pandasResults = results.getEstimatedParameters()\n",
    "print(pandasResults)"
   ]
  },
  {
   "cell_type": "code",
   "execution_count": null,
   "metadata": {},
   "outputs": [],
   "source": []
  }
 ],
 "metadata": {
  "interpreter": {
   "hash": "e152438521f1d49a73207c4e39d9e6ed51b9dde58809b9dbc3ef11997122da89"
  },
  "kernelspec": {
   "display_name": "Python 3 (ipykernel)",
   "language": "python",
   "name": "python3"
  },
  "language_info": {
   "codemirror_mode": {
    "name": "ipython",
    "version": 3
   },
   "file_extension": ".py",
   "mimetype": "text/x-python",
   "name": "python",
   "nbconvert_exporter": "python",
   "pygments_lexer": "ipython3",
   "version": "3.8.13"
  }
 },
 "nbformat": 4,
 "nbformat_minor": 2
}
