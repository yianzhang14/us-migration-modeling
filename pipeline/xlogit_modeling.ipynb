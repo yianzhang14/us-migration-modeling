{
 "cells": [
  {
   "cell_type": "code",
   "execution_count": null,
   "metadata": {},
   "outputs": [],
   "source": [
    "import numpy as np\n",
    "import pandas as pd\n",
    "from tqdm import tqdm\n",
    "from pandas.api.types import is_numeric_dtype"
   ]
  },
  {
   "cell_type": "code",
   "execution_count": null,
   "metadata": {},
   "outputs": [],
   "source": [
    "raw = pd.read_parquet(\"data/us_estdata_expanded.parquet\")"
   ]
  },
  {
   "cell_type": "code",
   "execution_count": null,
   "metadata": {},
   "outputs": [],
   "source": [
    "NUM_SAMPLE = 10000\n",
    "ALTERNATIVE_SAMPLE = 200"
   ]
  },
  {
   "cell_type": "code",
   "execution_count": null,
   "metadata": {},
   "outputs": [],
   "source": [
    "df = raw.iloc[:NUM_SAMPLE].copy()\n",
    "del raw\n"
   ]
  },
  {
   "cell_type": "code",
   "execution_count": null,
   "metadata": {},
   "outputs": [],
   "source": [
    "def condense(df):\n",
    "    for col in df.columns:\n",
    "        if not is_numeric_dtype(df[col]):\n",
    "            continue\n",
    "        max_val = df[col].max()\n",
    "        min_val = df[col].min()\n",
    "        if max_val < 1 and min_val > -1:\n",
    "            df[col] = df[col].astype(np.float32)\n",
    "        elif max_val < 127 and min_val > -128:\n",
    "            df[col] = df[col].astype(np.int8)\n",
    "        elif max_val < 32767 and min_val > -32768:\n",
    "            df[col] = df[col].astype(np.int16)\n",
    "        else:\n",
    "            df[col] = df[col].astype(np.int32)\n"
   ]
  },
  {
   "cell_type": "code",
   "execution_count": null,
   "metadata": {},
   "outputs": [],
   "source": [
    "df[\"MED\"] = np.where(df[\"NAICS\"] == \"MED\", 1, 0)\n",
    "df[\"MFG\"] = np.where(df[\"NAICS\"] == \"MFG\", 1, 0)\n",
    "df[\"RET\"] = np.where(df[\"NAICS\"] == \"RET\", 1, 0)\n",
    "df[\"EDU\"] = np.where(df[\"NAICS\"] == \"EDU\", 1, 0)\n",
    "df[\"ADM\"] = np.where(df[\"NAICS\"] == \"ADM\", 1, 0)\n",
    "df[\"FOD\"] = np.where(df[\"NAICS\"] == \"FOD\", 1, 0)\n",
    "df[\"PRF\"] = np.where(df[\"NAICS\"] == \"PRF\", 1, 0)\n",
    "df[\"TRN\"] = np.where(df[\"NAICS\"] == \"TRN\", 1, 0)\n",
    "df[\"SRV\"] = np.where(df[\"NAICS\"] == \"SRV\", 1, 0)\n",
    "df[\"FIN\"] = np.where(df[\"NAICS\"] == \"FIN\", 1, 0)\n",
    "df[\"WHL\"] = np.where(df[\"NAICS\"] == \"WHL\", 1, 0)\n",
    "df[\"AGR\"] = np.where(df[\"NAICS\"] == \"AGR\", 1, 0)\n",
    "df[\"PUB\"] = np.where(df[\"NAICS\"] == \"PUB\", 1, 0)\n",
    "df[\"INF\"] = np.where(df[\"NAICS\"] == \"INF\", 1, 0)\n",
    "df[\"ENT\"] = np.where(df[\"NAICS\"] == \"ENT\", 1, 0)\n",
    "df[\"REL\"] = np.where(df[\"NAICS\"] == \"REL\", 1, 0)\n",
    "df[\"UTL\"] = np.where(df[\"NAICS\"] == \"UTL\", 1, 0)\n",
    "df[\"EXT\"] = np.where(df[\"NAICS\"] == \"EXT\", 1, 0)\n",
    "df[\"MNG\"] = np.where(df[\"NAICS\"] == \"MNG\", 1, 0)\n",
    "df[\"CON\"] = np.where(df[\"NAICS\"] == \"CON\", 1, 0)\n",
    "df[\"NO_IND\"] = np.where(df[\"NAICS\"].isna(), 1, 0)"
   ]
  },
  {
   "cell_type": "code",
   "execution_count": null,
   "metadata": {},
   "outputs": [],
   "source": [
    "# clean up the database (Biogeme Database can only have numerical values)\n",
    "df = df.select_dtypes([\"number\"])\n",
    "df = df.fillna(0)\n"
   ]
  },
  {
   "cell_type": "code",
   "execution_count": null,
   "metadata": {},
   "outputs": [],
   "source": [
    "condense(df)"
   ]
  },
  {
   "cell_type": "code",
   "execution_count": null,
   "metadata": {},
   "outputs": [],
   "source": [
    "# defining the chosen alterantive for each person explicitly (0 to 35, corresponding to staying and moving to one of the many PUMAs)\n",
    "df[\"CHOSEN_PUMA\"] = df[\"CHOSEN\"]\n",
    "df[\"CHOSEN\"] = 0\n",
    "for i in range(1, 201):\n",
    "    var = \"ALT\" + str(i) + \"_PUMA\"\n",
    "    df[\"CHOSEN\"] = np.where(df[var] == df[\"CHOSEN_PUMA\"], i, df[\"CHOSEN\"])\n",
    "df[\"CHOSEN\"] = np.where(df[\"STAY\"] == 1, 0, df[\"CHOSEN\"])\n"
   ]
  },
  {
   "cell_type": "code",
   "execution_count": null,
   "metadata": {},
   "outputs": [],
   "source": [
    "df[\"AGE_18_34\"] = np.where(df[\"AGEP\"] <= 34, 1, 0)\n",
    "df[\"AGE_35_64\"] = np.where((df[\"AGEP\"] >= 35) & (df[\"AGEP\"] <= 64), 1, 0)\n",
    "df[\"AGE_OVER_65\"] = np.where((df[\"AGEP\"] >= 65), 1, 0)\n",
    "df[\"FOREIGN\"] = np.where(df[\"NATIVITY\"] == 2, 1, 0)"
   ]
  },
  {
   "cell_type": "code",
   "execution_count": null,
   "metadata": {},
   "outputs": [],
   "source": [
    "df[\"AGE_18_22\"] = np.where(df[\"AGEP\"] <= 22, 1, 0)\n",
    "df[\"AGE_23_29\"] = np.where((df[\"AGEP\"] >= 23) & (df[\"AGEP\"] <= 29), 1, 0)\n",
    "df[\"AGE_30_39\"] = np.where((df[\"AGEP\"] >= 30) & (df[\"AGEP\"] <= 39), 1, 0)\n",
    "df[\"AGE_40_49\"] = np.where((df[\"AGEP\"] >= 40) & (df[\"AGEP\"] <= 49), 1, 0)\n",
    "df[\"AGE_50_64\"] = np.where((df[\"AGEP\"] >= 50) & (df[\"AGEP\"] <= 64), 1, 0)"
   ]
  },
  {
   "cell_type": "code",
   "execution_count": null,
   "metadata": {},
   "outputs": [],
   "source": [
    "df[\"IN_COLLEGE\"] = np.where((df[\"SCHG\"] == 15) | (df[\"SCHG\"] == 16), 1, 0)\n",
    "df[\"IN_COLLEGE\"]"
   ]
  },
  {
   "cell_type": "code",
   "execution_count": null,
   "metadata": {},
   "outputs": [],
   "source": [
    "df[\"EDU_LESS_HIGH\"] = np.where(df[\"SCHL\"] <= 15, 1, 0)\n",
    "df[\"EDU_HIGH\"] = np.where((df[\"SCHL\"] <= 20) & (df[\"SCHL\"] >= 16), 1, 0)\n",
    "df[\"EDU_COLLEGE\"] = np.where(df[\"SCHL\"] >= 21, 1, 0)\n",
    "df[\"EDU_NOCOLLEGE\"] = np.where(df[\"EDU_COLLEGE\"] == 0, 1, 0)"
   ]
  },
  {
   "cell_type": "code",
   "execution_count": null,
   "metadata": {},
   "outputs": [],
   "source": [
    "df[\"WOMAN_CHILD\"] = np.where((df[\"PAOC\"] >= 1) & (df[\"PAOC\"] <= 3), 1, 0)\n",
    "df[\"UNEMPLOYED\"] = np.where(df[\"ESR\"] == 3, 1, 0)"
   ]
  },
  {
   "cell_type": "code",
   "execution_count": null,
   "metadata": {},
   "outputs": [],
   "source": [
    "df[\"MALE\"] = np.where(df[\"SEX\"] == 1, 1, 0)\n",
    "df[\"FEMALE\"] = np.where(df[\"SEX\"] == 0, 1, 0)"
   ]
  },
  {
   "cell_type": "code",
   "execution_count": null,
   "metadata": {},
   "outputs": [],
   "source": [
    "df[\"MARRIED\"] = np.where(df[\"MAR\"] == 1, 1, 0)"
   ]
  },
  {
   "cell_type": "code",
   "execution_count": null,
   "metadata": {},
   "outputs": [],
   "source": [
    "df[\"REC_NO_MAR\"] = np.where((df[\"MARHD\"] == 1) | (df[\"MARHW\"] == 1), 1, 0)\n",
    "df[\"REC_NO_MAR\"].value_counts()"
   ]
  },
  {
   "cell_type": "code",
   "execution_count": null,
   "metadata": {},
   "outputs": [],
   "source": [
    "df[\"MARHM_new\"] = np.where(df[\"MARHM\"] == 2, 0, df[\"MARHM\"])\n",
    "df[\"MARHM_new\"].value_counts()"
   ]
  },
  {
   "cell_type": "code",
   "execution_count": null,
   "metadata": {},
   "outputs": [],
   "source": [
    "df[\"married_old\"] = np.where((df[\"MARHM\"] == df[\"MARRIED\"]), 0, df[\"MARRIED\"])\n",
    "df[\"married_old\"].value_counts()"
   ]
  },
  {
   "cell_type": "code",
   "execution_count": null,
   "metadata": {},
   "outputs": [],
   "source": [
    "df[\"MILITARY\"] = np.where(df[\"MIL\"] == 1, 1, 0)"
   ]
  },
  {
   "cell_type": "code",
   "execution_count": null,
   "metadata": {},
   "outputs": [],
   "source": [
    "# up to debate still\n",
    "df[\"AGR_EXT\"] = np.where((df[\"AGR\"] == 1) | (df[\"EXT\"] == 1), 1, 0)\n",
    "df[\"HIGH_ED\"] = np.where(\n",
    "    (df[\"MED\"] == 1)\n",
    "    | (df[\"EDU\"] == 1)\n",
    "    | (df[\"PRF\"] == 1)\n",
    "    | (df[\"MED\"] == 1)\n",
    "    | (df[\"FIN\"] == 1)\n",
    "    | (df[\"INF\"] == 1)\n",
    "    | (df[\"MED\"] == 1),\n",
    "    1,\n",
    "    0,\n",
    ")\n",
    "df[\"LICENSE\"] = np.where((df[\"SRV\"] == 1) | (df[\"REL\"] == 1), 1, 0)\n",
    "df[\"OTHER_JOB\"] = np.where(\n",
    "    (df[\"AGR_EXT\"] == 0)\n",
    "    & (df[\"HIGH_ED\"] == 0)\n",
    "    & (df[\"LICENSE\"] == 0)\n",
    "    & (df[\"NO_IND\"] == 0),\n",
    "    1,\n",
    "    0,\n",
    ")"
   ]
  },
  {
   "cell_type": "code",
   "execution_count": null,
   "metadata": {},
   "outputs": [],
   "source": [
    "df[\"MICRO_adj_ORIG\"] = np.where((df[\"TYPE_ORIG\"] == 3) | (df[\"TYPE_ORIG\"] == 2), 1, 0)\n",
    "df[\"METRO\"] = np.where(df[\"TYPE_ORIG\"] == 1, 1, 0)\n",
    "df[\"T34\"] = np.where(df[\"TYPE_ORIG\"] == 0, 1, 0)"
   ]
  },
  {
   "cell_type": "code",
   "execution_count": null,
   "metadata": {},
   "outputs": [],
   "source": [
    "df[\"UNEMPLOYED\"] = np.where((df[\"ESR\"] == 3) | (df[\"ESR\"] == 6), 1, 0)\n",
    "df[\"IN_LF\"] = np.where(df[\"ESR\"] == 6, 0, 1)"
   ]
  },
  {
   "cell_type": "code",
   "execution_count": null,
   "metadata": {},
   "outputs": [],
   "source": [
    "df[\"WORK2_MAR\"] = np.where(df[\"FES\"] == 1, 1, 0)\n",
    "df[\"WORK1_MAR\"] = np.where((df[\"FES\"] <= 4) & (df[\"FES\"] >= 2), 1, 0)\n",
    "df[\"OTHER_FAMILY\"] = np.where((df[\"HHT\"] == 2) | (df[\"HHT\"] == 3), 1, 0)"
   ]
  },
  {
   "cell_type": "code",
   "execution_count": null,
   "metadata": {},
   "outputs": [],
   "source": [
    "for i in range(1, 201):\n",
    "    key = \"ALT{0}_\".format(i)\n",
    "    df[key + \"MICRO\"] = np.where(\n",
    "        (df[key + \"TYPE\"] == 2) | (df[key + \"TYPE\"] == 3), 1, 0\n",
    "    )\n",
    "    df[key + \"METRO\"] = np.where(df[key + \"TYPE\"] == 1, 1, 0)\n",
    "    df[key + \"T34\"] = np.where(df[key + \"TYPE\"] == 0, 1, 0)\n"
   ]
  },
  {
   "cell_type": "code",
   "execution_count": null,
   "metadata": {},
   "outputs": [],
   "source": [
    "df.loc[df[\"CBSA_NAME_ORIG\"] == -1, \"CBSA_NAME_ORIG\"] = -2"
   ]
  },
  {
   "cell_type": "code",
   "execution_count": null,
   "metadata": {},
   "outputs": [],
   "source": [
    "df[\"MIGSP_ORIG\"] = df[\"ORIGIN\"].astype(str).str.zfill(7).str[0:2].astype(int)"
   ]
  },
  {
   "cell_type": "code",
   "execution_count": null,
   "metadata": {},
   "outputs": [],
   "source": [
    "for col in df.columns:\n",
    "    print(col)\n"
   ]
  },
  {
   "cell_type": "code",
   "execution_count": null,
   "metadata": {},
   "outputs": [],
   "source": [
    "base_df = df.iloc[:, :152]\n",
    "\n",
    "# Step 2: Generate the ALT column combinations for i in range(1, 201)\n",
    "alt_columns_list = []\n",
    "for i in range(1, 201):\n",
    "    alt_columns = [\n",
    "        f\"ALT{i}_{y}\"\n",
    "        for y in [\n",
    "            \"POP\",\n",
    "            \"DENS\",\n",
    "            \"COLLEGE\",\n",
    "            \"FOREIGN\",\n",
    "            \"18_34\",\n",
    "            \"35_64\",\n",
    "            \"65\",\n",
    "            \"MIL_NUM\",\n",
    "            \"EMP\",\n",
    "            \"ENT\",\n",
    "            \"DIST\",\n",
    "            \"OWN_JOB\",\n",
    "            \"TYPE\",\n",
    "            \"CBSA\",\n",
    "            \"HH_COST\",\n",
    "            \"PINCP\",\n",
    "            \"UNEMP_PCT\",\n",
    "            \"PERNP\",\n",
    "            \"State\",\n",
    "            \"PUMA\",\n",
    "            \"MICRO\",\n",
    "            \"METRO\",\n",
    "            \"T34\",\n",
    "        ]\n",
    "    ]\n",
    "    alt_columns_list.append(alt_columns)\n",
    "\n",
    "# Step 3: Concatenate the base columns with each set of ALT columns for all rows\n",
    "# Concatenate all these combinations vertically\n",
    "long_df = pd.concat(\n",
    "    [\n",
    "        pd.concat([df.loc[:, alt_columns], base_df], axis=1)\n",
    "        for alt_columns in alt_columns_list\n",
    "    ],\n",
    "    axis=0,\n",
    "    ignore_index=True,\n",
    ")\n",
    "\n",
    "# Step 4: Add the original base_df rows to the beginning of the final DataFrame\n",
    "final_df = pd.concat([base_df, long_df], axis=0, ignore_index=True)\n"
   ]
  },
  {
   "cell_type": "code",
   "execution_count": null,
   "metadata": {},
   "outputs": [],
   "source": [
    "# TODO: create a dataframe with just the necessary columns and then evaluate the logit"
   ]
  },
  {
   "cell_type": "code",
   "execution_count": null,
   "metadata": {},
   "outputs": [],
   "source": [
    "stay_vars = [\n",
    "    \"ASC_STAY\",\n",
    "    \"AGE_18_22\",\n",
    "    \"AGE_23_29\",\n",
    "    \"AGE_30_39\",\n",
    "    \"AGE_50_64\",\n",
    "    \"AGE_OVER_65\",\n",
    "    \"child\",\n",
    "    \"REC_CHILD\",\n",
    "    \"MARHM_new\",\n",
    "    \"REC_NO_MAR\",\n",
    "    \"WORK2_MAR\",\n",
    "    \"WORK1_MAR\",\n",
    "    \"OTHER_FAMILY\",\n",
    "    \"IN_COLLEGE\",\n",
    "    \"MILITARY\",\n",
    "    \"OWN_JOB_ORIG\",\n",
    "    \"HH_MED_VAL_ORIG\",\n",
    "    \"GRNTP_ORIG_ADJ\",\n",
    "    \"SMOCP_ORIG_ADJ\",\n",
    "    \"FOREIGN\",\n",
    "    \"EDU_COLLEGE\",\n",
    "    \"EDU_LESS_HIGH\",\n",
    "    \"T34\",\n",
    "    \"MICRO_adj_ORIG\",\n",
    "]\n",
    "destchoice_vars = [\n",
    "    \"ASC_LEAVE\",\n",
    "    \"ALT_pop_log\",\n",
    "    \"ALT_DIST\",\n",
    "    \"ALT_logdist\",\n",
    "    \"ALT_cbsadist\",\n",
    "    \"ALT_hhcost\",\n",
    "    \"ALT_COLLEGE\",\n",
    "    \"ALT_FOREIGN\",\n",
    "    \"ALT_18_34\",\n",
    "    \"ALT_35_64\",\n",
    "    \"ALT_65\",\n",
    "    \"ALT_ENT_18_34\",\n",
    "    \"ALT_ENT_35_64\",\n",
    "    \"ALT_ENT_OVER_65\",\n",
    "    \"ALT_unemp\",\n",
    "    \"ALT_T34_Metro\",\n",
    "    \"ALT_T34_Micro\",\n",
    "    \"ALT_Metro_T34\",\n",
    "    \"ALT_Metro_Metro\",\n",
    "    \"ALT_Metro_Micro\",\n",
    "    \"ALT_Micro_T34\",\n",
    "    \"ALT_Micro_Metro\",\n",
    "    \"ALT_Micro_Micro\",\n",
    "    \"ALT_OWN_JOB_AGREXT\",\n",
    "    \"ALT_OWN_JOB_HIGHED\",\n",
    "    \"ALT_OWN_JOB_LICENSE\",\n",
    "    \"ALT_OWN_JOB_OTHER\",\n",
    "    \"ALT_MIL\",\n",
    "    \"ALT_birthstate\",\n",
    "    \"ALT_samestate\",\n",
    "]\n"
   ]
  },
  {
   "cell_type": "code",
   "execution_count": null,
   "metadata": {},
   "outputs": [],
   "source": [
    "for col in stay_vars:\n",
    "    long_data[col] = long_data[col] * (long_data[\"alt\"] == 0)\n",
    "    gc.collect()\n",
    "gc.collect()"
   ]
  },
  {
   "cell_type": "code",
   "execution_count": null,
   "metadata": {},
   "outputs": [],
   "source": [
    "for col in destchoice_vars:\n",
    "    long_data[col] = long_data[col] * (long_data[\"alt\"] != 0)\n",
    "    gc.collect()\n",
    "gc.collect()"
   ]
  },
  {
   "cell_type": "code",
   "execution_count": null,
   "metadata": {},
   "outputs": [],
   "source": [
    "for i in long_data.dtypes:\n",
    "    print(i)"
   ]
  },
  {
   "cell_type": "code",
   "execution_count": null,
   "metadata": {},
   "outputs": [],
   "source": [
    "import numpy as np\n",
    "import pandas as pd\n",
    "from xlogit import MultinomialLogit"
   ]
  },
  {
   "cell_type": "code",
   "execution_count": null,
   "metadata": {},
   "outputs": [],
   "source": [
    "estdata = pd.read_parquet(\"temp.parquet.gzip\")"
   ]
  },
  {
   "cell_type": "code",
   "execution_count": null,
   "metadata": {},
   "outputs": [],
   "source": [
    "stay_vars = [\n",
    "    \"ASC_STAY\",\n",
    "    \"AGE_18_22\",\n",
    "    \"AGE_23_29\",\n",
    "    \"AGE_30_39\",\n",
    "    \"AGE_50_64\",\n",
    "    \"AGE_OVER_65\",\n",
    "    \"child\",\n",
    "    \"REC_CHILD\",\n",
    "    \"MARHM_new\",\n",
    "    \"REC_NO_MAR\",\n",
    "    \"WORK2_MAR\",\n",
    "    \"WORK1_MAR\",\n",
    "    \"OTHER_FAMILY\",\n",
    "    \"IN_COLLEGE\",\n",
    "    \"MILITARY\",\n",
    "    \"OWN_JOB_ORIG\",\n",
    "    \"HH_MED_VAL_ORIG\",\n",
    "    \"GRNTP_ORIG_ADJ\",\n",
    "    \"SMOCP_ORIG_ADJ\",\n",
    "    \"FOREIGN\",\n",
    "    \"EDU_COLLEGE\",\n",
    "    \"EDU_LESS_HIGH\",\n",
    "    \"T34\",\n",
    "    \"MICRO_adj_ORIG\",\n",
    "]\n",
    "destchoice_vars = [\n",
    "    \"ASC_LEAVE\",\n",
    "    \"ALT_pop_log\",\n",
    "    \"ALT_DIST\",\n",
    "    \"ALT_logdist\",\n",
    "    \"ALT_cbsadist\",\n",
    "    \"ALT_hhcost\",\n",
    "    \"ALT_COLLEGE\",\n",
    "    \"ALT_FOREIGN\",\n",
    "    \"ALT_18_34\",\n",
    "    \"ALT_35_64\",\n",
    "    \"ALT_65\",\n",
    "    \"ALT_ENT_18_34\",\n",
    "    \"ALT_ENT_35_64\",\n",
    "    \"ALT_ENT_OVER_65\",\n",
    "    \"ALT_unemp\",\n",
    "    \"ALT_T34_Metro\",\n",
    "    \"ALT_T34_Micro\",\n",
    "    \"ALT_Metro_T34\",\n",
    "    \"ALT_Metro_Metro\",\n",
    "    \"ALT_Metro_Micro\",\n",
    "    \"ALT_Micro_T34\",\n",
    "    \"ALT_Micro_Metro\",\n",
    "    \"ALT_Micro_Micro\",\n",
    "    \"ALT_OWN_JOB_AGREXT\",\n",
    "    \"ALT_OWN_JOB_HIGHED\",\n",
    "    \"ALT_OWN_JOB_LICENSE\",\n",
    "    \"ALT_OWN_JOB_OTHER\",\n",
    "    \"ALT_MIL\",\n",
    "    \"ALT_birthstate\",\n",
    "    \"ALT_samestate\",\n",
    "]\n"
   ]
  },
  {
   "cell_type": "code",
   "execution_count": null,
   "metadata": {},
   "outputs": [],
   "source": [
    "init = [\n",
    "    15.8,\n",
    "    -0.426,\n",
    "    -0.571,\n",
    "    -0.317,\n",
    "    0.231,\n",
    "    0.795,\n",
    "    -0.471,\n",
    "    -0.0526,\n",
    "    -1.18,\n",
    "    -0.57,\n",
    "    1.02,\n",
    "    0.899,\n",
    "    0.632,\n",
    "    0.692,\n",
    "    -0.693,\n",
    "    0.97,\n",
    "    0.000000753,\n",
    "    -0.000915,\n",
    "    0.000689,\n",
    "    0.204,\n",
    "    -0.174,\n",
    "    0.0563,\n",
    "    0.579,\n",
    "    -0.208,\n",
    "    0,\n",
    "    1,\n",
    "    -0.000000302,\n",
    "    -0.35,\n",
    "    -0.0000278,\n",
    "    -2.06,\n",
    "    0.0000654,\n",
    "    0.684,\n",
    "    3.68,\n",
    "    1.39,\n",
    "    4.62,\n",
    "    1.24,\n",
    "    2.98,\n",
    "    2.58,\n",
    "    -2.1,\n",
    "    1.05,\n",
    "    1.17,\n",
    "    0.0409,\n",
    "    1.25,\n",
    "    0.808,\n",
    "    -0.0367,\n",
    "    0.572,\n",
    "    2.01,\n",
    "    6.35,\n",
    "    1.54,\n",
    "    5.23,\n",
    "    2.45,\n",
    "    0.00018,\n",
    "    0.285,\n",
    "    2.5,\n",
    "]\n"
   ]
  },
  {
   "cell_type": "code",
   "execution_count": null,
   "metadata": {},
   "outputs": [],
   "source": [
    "varnames = stay_vars + destchoice_vars"
   ]
  },
  {
   "cell_type": "code",
   "execution_count": null,
   "metadata": {},
   "outputs": [],
   "source": [
    "estdata[\"ALT_pop_log\"] = np.log(estdata[\"ALT_POP\"] + 1).astype(np.float32)"
   ]
  },
  {
   "cell_type": "code",
   "execution_count": null,
   "metadata": {},
   "outputs": [],
   "source": [
    "model = MultinomialLogit()"
   ]
  },
  {
   "cell_type": "code",
   "execution_count": null,
   "metadata": {},
   "outputs": [],
   "source": [
    "model.fit(\n",
    "    X=estdata[varnames],\n",
    "    y=estdata[\"CHOICE_CODE\"],\n",
    "    varnames=varnames,\n",
    "    alts=estdata[\"alt\"],\n",
    "    ids=estdata[\"custom_id\"],\n",
    "    avail=estdata[\"av\"],\n",
    "    init_coeff=init,\n",
    ")\n"
   ]
  },
  {
   "cell_type": "code",
   "execution_count": null,
   "metadata": {},
   "outputs": [],
   "source": []
  }
 ],
 "metadata": {
  "kernelspec": {
   "display_name": "Python 3.8.15 ('py38')",
   "language": "python",
   "name": "python3"
  },
  "language_info": {
   "codemirror_mode": {
    "name": "ipython",
    "version": 3
   },
   "file_extension": ".py",
   "mimetype": "text/x-python",
   "name": "python",
   "nbconvert_exporter": "python",
   "pygments_lexer": "ipython3",
   "version": "3.9.19"
  },
  "orig_nbformat": 4,
  "vscode": {
   "interpreter": {
    "hash": "b86e3eb352ebcaf81262629f14bc58b4978ed12330f9bbf5726f0ff9e3684b77"
   }
  }
 },
 "nbformat": 4,
 "nbformat_minor": 2
}
