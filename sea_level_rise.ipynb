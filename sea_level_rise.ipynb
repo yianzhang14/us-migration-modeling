{
 "cells": [
  {
   "cell_type": "code",
   "execution_count": 1,
   "metadata": {},
   "outputs": [],
   "source": [
    "import numpy as np\n",
    "import pandas as pd\n",
    "import requests, zipfile, io"
   ]
  },
  {
   "cell_type": "code",
   "execution_count": 2,
   "metadata": {},
   "outputs": [],
   "source": [
    "files = []\n",
    "with open(\"data/url_list.txt\", 'r') as f:\n",
    "    for line in f:\n",
    "        files.append(line.strip('\\n'))"
   ]
  },
  {
   "cell_type": "code",
   "execution_count": 3,
   "metadata": {},
   "outputs": [],
   "source": [
    "# for file in files:\n",
    "#     print(file)\n",
    "#     r = requests.get(file)\n",
    "#     z = zipfile.ZipFile(io.BytesIO(r.content))\n",
    "#     z.extractall(\"data/digital_ocean/\")"
   ]
  },
  {
   "cell_type": "code",
   "execution_count": 6,
   "metadata": {},
   "outputs": [],
   "source": [
    "import os\n",
    " \n",
    "def listdirs(rootdir):\n",
    "    temp = []\n",
    "    for file in os.listdir(rootdir):\n",
    "        d = os.path.join(rootdir, file)\n",
    "        if os.path.isdir(d):\n",
    "            temp.append(d)\n",
    "            listdirs(d)\n",
    "    return temp"
   ]
  },
  {
   "cell_type": "code",
   "execution_count": 7,
   "metadata": {},
   "outputs": [],
   "source": [
    "import geopandas as gpd"
   ]
  },
  {
   "cell_type": "code",
   "execution_count": 8,
   "metadata": {},
   "outputs": [],
   "source": [
    "dirs = listdirs(\"data/digital_ocean\")"
   ]
  },
  {
   "cell_type": "code",
   "execution_count": 9,
   "metadata": {},
   "outputs": [],
   "source": [
    "import fiona"
   ]
  },
  {
   "cell_type": "code",
   "execution_count": 10,
   "metadata": {},
   "outputs": [
    {
     "data": {
      "text/plain": [
       "['CA_EKA_low_0ft',\n",
       " 'CA_EKA_low_1ft',\n",
       " 'CA_EKA_low_2ft',\n",
       " 'CA_EKA_low_3ft',\n",
       " 'CA_EKA_low_4ft',\n",
       " 'CA_EKA_low_5ft',\n",
       " 'CA_EKA_low_6ft',\n",
       " 'CA_EKA_slr_0ft',\n",
       " 'CA_EKA_slr_1ft',\n",
       " 'CA_EKA_slr_2ft',\n",
       " 'CA_EKA_slr_3ft',\n",
       " 'CA_EKA_slr_4ft',\n",
       " 'CA_EKA_slr_5ft',\n",
       " 'CA_EKA_slr_6ft',\n",
       " 'CA_EKA_low_10ft',\n",
       " 'CA_EKA_low_7ft',\n",
       " 'CA_EKA_low_8ft',\n",
       " 'CA_EKA_low_9ft',\n",
       " 'CA_EKA_slr_10ft',\n",
       " 'CA_EKA_slr_7ft',\n",
       " 'CA_EKA_slr_8ft',\n",
       " 'CA_EKA_slr_9ft']"
      ]
     },
     "execution_count": 10,
     "metadata": {},
     "output_type": "execute_result"
    }
   ],
   "source": [
    "fiona.listlayers(dirs[2])"
   ]
  },
  {
   "cell_type": "code",
   "execution_count": 8,
   "metadata": {},
   "outputs": [
    {
     "data": {
      "text/plain": [
       "['AL_low_0ft',\n",
       " 'AL_low_10ft',\n",
       " 'AL_low_1ft',\n",
       " 'AL_low_2ft',\n",
       " 'AL_low_3ft',\n",
       " 'AL_low_4ft',\n",
       " 'AL_low_5ft',\n",
       " 'AL_low_6ft',\n",
       " 'AL_low_7ft',\n",
       " 'AL_low_8ft',\n",
       " 'AL_low_9ft',\n",
       " 'AL_slr_0ft',\n",
       " 'AL_slr_10ft',\n",
       " 'AL_slr_1ft',\n",
       " 'AL_slr_2ft',\n",
       " 'AL_slr_3ft',\n",
       " 'AL_slr_4ft',\n",
       " 'AL_slr_5ft',\n",
       " 'AL_slr_6ft',\n",
       " 'AL_slr_7ft',\n",
       " 'AL_slr_8ft',\n",
       " 'AL_slr_9ft']"
      ]
     },
     "execution_count": 8,
     "metadata": {},
     "output_type": "execute_result"
    }
   ],
   "source": [
    "fiona.listlayers(dirs[0])"
   ]
  },
  {
   "cell_type": "code",
   "execution_count": 11,
   "metadata": {},
   "outputs": [
    {
     "ename": "KeyboardInterrupt",
     "evalue": "",
     "output_type": "error",
     "traceback": [
      "\u001b[1;31m---------------------------------------------------------------------------\u001b[0m",
      "\u001b[1;31mKeyboardInterrupt\u001b[0m                         Traceback (most recent call last)",
      "\u001b[1;32md:\\migration\\migration\\us-migration-modeling\\sea_level_rise.ipynb Cell 10\u001b[0m in \u001b[0;36m<cell line: 1>\u001b[1;34m()\u001b[0m\n\u001b[1;32m----> <a href='vscode-notebook-cell:/d%3A/migration/migration/us-migration-modeling/sea_level_rise.ipynb#ch0000022?line=0'>1</a>\u001b[0m gdf \u001b[39m=\u001b[39m gpd\u001b[39m.\u001b[39;49mread_file(\u001b[39m\"\u001b[39;49m\u001b[39mdata/digital_ocean/AL_slr_final_dist.gdb\u001b[39;49m\u001b[39m\"\u001b[39;49m, layer\u001b[39m=\u001b[39;49m\u001b[39m\"\u001b[39;49m\u001b[39mAL_slr_3ft\u001b[39;49m\u001b[39m\"\u001b[39;49m)\n",
      "File \u001b[1;32md:\\miniconda3\\envs\\py38\\lib\\site-packages\\geopandas\\io\\file.py:203\u001b[0m, in \u001b[0;36m_read_file\u001b[1;34m(filename, bbox, mask, rows, **kwargs)\u001b[0m\n\u001b[0;32m    198\u001b[0m \u001b[39mif\u001b[39;00m kwargs\u001b[39m.\u001b[39mget(\u001b[39m\"\u001b[39m\u001b[39mignore_geometry\u001b[39m\u001b[39m\"\u001b[39m, \u001b[39mFalse\u001b[39;00m):\n\u001b[0;32m    199\u001b[0m     \u001b[39mreturn\u001b[39;00m pd\u001b[39m.\u001b[39mDataFrame(\n\u001b[0;32m    200\u001b[0m         [record[\u001b[39m\"\u001b[39m\u001b[39mproperties\u001b[39m\u001b[39m\"\u001b[39m] \u001b[39mfor\u001b[39;00m record \u001b[39min\u001b[39;00m f_filt], columns\u001b[39m=\u001b[39mcolumns\n\u001b[0;32m    201\u001b[0m     )\n\u001b[1;32m--> 203\u001b[0m \u001b[39mreturn\u001b[39;00m GeoDataFrame\u001b[39m.\u001b[39;49mfrom_features(\n\u001b[0;32m    204\u001b[0m     f_filt, crs\u001b[39m=\u001b[39;49mcrs, columns\u001b[39m=\u001b[39;49mcolumns \u001b[39m+\u001b[39;49m [\u001b[39m\"\u001b[39;49m\u001b[39mgeometry\u001b[39;49m\u001b[39m\"\u001b[39;49m]\n\u001b[0;32m    205\u001b[0m )\n",
      "File \u001b[1;32md:\\miniconda3\\envs\\py38\\lib\\site-packages\\geopandas\\geodataframe.py:577\u001b[0m, in \u001b[0;36mGeoDataFrame.from_features\u001b[1;34m(cls, features, crs, columns)\u001b[0m\n\u001b[0;32m    574\u001b[0m     features_lst \u001b[39m=\u001b[39m features\n\u001b[0;32m    576\u001b[0m rows \u001b[39m=\u001b[39m []\n\u001b[1;32m--> 577\u001b[0m \u001b[39mfor\u001b[39;00m feature \u001b[39min\u001b[39;00m features_lst:\n\u001b[0;32m    578\u001b[0m     \u001b[39m# load geometry\u001b[39;00m\n\u001b[0;32m    579\u001b[0m     \u001b[39mif\u001b[39;00m \u001b[39mhasattr\u001b[39m(feature, \u001b[39m\"\u001b[39m\u001b[39m__geo_interface__\u001b[39m\u001b[39m\"\u001b[39m):\n\u001b[0;32m    580\u001b[0m         feature \u001b[39m=\u001b[39m feature\u001b[39m.\u001b[39m__geo_interface__\n",
      "File \u001b[1;32mfiona/ogrext.pyx:1373\u001b[0m, in \u001b[0;36mfiona.ogrext.Iterator.__next__\u001b[1;34m()\u001b[0m\n",
      "File \u001b[1;32md:\\miniconda3\\envs\\py38\\lib\\site-packages\\fiona\\collection.py:187\u001b[0m, in \u001b[0;36mCollection.driver\u001b[1;34m(self)\u001b[0m\n\u001b[0;32m    184\u001b[0m \u001b[39m@property\u001b[39m\n\u001b[0;32m    185\u001b[0m \u001b[39mdef\u001b[39;00m \u001b[39mdriver\u001b[39m(\u001b[39mself\u001b[39m):\n\u001b[0;32m    186\u001b[0m     \u001b[39m\"\"\"Returns the name of the proper OGR driver.\"\"\"\u001b[39;00m\n\u001b[1;32m--> 187\u001b[0m     \u001b[39mif\u001b[39;00m \u001b[39mnot\u001b[39;00m \u001b[39mself\u001b[39;49m\u001b[39m.\u001b[39;49m_driver \u001b[39mand\u001b[39;00m \u001b[39mself\u001b[39m\u001b[39m.\u001b[39mmode \u001b[39min\u001b[39;00m (\u001b[39m\"\u001b[39m\u001b[39ma\u001b[39m\u001b[39m\"\u001b[39m, \u001b[39m\"\u001b[39m\u001b[39mr\u001b[39m\u001b[39m\"\u001b[39m) \u001b[39mand\u001b[39;00m \u001b[39mself\u001b[39m\u001b[39m.\u001b[39msession:\n\u001b[0;32m    188\u001b[0m         \u001b[39mself\u001b[39m\u001b[39m.\u001b[39m_driver \u001b[39m=\u001b[39m \u001b[39mself\u001b[39m\u001b[39m.\u001b[39msession\u001b[39m.\u001b[39mget_driver()\n\u001b[0;32m    189\u001b[0m     \u001b[39mreturn\u001b[39;00m \u001b[39mself\u001b[39m\u001b[39m.\u001b[39m_driver\n",
      "\u001b[1;31mKeyboardInterrupt\u001b[0m: "
     ]
    }
   ],
   "source": [
    "gdf = gpd.read_file(\"data/digital_ocean/AL_slr_final_dist.gdb\", layer=\"AL_slr_3ft\")"
   ]
  },
  {
   "cell_type": "code",
   "execution_count": null,
   "metadata": {},
   "outputs": [],
   "source": []
  },
  {
   "cell_type": "code",
   "execution_count": 12,
   "metadata": {},
   "outputs": [
    {
     "name": "stdout",
     "output_type": "stream",
     "text": [
      "AL\n",
      "CA\n",
      "CA\n",
      "CA\n",
      "CA\n",
      "CA\n",
      "CT\n",
      "DC\n",
      "DE\n",
      "FL\n",
      "FL\n",
      "FL\n",
      "FL\n",
      "FL\n",
      "FL\n",
      "FL\n",
      "GA\n",
      "LA\n",
      "LA\n",
      "LA\n",
      "LA\n",
      "LA\n",
      "LA\n",
      "MA\n",
      "MD\n",
      "MD\n",
      "MD\n",
      "MD\n",
      "MD\n",
      "ME\n",
      "ME\n",
      "MS\n",
      "NC\n",
      "NC\n",
      "NC\n",
      "NC\n",
      "NC\n",
      "NH\n",
      "NJ\n",
      "NJ\n",
      "NJ\n",
      "NY\n",
      "NY\n",
      "NY\n",
      "OR\n",
      "OR\n",
      "PA\n",
      "RI\n",
      "SC\n",
      "SC\n",
      "SC\n",
      "TX\n",
      "TX\n",
      "TX\n",
      "TX\n",
      "TX\n",
      "VA\n",
      "VA\n",
      "VA\n",
      "VA\n",
      "WA\n",
      "WA\n",
      "WA\n",
      "WA\n"
     ]
    }
   ],
   "source": [
    "for dir in dirs:\n",
    "    state = dir[19:21]\n",
    "    li = fiona.listlayers(dir)\n",
    "    for layer in li:\n",
    "        if layer.contains(\"slr\" and layer.contains(\"6ft\")):\n",
    "            "
   ]
  }
 ],
 "metadata": {
  "kernelspec": {
   "display_name": "Python 3.8.13 ('py38')",
   "language": "python",
   "name": "python3"
  },
  "language_info": {
   "codemirror_mode": {
    "name": "ipython",
    "version": 3
   },
   "file_extension": ".py",
   "mimetype": "text/x-python",
   "name": "python",
   "nbconvert_exporter": "python",
   "pygments_lexer": "ipython3",
   "version": "3.8.13"
  },
  "orig_nbformat": 4,
  "vscode": {
   "interpreter": {
    "hash": "e152438521f1d49a73207c4e39d9e6ed51b9dde58809b9dbc3ef11997122da89"
   }
  }
 },
 "nbformat": 4,
 "nbformat_minor": 2
}
